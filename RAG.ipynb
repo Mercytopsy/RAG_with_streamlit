{
 "cells": [
  {
   "cell_type": "markdown",
   "metadata": {},
   "source": [
    "### Installation"
   ]
  },
  {
   "cell_type": "code",
   "execution_count": null,
   "metadata": {},
   "outputs": [],
   "source": [
    "\n",
    "# %pip install langchain langchain-community python_dotenv\n",
    "# %pip install langchain-openai\n",
    "\n",
    "# %pip install pandas numpy\n",
    "# %pip install streamlit\n",
    "\n",
    "# %pip install \"unstructured[all-docs]<=0.16.10\"\n",
    "# %pip install langchain_postgres\n",
    "\n",
    "# %pip install redis>=4.1.0"
   ]
  },
  {
   "cell_type": "markdown",
   "metadata": {},
   "source": [
    "### Import Libraries"
   ]
  },
  {
   "cell_type": "code",
   "execution_count": 1,
   "metadata": {},
   "outputs": [
    {
     "name": "stderr",
     "output_type": "stream",
     "text": [
      "/workspace/.pyenv_mirror/user/current/lib/python3.12/site-packages/tqdm/auto.py:21: TqdmWarning: IProgress not found. Please update jupyter and ipywidgets. See https://ipywidgets.readthedocs.io/en/stable/user_install.html\n",
      "  from .autonotebook import tqdm as notebook_tqdm\n"
     ]
    }
   ],
   "source": [
    "from unstructured.partition.pdf import partition_pdf\n",
    "from langchain_openai import ChatOpenAI\n",
    "from langchain_core.messages import SystemMessage, HumanMessage\n",
    "from langchain_core.prompts import ChatPromptTemplate\n",
    "from langchain_core.output_parsers import StrOutputParser\n",
    "from langchain.schema.runnable import RunnablePassthrough,RunnableLambda\n",
    "\n",
    "from langchain_postgres.vectorstores import PGVector\n",
    "from database import COLLECTION_NAME, CONNECTION_STRING\n",
    "from langchain_community.storage import RedisStore\n",
    "from langchain.schema.document import Document\n",
    "from langchain_openai import OpenAIEmbeddings\n",
    "from langchain.retrievers.multi_vector import MultiVectorRetriever\n",
    "from pathlib import Path\n",
    "from IPython.display import display, HTML\n",
    "from base64 import b64decode\n",
    "import os, hashlib, shutil, uuid, json, time\n",
    "import torch, redis, streamlit as st\n",
    "import logging\n",
    "# Initialize Redis client\n",
    "client = redis.Redis(host=\"localhost\", port=6379, db=0)"
   ]
  },
  {
   "cell_type": "code",
   "execution_count": 2,
   "metadata": {},
   "outputs": [
    {
     "data": {
      "text/plain": [
       "True"
      ]
     },
     "execution_count": 2,
     "metadata": {},
     "output_type": "execute_result"
    }
   ],
   "source": [
    "from dotenv import load_dotenv\n",
    "load_dotenv()"
   ]
  },
  {
   "cell_type": "code",
   "execution_count": 3,
   "metadata": {},
   "outputs": [],
   "source": [
    "FILE_PATH = Path(\"data/hbspapers_48__1.pdf\") "
   ]
  },
  {
   "cell_type": "markdown",
   "metadata": {},
   "source": [
    "### Data Loading"
   ]
  },
  {
   "cell_type": "markdown",
   "metadata": {},
   "source": [
    "Partition tables and text into chunks"
   ]
  },
  {
   "cell_type": "code",
   "execution_count": 4,
   "metadata": {},
   "outputs": [],
   "source": [
    "\n",
    "def data_loading():\n",
    "\n",
    "    raw_pdf_elements = partition_pdf(\n",
    "        filename=FILE_PATH,\n",
    "      \n",
    "        infer_table_structure=True,\n",
    "        strategy = \"hi_res\",\n",
    "        \n",
    "        extract_image_block_types = [\"Image\"],\n",
    "        extract_image_block_to_payload  = True,\n",
    "\n",
    "        chunking_strategy=\"by_title\",     \n",
    "        mode='elements',\n",
    "        max_characters=10000,\n",
    "        new_after_n_chars=5000,\n",
    "        combine_text_under_n_chars=2000,\n",
    "        image_output_dir_path=\"data/\",\n",
    "    )\n",
    "    return raw_pdf_elements"
   ]
  },
  {
   "cell_type": "code",
   "execution_count": 5,
   "metadata": {},
   "outputs": [],
   "source": [
    "pdf_elements = data_loading()"
   ]
  },
  {
   "cell_type": "code",
   "execution_count": 6,
   "metadata": {},
   "outputs": [
    {
     "data": {
      "text/plain": [
       "[<unstructured.documents.elements.CompositeElement at 0x7fb297400320>,\n",
       " <unstructured.documents.elements.CompositeElement at 0x7fb298331c40>,\n",
       " <unstructured.documents.elements.CompositeElement at 0x7fb297941070>,\n",
       " <unstructured.documents.elements.CompositeElement at 0x7fb297940f20>,\n",
       " <unstructured.documents.elements.CompositeElement at 0x7fb2985eb5f0>,\n",
       " <unstructured.documents.elements.CompositeElement at 0x7fb29825fc80>,\n",
       " <unstructured.documents.elements.CompositeElement at 0x7fb2983d3710>,\n",
       " <unstructured.documents.elements.Table at 0x7fb2807ddf70>,\n",
       " <unstructured.documents.elements.CompositeElement at 0x7fb297e715b0>,\n",
       " <unstructured.documents.elements.Table at 0x7fb297e70470>,\n",
       " <unstructured.documents.elements.CompositeElement at 0x7fb297e71730>,\n",
       " <unstructured.documents.elements.Table at 0x7fb297e709e0>,\n",
       " <unstructured.documents.elements.CompositeElement at 0x7fb297e707d0>,\n",
       " <unstructured.documents.elements.Table at 0x7fb297e70200>,\n",
       " <unstructured.documents.elements.CompositeElement at 0x7fb297e70800>,\n",
       " <unstructured.documents.elements.Table at 0x7fb297e71790>,\n",
       " <unstructured.documents.elements.CompositeElement at 0x7fb297e71550>,\n",
       " <unstructured.documents.elements.Table at 0x7fb297e715e0>,\n",
       " <unstructured.documents.elements.CompositeElement at 0x7fb297e70260>,\n",
       " <unstructured.documents.elements.CompositeElement at 0x7fb29812bce0>]"
      ]
     },
     "execution_count": 6,
     "metadata": {},
     "output_type": "execute_result"
    }
   ],
   "source": [
    "pdf_elements"
   ]
  },
  {
   "cell_type": "code",
   "execution_count": 44,
   "metadata": {},
   "outputs": [],
   "source": [
    "# tables[0].metadata.to_dict()"
   ]
  },
  {
   "cell_type": "code",
   "execution_count": 7,
   "metadata": {},
   "outputs": [],
   "source": [
    "tables = [element.metadata.text_as_html for element in pdf_elements if 'Table' in str(type(element))]\n",
    "text = [element.text for element in pdf_elements if 'CompositeElement' in str(type(element))]"
   ]
  },
  {
   "cell_type": "code",
   "execution_count": 8,
   "metadata": {},
   "outputs": [
    {
     "data": {
      "text/plain": [
       "['<table><tr><td/><td>Beef</td><td>Veal</td><td>Lamb</td><td>Mutton</td><td>Adult Australian RDI</td></tr><tr><td>Moisture (g)</td><td>73.1</td><td>74.8</td><td>72.9</td><td>73.2</td><td/></tr><tr><td>Protein (g)</td><td>23.2</td><td>24.8</td><td>21.9</td><td>21.5</td><td>46-64</td></tr><tr><td>Fat (g)</td><td>2.8</td><td>1.5</td><td>4.7</td><td>4.0</td><td>-</td></tr><tr><td>Energy (kJ)</td><td>498</td><td>477</td><td>546</td><td>514</td><td>6.5-15.8MJ</td></tr><tr><td>Cholesterol (mg)</td><td>50</td><td>51</td><td>66</td><td>66</td><td>-</td></tr><tr><td>Thiamin (mg)</td><td>0.04</td><td>0.06</td><td>0.12</td><td>0.16</td><td>1.1-1.2</td></tr><tr><td>Riboflavin (mg)</td><td>0.18</td><td>0.20</td><td>0.23</td><td>0.25</td><td>1.1-1.6</td></tr><tr><td>Niacin (mg)</td><td>5.0</td><td>16.0</td><td>5.2</td><td>8.0</td><td>14-16</td></tr><tr><td>Vitamin B6 (mg)</td><td>0.52</td><td>0.8</td><td>0.10</td><td>0.8</td><td>1.3-1.7</td></tr><tr><td>Vitamin B12 (ug)</td><td>2.5</td><td>1.6</td><td>0.96</td><td>2.8</td><td>2.4</td></tr><tr><td>Pantothenic acid (mg)</td><td>0.35</td><td>1.50</td><td>0.74</td><td>1.33</td><td>4-6</td></tr><tr><td>Vitamin A (ug)</td><td>&lt;5</td><td>&lt;5</td><td>8.6</td><td>7.8</td><td>700-900ug RE*</td></tr><tr><td>Beta-carotene (ug)</td><td>10</td><td>&lt;5</td><td>&lt;5</td><td>&lt;5</td><td>700-900pg RE*</td></tr><tr><td>Alpha-tocopherol (mg)</td><td>0.63</td><td>0.50</td><td>0.44</td><td>0.20</td><td>7-10</td></tr><tr><td>Sodium (mg)</td><td>51</td><td>51</td><td>69</td><td>71</td><td>460-920</td></tr><tr><td>Potassium (mg)</td><td>363</td><td>362</td><td>344</td><td>365</td><td>2800-3800</td></tr><tr><td>Calcium (mg)</td><td>4.5</td><td>6.5</td><td>7.2</td><td>6.6</td><td>1000-1300</td></tr><tr><td>Iron (mg)</td><td>1.8</td><td>1.1</td><td>2.0</td><td>3.3</td><td>8-18</td></tr><tr><td>Zinc (mg)</td><td>4.6</td><td>4.2</td><td>4.5</td><td>3.9</td><td>8-14</td></tr><tr><td>Magnesium (mg)</td><td>25</td><td>26</td><td>28</td><td>28</td><td>310-420</td></tr><tr><td>Phosphorus (mg)</td><td>215</td><td>260</td><td>194</td><td>290</td><td>1000</td></tr><tr><td>Copper (mg)</td><td>0.12</td><td>0.08</td><td>0.12</td><td>0.22</td><td>1.2-1.7</td></tr></table>',\n",
       " '<table><tr><td>Meat Cut</td><td>% Lean</td><td>% External Fat</td><td>% Internal Fat</td></tr><tr><td>Beef</td></tr><tr><td>Topside roast</td><td>91</td><td>6</td><td>3</td></tr><tr><td>Silverside roast</td><td>89</td><td/><td>4</td></tr><tr><td>Blade steak</td><td>88</td><td>6</td><td>6</td></tr><tr><td>Porterhouse steak</td><td>77</td><td>18</td><td>5</td></tr><tr><td>Stir fry</td><td>98</td><td>2</td><td>0</td></tr><tr><td>Scotch fillet</td><td>81</td><td/><td>11</td></tr><tr><td>Veal</td></tr><tr><td>Leg steak</td><td>99</td><td/><td>1</td></tr><tr><td>Diced</td><td>98</td><td/><td/></tr><tr><td>Cutlet</td><td>93</td><td>1</td><td/></tr><tr><td>Lamb</td></tr><tr><td>Leg roast</td><td>83</td><td>11</td><td>6</td></tr><tr><td>Chump chop</td><td>75</td><td>15</td><td>10</td></tr><tr><td>Diced</td><td>98</td><td>2</td><td>0</td></tr><tr><td>Easy carve shoulder</td><td>77</td><td>12</td><td>11</td></tr><tr><td>Loin chop</td><td>63</td><td>29</td><td>8</td></tr><tr><td>Mutton</td><td/><td/><td/></tr><tr><td>Leg</td><td>85</td><td>9</td><td/></tr></table>',\n",
       " '<table><tr><td>Meat Cut</td><td>Total fat (g)</td><td>Cholesterol (mg)</td></tr><tr><td>Beef</td></tr><tr><td>Diced, raw</td><td>2.7</td><td>54</td></tr><tr><td>Diced, cooked</td><td>3.0</td><td>77</td></tr><tr><td>Round steak, raw</td><td>1.7</td><td>62</td></tr><tr><td>Round steak, cooked</td><td>2.0</td><td>715</td></tr><tr><td>Topside roast, raw</td><td>47</td><td>35</td></tr><tr><td>Topside roast, cooked</td><td>2.8</td><td>62</td></tr><tr><td>Sirloin steak, raw</td><td>1.9</td><td>58</td></tr><tr><td>Sirloin steak, cooked</td><td>3.8</td><td>70</td></tr><tr><td>Scotch fillet, raw Scotch fillet, cooked</td><td>2.8 4.5</td><td>58 70</td></tr><tr><td>Regular mince, raw</td><td>10.8</td><td>76</td></tr><tr><td>Regular mince, cooked Low fat mince, raw</td><td>12.7 6.8</td><td>99 61</td></tr><tr><td>Leg steak, raw</td><td>1.5</td><td>57</td></tr><tr><td>Leg steak, cooked Cutlet, raw</td><td>1.9 1.1</td><td>85 35</td></tr><tr><td>Cutlet, cooked</td><td>2.0</td><td>41</td></tr><tr><td>Diced, raw</td><td>5.2</td><td>78</td></tr><tr><td>Diced, cooked</td><td>6.5</td><td>96</td></tr><tr><td>Leg roast, raw</td><td>3.2</td><td>71</td></tr><tr><td>Leg roast, cooked</td><td>6.0</td><td>80</td></tr><tr><td>Easy carve shoulder, raw</td><td>43</td><td>54</td></tr><tr><td>Easy carve shoulder, cooked</td><td>5.4</td><td>86</td></tr><tr><td>Chump chop, raw</td><td>4.3</td><td>73</td></tr><tr><td>Chump chop, cooked</td><td>10.2</td><td>93</td></tr><tr><td>Cutlet, raw</td><td>6.7</td><td>67</td></tr><tr><td>Cutlet, cooked</td><td>8.6</td><td>96</td></tr><tr><td>Lamb mince, raw</td><td>6.9</td><td>61</td></tr><tr><td>Lamb mince, cooked Mutton</td><td>8.5</td><td>93</td></tr><tr><td>Leg roast, raw</td><td>4.2</td><td>76</td></tr><tr><td>Leg roast, cooked</td><td>11.4</td><td>130</td></tr><tr><td>Casserole, raw Casserole, cooked</td><td>3.8 77</td><td>56 63</td></tr></table>',\n",
       " '<table><tr><td>Fatty</td><td/><td>|</td><td>| |</td><td>|</td><td>chicken”</td><td>Lean pork?</td><td>| fish*</td><td>Oily fish?</td></tr><tr><td>C14:0</td><td>0.096</td><td>| 0.034 |</td><td>0.101</td><td>0.060</td><td>0.020</td><td>0.010</td><td>0.020 |</td><td>0.680</td></tr><tr><td>C15:0</td><td>0.012 |</td><td>0.006 |</td><td>0.016</td><td>0.011</td><td>0.000</td><td>0.000</td><td>0.000 |</td><td>0.070</td></tr><tr><td>C16:0</td><td>0.607</td><td>| 0.215 |</td><td>0.842</td><td>0.667</td><td>0.340</td><td>0.250</td><td>0.180 |</td><td>2.170</td></tr><tr><td>C17:0</td><td>0.028</td><td>| 0.009 |</td><td>0.051</td><td>0.036</td><td>0.010</td><td>0.000</td><td>0.000 |</td><td>0.050</td></tr><tr><td>C18:0</td><td>0.356</td><td>| 0.119 |</td><td>0.644</td><td>0.609</td><td>0.120</td><td>0.130</td><td>0.050 |</td><td>0.350</td></tr><tr><td>Total saturated</td><td>1.149 |</td><td>0.409 |</td><td>1.730</td><td>1.464</td><td>0.500</td><td>0.400</td><td>0.300 |</td><td>3.320</td></tr><tr><td>C14:1</td><td>0.025 |</td><td>0.007 |</td><td>0.004</td><td>0.003</td><td>0.000</td><td>0.000</td><td>0.000 |</td><td>0.000</td></tr><tr><td>C16:1</td><td>0.082</td><td>| 0.033 |</td><td>0.066</td><td>0.039</td><td>0.004</td><td>0.030</td><td>0.060 |</td><td>0.590</td></tr><tr><td>C18:1</td><td>1.103 |</td><td>0.356 |</td><td>1.995</td><td>1.370</td><td>0.620</td><td>0.390</td><td>0.110 |</td><td>2.190</td></tr><tr><td>C20:1</td><td>0.015 |</td><td>0.048 |</td><td>0.010</td><td>0.011</td><td>0.010</td><td>0.010</td><td>0.010 |</td><td>1.340</td></tr><tr><td>Total monounsaturated</td><td>1.205 |</td><td>0.399 |</td><td>2.066</td><td>1.413</td><td>0.700</td><td>0.430</td><td>0.200 |</td><td>5.390</td></tr><tr><td>C18:2 w-6</td><td>0.204</td><td>| 0.090 |</td><td>0.321</td><td>0.339</td><td>0.210</td><td>0.120</td><td>0.010 |</td><td>0.250</td></tr><tr><td>C18:3 w-3</td><td>0.048 |</td><td>0.022 |</td><td>0.072</td><td>0.107</td><td>0.010</td><td>0.010</td><td>0.000 |</td><td>0.130</td></tr><tr><td>C20:3 w-6</td><td>0.020</td><td>| 0.012 |</td><td>0.009</td><td>0.009</td><td>0.008</td><td>0.003</td><td>0.000 |</td><td>0.000</td></tr><tr><td>C20:4 w-6</td><td>0.076</td><td>| 0.056 |</td><td>0.094</td><td>0.101</td><td>0.030</td><td>0.019</td><td>0.040 |</td><td>0.050</td></tr><tr><td>C20:5 w-3 (EPA)</td><td>0.031 |</td><td>0.028 |</td><td>0.028</td><td>0.044</td><td>0.005</td><td>0.000</td><td>0.048 |</td><td>0.913</td></tr><tr><td>C22:5 w-3 (DPA)</td><td>0.051 |</td><td>0.033 |</td><td>0.044</td><td>0.053</td><td>0.009</td><td>0.006</td><td>0.021 |</td><td>0.194</td></tr><tr><td>C22:6 w-3 (DHA)</td><td>0.006 |</td><td>0.003 |</td><td>0.013</td><td>0.020</td><td>0.009</td><td>0.004</td><td>0.111 |</td><td>1.118</td></tr><tr><td>Total polyunsaturated</td><td>0.448 |</td><td>0.259 |</td><td>0.603</td><td>0.673</td><td>0.300</td><td>0.200</td><td>0.200 |</td><td>2.655</td></tr><tr><td>Total w-3</td><td>0.136 |</td><td>0.086 |</td><td>0.157</td><td>0.224</td><td>0.033</td><td>0.020</td><td>0.180 |</td><td>2.355</td></tr><tr><td>Total o-6</td><td>0.300</td><td>| 0.244 |</td><td>0.424</td><td>0.449</td><td>0.258</td><td>0.148</td><td>0.050 |</td><td>0.250</td></tr><tr><td>Ratio w-3/ o-6</td><td>0.45</td><td>0.36</td><td>0.37</td><td>0.50</td><td>0.13</td><td>0.14</td><td>3.60</td><td>10.42</td></tr></table>',\n",
       " '<table><tr><td/><td>Liver</td><td>Kidney</td><td>Heart</td><td/><td>Brain</td><td>Tripe Beef</td></tr><tr><td/><td>Beef</td><td>Lamb</td><td>Beef</td><td>Lamb</td><td>Beef</td><td>Lamb</td><td>Lamb</td></tr><tr><td>Protein (g)</td><td>20.0</td><td>21.4</td><td>18.2</td><td>17.1</td><td>18.2</td><td>17.8</td><td>12.3</td><td>13.2</td></tr><tr><td>Fat (g)</td><td>8.6</td><td>7.5</td><td>1.6</td><td>2.5</td><td>3.0</td><td>5.6</td><td>8.0</td><td>2.1</td></tr><tr><td>Saturated fat (g)</td><td>2.8</td><td>2.2</td><td>0.6</td><td>0.9</td><td>1.2</td><td>2.3</td><td>2.2</td><td>0.9</td></tr><tr><td>Long-chain omega-3 fat (mg)</td><td>561</td><td>361</td><td>47</td><td>103</td><td>54</td><td>102</td><td>574</td><td>20</td></tr><tr><td>Cholesterol (mg)</td><td>271</td><td>433</td><td>313</td><td>338</td><td>103</td><td>129</td><td>1352</td><td>82</td></tr><tr><td>Thiamin (mg)</td><td>0.23</td><td>0.24</td><td>0.40</td><td>0.56</td><td>0.50</td><td>0.61</td><td>0.14</td><td>0</td></tr><tr><td>Riboflavin (mg)</td><td>4.80</td><td>2.80</td><td>3.60</td><td>2.10</td><td>1.50</td><td>1.10</td><td>0.40</td><td>0.10</td></tr><tr><td>Niacin (mg)</td><td>9.4</td><td>10.9</td><td>6.5</td><td>7.6</td><td>6.9</td><td>5.9</td><td>5.1</td><td>0.2</td></tr><tr><td>Folate (ug)</td><td>290</td><td>230</td><td>98</td><td>28</td><td>3</td><td>2</td><td>3</td><td>5</td></tr><tr><td>Vitamin B12 (ug)</td><td>59</td><td>90</td><td>28</td><td>52</td><td>9</td><td>10</td><td>11</td><td>1</td></tr><tr><td>Retinol equivalents (ug)</td><td>13877</td><td>31400</td><td>155</td><td>93</td><td>10</td><td>0</td><td>0</td><td>0</td></tr><tr><td>Zinc (mg)</td><td>3.6</td><td>4.3</td><td>1.8</td><td>2.6</td><td>1.6</td><td>1.6</td><td>1.1</td><td>1.2</td></tr><tr><td>Iron (mg)</td><td>5.8</td><td>9.5</td><td>5.4</td><td>9.8</td><td>5.0</td><td>3.9</td><td>1.7</td><td>0.4</td></tr><tr><td>Magnesium (mg)</td><td>15</td><td>19</td><td>15</td><td>16</td><td>17</td><td>17</td><td>12</td><td>6</td></tr><tr><td>Sodium (mg)</td><td>78</td><td>67</td><td>160</td><td>190</td><td>91</td><td>82</td><td>120</td><td>100</td></tr><tr><td>Potassium (mg)</td><td>320</td><td>300</td><td>250</td><td>260</td><td>280</td><td>260</td><td>340</td><td>23</td></tr></table>',\n",
       " '<table><tr><td/><td>RDI/AI for male 31-50y</td><td>Beef\"</td><td>Lamb’</td><td>Egg”</td><td>Cheddar cheese”</td><td>| Baked beans | salt reduced”</td><td>Walnuts”</td></tr><tr><td>Protein</td><td>64g</td><td>36</td><td>34</td><td>21</td><td>40</td><td>7</td><td>23</td></tr><tr><td>Long-chain omega-3 fat</td><td>160mg</td><td>50</td><td>53</td><td>111</td><td>55</td><td>0</td><td>0</td></tr><tr><td>Thiamin</td><td>1.2mg</td><td>3</td><td>8</td><td>8</td><td>3</td><td>4</td><td>28</td></tr><tr><td>Riboflavin</td><td>1.3mg</td><td>25</td><td>15</td><td>31</td><td>39</td><td>0</td><td>14</td></tr><tr><td>Niacin</td><td>16mg</td><td>31</td><td>70</td><td>0)</td><td>&lt;l</td><td>5</td><td>9</td></tr><tr><td>Vitamin B6</td><td>1.3mg</td><td>23</td><td>43</td><td>5</td><td>6</td><td>8</td><td>33</td></tr><tr><td>Vitamin B12</td><td>2.4ug</td><td>79</td><td>71</td><td>58</td><td>35</td><td>0)</td><td>0</td></tr><tr><td>Pantothenic acid</td><td>6mg</td><td>12</td><td>13</td><td>34</td><td>7</td><td>&lt;l</td><td>11</td></tr><tr><td>Vitamin A</td><td>900ug</td><td>&lt;l</td><td>&lt;l</td><td>25</td><td>43</td><td>&lt;l</td><td>&lt;l</td></tr><tr><td>Vitamin E</td><td>10mg</td><td>7</td><td>5</td><td>22</td><td>40</td><td>1</td><td>26</td></tr><tr><td>Phosphorus</td><td>1000mg</td><td>22</td><td>23</td><td>20</td><td>47</td><td>8</td><td>37</td></tr><tr><td>Zinc</td><td>14mg</td><td>30</td><td>31</td><td>9</td><td>26</td><td>4</td><td>18</td></tr><tr><td>Iron</td><td>8mg</td><td>24</td><td>25</td><td>26</td><td>3</td><td>20</td><td>31</td></tr><tr><td>Magnesium</td><td>420mg</td><td>6</td><td>6</td><td>2</td><td>7</td><td>6</td><td>36</td></tr><tr><td>Selenium</td><td>70ug</td><td>29</td><td>21</td><td>37</td><td>15</td><td>5</td><td>3</td></tr><tr><td>Sodium</td><td>920mg</td><td>6</td><td>7</td><td>13</td><td>72</td><td>23</td><td>&lt;1</td></tr><tr><td>Potassium</td><td>3800mg</td><td>9</td><td>9</td><td>3</td><td>2</td><td>6</td><td>12</td></tr></table>']"
      ]
     },
     "execution_count": 8,
     "metadata": {},
     "output_type": "execute_result"
    }
   ],
   "source": [
    "tables"
   ]
  },
  {
   "cell_type": "code",
   "execution_count": 9,
   "metadata": {},
   "outputs": [
    {
     "data": {
      "text/html": [
       "<table><tr><td/><td>Beef</td><td>Veal</td><td>Lamb</td><td>Mutton</td><td>Adult Australian RDI</td></tr><tr><td>Moisture (g)</td><td>73.1</td><td>74.8</td><td>72.9</td><td>73.2</td><td/></tr><tr><td>Protein (g)</td><td>23.2</td><td>24.8</td><td>21.9</td><td>21.5</td><td>46-64</td></tr><tr><td>Fat (g)</td><td>2.8</td><td>1.5</td><td>4.7</td><td>4.0</td><td>-</td></tr><tr><td>Energy (kJ)</td><td>498</td><td>477</td><td>546</td><td>514</td><td>6.5-15.8MJ</td></tr><tr><td>Cholesterol (mg)</td><td>50</td><td>51</td><td>66</td><td>66</td><td>-</td></tr><tr><td>Thiamin (mg)</td><td>0.04</td><td>0.06</td><td>0.12</td><td>0.16</td><td>1.1-1.2</td></tr><tr><td>Riboflavin (mg)</td><td>0.18</td><td>0.20</td><td>0.23</td><td>0.25</td><td>1.1-1.6</td></tr><tr><td>Niacin (mg)</td><td>5.0</td><td>16.0</td><td>5.2</td><td>8.0</td><td>14-16</td></tr><tr><td>Vitamin B6 (mg)</td><td>0.52</td><td>0.8</td><td>0.10</td><td>0.8</td><td>1.3-1.7</td></tr><tr><td>Vitamin B12 (ug)</td><td>2.5</td><td>1.6</td><td>0.96</td><td>2.8</td><td>2.4</td></tr><tr><td>Pantothenic acid (mg)</td><td>0.35</td><td>1.50</td><td>0.74</td><td>1.33</td><td>4-6</td></tr><tr><td>Vitamin A (ug)</td><td>&lt;5</td><td>&lt;5</td><td>8.6</td><td>7.8</td><td>700-900ug RE*</td></tr><tr><td>Beta-carotene (ug)</td><td>10</td><td>&lt;5</td><td>&lt;5</td><td>&lt;5</td><td>700-900pg RE*</td></tr><tr><td>Alpha-tocopherol (mg)</td><td>0.63</td><td>0.50</td><td>0.44</td><td>0.20</td><td>7-10</td></tr><tr><td>Sodium (mg)</td><td>51</td><td>51</td><td>69</td><td>71</td><td>460-920</td></tr><tr><td>Potassium (mg)</td><td>363</td><td>362</td><td>344</td><td>365</td><td>2800-3800</td></tr><tr><td>Calcium (mg)</td><td>4.5</td><td>6.5</td><td>7.2</td><td>6.6</td><td>1000-1300</td></tr><tr><td>Iron (mg)</td><td>1.8</td><td>1.1</td><td>2.0</td><td>3.3</td><td>8-18</td></tr><tr><td>Zinc (mg)</td><td>4.6</td><td>4.2</td><td>4.5</td><td>3.9</td><td>8-14</td></tr><tr><td>Magnesium (mg)</td><td>25</td><td>26</td><td>28</td><td>28</td><td>310-420</td></tr><tr><td>Phosphorus (mg)</td><td>215</td><td>260</td><td>194</td><td>290</td><td>1000</td></tr><tr><td>Copper (mg)</td><td>0.12</td><td>0.08</td><td>0.12</td><td>0.22</td><td>1.2-1.7</td></tr></table>"
      ],
      "text/plain": [
       "<IPython.core.display.HTML object>"
      ]
     },
     "metadata": {},
     "output_type": "display_data"
    }
   ],
   "source": [
    "\n",
    "display(HTML(tables[0]))"
   ]
  },
  {
   "cell_type": "code",
   "execution_count": 10,
   "metadata": {},
   "outputs": [
    {
     "data": {
      "text/plain": [
       "['University of Wollongong\\n\\nResearch Online\\n\\nFaculty of Health and Behavioural Sciences - Papers (Archive)\\n\\nFaculty of Science, Medicine and Health\\n\\nSeptember 2007\\n\\nNutritional composition of red meat\\n\\nP. G. Williams University of Wollongong, peterw@uow.edu.au\\n\\nFollow this and additional works at: https://ro.uow.edu.au/hbspapers\\n\\nPart of the Arts and Humanities Commons, Life Sciences Commons, Medicine and Health Sciences Commons, and the Social and Behavioral Sciences Commons\\n\\nRecommended Citation\\n\\nWilliams, P. G.: Nutritional composition of red meat 2007. https://ro.uow.edu.au/hbspapers/48\\n\\nResearch Online is the open access institutional repository for the University of Wollongong. For further information contact the UOW Library: research-pubs@uow.edu.au\\n\\nNutritional composition of red meat\\n\\nAbstract\\n\\nLean red meats are: • An excellent source of high biological value protein, vitamin B12, niacin, vitamin B6, iron, zinc and phosphorus • A source of long-chain omega-3 polyunsaturated fats, riboflavin, pantothenic acid, selenium and possibly also vitamin D • Mostly low in fat and sodium • Sources of a range of endogenous antioxidants and other bioactive substances including taurine, carnitine, carnosine, ubiquinone, glutathione and creatine.\\n\\nKeywords\\n\\nred meat, nutrients, beef, lamb, mutton, veal\\n\\nDisciplines\\n\\nArts and Humanities | Life Sciences | Medicine and Health Sciences | Social and Behavioral Sciences\\n\\nPublication Details\\n\\nThis article was originally published as: Williams, PG, Nutritional composition of red meat, Nutrition & Dietetics, 2007, 64(Suppl 4), S113-S119. The definitive version is available at www.blackwell-synergy.com. Nutrition & Dietetics is the official journal of the Dietitians Association of Australia. Copyright 2007 Blackwell Publishing.\\n\\nThis journal article is available at Research Online: https://ro.uow.edu.au/hbspapers/48\\n\\nThe Nutritional Composition of Red Meat\\n\\nAssoc Prof Peter Williams PhD FDAA\\n\\nSmart Foods Centre, University of Wollongong',\n",
       " 'Key Points\\n\\nLean red meats are:\\n\\ne Anexcellent source of high biological value protein, vitamin B12, niacin, vitamin B6, iron, zinc and phosphorus\\n\\ne A source of long-chain omega-3 polyunsaturated fats, riboflavin, pantothenic acid, selenium and possibly also vitamin D\\n\\ne Mostly low in fat and sodium\\n\\ne Sources of a range of endogenous antioxidants and other bioactive substances including taurine, carnitine, carnosine, ubiquinone, glutathione and creatine.\\n\\n1) What is meat?\\n\\nThe Food Standards Australia New Zealand (FSANZ) Food Standard Code defines meat as ‘the whole or part of the carcass of any buffalo, camel, cattle, deer, goat, hare, pig, poultry, rabbit or sheep, slaughtered other than in a wild state, but does not include eggs, or foetuses’ [1]. This definition does not include kangaroo meat, which is now widely available for purchase in Australia and would be considered by most Australians as meat.\\n\\nCommonly people use ‘meat’ to refer only to meat flesh (skeletal muscle plus any attached connective tissue or fat), but the FSANZ definition also includes offal (ie, meat other than meat flesh, including brain, heart, kidney, liver, pancreas, spleen, thymus, tongue and tripe) although it excludes bone and bone marrow.\\n\\nIn Australia, the term ‘red meat’ is used by the meat industry to refer to meat from cattle, sheep and goat (ie beef, veal, lamb, mutton and goat meat). It does not include meat from pigs (eg, pork, bacon, ham) or kangaroo, nor less common game meats like buffalo and camel, although nutrient composition of some of these products is now becoming available [2]. Purchased red meat usually consists of both lean tissue (muscle) and fat tissue, which can be either distributed throughout the muscle as marbling (internal fat) or surrounding the muscle meat as selvage or external fat. In trimmed lean meat, it is usually the external fat only that is removed.\\n\\nProcessed meat means a product containing no less than 30% meat, that has undergone a method of preservation other than freezing, and includes manufactured meat and cured and/or dried meat flesh (eg, sausages, salami, canned meats).',\n",
       " '2) Nutrient composition of red meat\\n\\nRed meat contains high biological value protein and important micronutrients that are needed for good health throughout life. It also contains a range of fats, including essential omega-3 polyunsaturated fats. Recent analyses have shown that there has been a significant trend to leaner cuts of meat over the past two decades [3]. While the nutritional composition will vary somewhat according to breed, feeding regimen, season and meat cut, in general lean red meat has a low fat content, is moderate in cholesterol and rich in protein and many essential vitamins and minerals.\\n\\n1\\n\\n2.1 Nutrient composition of beef, veal, lamb and mutton\\n\\nTable 1 presents the typical nutrient composition of samples of fat-trimmed Australian red meat, based on recent analyses of national retail samples [4-6] and compares this to the new Australian recommended dietary intakes [7]. While there are some differences between the four meats, in general lean red meat is a particularly good source of protein, niacin, vitamin B6, vitamin B12, phosphorus, zinc and iron, with 100g providing more than 25% RDI of these nutrients. It also provides more than 10% RDI of riboflavin, pantothenic acid, and selenium. Of the four meats, mutton is particularly nutrient dense, and the richest source of thiamin, vitamins B6 and B12, phosphorus, iron and copper.\\n\\nProtein and amino acids\\n\\nRaw red muscle meat contains around 20-25g protein/100g. Cooked red meat contains 28- 36g/100g, because the water content decreases and nutrients become more concentrated during cooking. The protein is highly digestible, around 94% compared to the digestibility of 78% in beans and 86% in whole wheat [8]. Protein from meat provides all essential amino acids (lysine, threonine, methionine, phenylalanine, tryptophan, leucine, isoleucine, valine) and has no limiting amino acids. Protein Digestibility Corrected Amino Acid Score (PDCAAS) is a method of evaluating the protein quality, with a maximum possible score of 1.0. Animal meats like beef have a score of approximately 0.9, compared to values of 0.5-0.7 for most plant foods [9]. The amino acid glutamic acid/glutamine is present in meat in the highest amounts (16.5%), followed by arginine, alanine, and aspartic acid.',\n",
       " 'Fat\\n\\nTable 2 shows examples of the amount of separable fat found on typical retail cuts of red meat available for sale in Australia [3, 10]. There is a wide variation in the amount of total separable fat between the different beef and lamb cuts, ranging from 37% in loin lamb chops to only 1% in veal steak.\\n\\nThe gross composition values show that there generally appears to be less separable fat in the untrimmed raw retail samples collected in 2002 compared to those reported from 1983-86 [11, 12]. For example, the percentage separable fat has declined from 18% to 12% in rump steak and from 10% to 6.6% in fillet steak. This trend to lower fat cuts has been due to three factors: selective breeding and feeding practices designed to increase the carcase lean to fat ratio; meat classification and marketing systems designed to favour leaner products; and modern butchery techniques such as seaming out whole muscles and trimming away intermuscular fat [13].\\n\\nMost Australian consumers today prepare and consume their meat after trimming external fat, and the most recent nutritional analyses show that all trimmed lean red meats are relatively low in fat (<7%) and have moderate cholesterol content, with the exception of mince meats (Table 3). An important contributor to the leanness of muscle meat in Australian beef and lamb is that almost all animals are pasture (grass) fed for most of their lives, although some are given short periods of grain finishing before slaughter.\\n\\nFatty acids\\n\\nMuch of the discussion about the fat content of red meat focuses on the saturated fat content. However, the amount of saturated fat in Australian beef and lamb is actually less than the total amount of unsaturated fats on a per edible portion basis.\\n\\n2\\n\\nTable 4 shows the average fatty acid profiles of beef, veal, lamb and mutton compared to other white meats and fish. Saturated fatty acids comprise, on average, 40% of total fatty acids in the lean component and 48% in the fat component of red meat. In beef and veal, approximately half of the saturated fatty acid in both the lean and fat component of red meat is palmitic acid (16:0) and about a third is stearic acid (18:0). In lamb and mutton the proportions of these two fatty acids is more similar. There is little variation between cuts in the proportion of fatty acids.\\n\\nPolyunsaturated fatty acids (PUFA) range from 11% to 29% of total fatty acids. Pasture fed beef is better source of omega-3 fats than grain feed beef, and this explains the better fatty acid ratio in Australian red meat compared to that in the US, where there is extensive grain feeding [14, 15]. Beef and lamb also have more omega-3 fatty acids than either chicken or pork, although fish is still a significantly better source than any of the red meats.\\n\\nThe recent revision of the recommended dietary intakes for Australians recommended a daily adequate intake of long-chain omega-3 fats (DHA, EPA and DPA) of 160mg for men and 90mg for women, with higher targets of 610mg and 430mg respectively to reduce the risk of long term chronic disease [7]. Since the levels of long chain PUFA found in Australian beef, veal and lamb muscle meat are greater than 30mg per serving (135g) of red meat, they are considered a source of long chain n-3 PUFA according to Australian food regulations (Food Standards Australia New Zealand 2004). Mutton muscle meat, which has more than 60mg EPA + DHA per serving of red meat, can be described as a good source of long chain n-3 polyunsaturated fats. Red meat is frequently consumed by Australians and makes the second greatest contribution to intake of long chain n-3 PUFA, after fish, in the Australian diet [16].\\n\\nTrans fatty acids\\n\\nTrans fatty acids are found in ruminant fat as a result of biohydrogenation by rumen bacteria. Trans fatty acids (18:1 trans) in raw muscle meat varies from as little as 22mg/100g in veal to 123mg in lamb, but is generally less than 3% of the total fatty acid content [17]. Levels in both raw and cooked muscle meat are higher in lamb and mutton than in beef and veal.\\n\\nCholine\\n\\nCholine is a precursor of a number of compounds including neurotransmitters and membrane phospholipids. Although choline can be made in the body, dietary essentiality has been demonstrated and the new Australian nutrient reference values recommend an adequate intake of 550mg/d for men and 425mg/d for women [7]. The best dietary sources are milk, liver and eggs, but meat is also a significant source and beef contains 78mg/100g [18].\\n\\nVitamins\\n\\nAs with other animal foods, red meat is an excellent source of bioavailable vitamin B12, providing over two thirds of the daily requirement in a 100g serve (Table 1). Up to 25% RDI of riboflavin, niacin, vitamin B6 and pantothenic acid can also be provided by 100g of red meat, but compared to pork it is a relatively poor source of thiamin. Liver is an excellent source of vitamin A and folate, but the levels in lean meat tissue are low. For all these vitamins, older animals tend to have higher concentrations, so the levels in beef are generally higher than those in veal, and mutton has more than lamb. Levels of vitamin D in meat are low and difficult to measure and have often not been included in food composition data previously. However recent assays of meat in New Zealand have reported levels of 0.10µg Vitamin D3/100g and 0.45µg 25-OHD3/100g in beef and levels of 0.04 and 0.93 µg/100g\\n\\n3\\n\\nrespectively in lamb [19]. Given the higher biological activity of the 25-OH vitamin D, this means that 100g of cooked beef could provide 12% of the estimated adequate intake of 10µg/d for a 51-70 year old [7], and cooked lamb could provide more than 25%, and hence be an important source of this nutrient, especially for housebound elderly people.',\n",
       " 'Minerals\\n\\nBeef and lamb meat are among the richest sources of the minerals iron and zinc, with 100g providing at least one quarter of daily adult requirements (Table 1). The iron in meat is mostly haem-iron which is well absorbed, and meat protein also appears to enhance the absorption of iron from meat. Similarly, absorption of zinc from a diet high in animal protein is greater than from plant foods, and the requirements for zinc may be as much as 50% higher for vegetarians [7]. Red meats are also good sources of selenium, providing over 20% RDI per 100g serve, although it is likely that selenium values in meat will be significantly affected by where animals feed and the time of the year of sampling. Lean meat is low in sodium with a potassium/sodium ratio of greater than five. The copper content in raw lean cuts range from 0.055 to 0.190mg/100g in beef and veal, 0.090 to 0.140mg/100g in lamb, and 0.190 to 0.240mg/100g in mutton, all significantly higher than values reported in British meat [20].\\n\\n2.2 Meat based bioactive compounds\\n\\nIn addition to the traditional essential nutrients with defined requirements, there are a number of meat-based bioactive substances that have been studied for their potential beneficial effects [21].\\n\\nTaurine\\n\\nAn amino acid in meat of particular interest is taurine. Meat is rich in taurine (110mg/100g in lamb and 77mg/100g in beef) [22] and meat is the most abundant dietary source. While taurine can be derived from methionine and cysteine metabolism, there have been suggestions that it should be considered a conditionally essential amino acid during lactation, during times of immune challenge, and may offer protection against oxidative stress [23, 24].\\n\\nCarnitine\\n\\nL-carnitine (beta-hydroxy-gamma-trimethyl amino butyric acid) transports long chain fatty acids across the inner mitochondrial membranes to produce energy during exercise. Although not an essential nutrient, needs appear to be increased during pregnancy and after strenuous exercise and a recommended intake of 24-81mg/d has been proposed [25]. It is found in skeletal muscle and is particularly abundant in sheep muscle at up to 209mg/100g [26] and in beef at around 60mg/100g [27].\\n\\nConjugated linoleic acid (CLA)\\n\\nCLA has antioxidant and immunomodulatory properties and may also play a role in the control of obesity [28]. Since rumen bacteria convert linoleic acid to CLA, it is most abundant in the fat of ruminant animals, although CLA is also present in partially hydrogenated vegetable oils. The CLA content of meat is affected by several factors including breed, age and food composition [29]. It is mostly present in the fat component of red meat (approximately 1g/100g) but is also found in the muscle meat: 10-46mg/100g in raw meat and 30-100mg/100g in cooked red meat [17].\\n\\n4\\n\\nEndogenous antioxidants\\n\\nSeveral endogenous compounds (including ubiquinone, glutathione, lipoic acid, spermine, carnosine, anserine) have been studied in skeletal muscle [30]. Both carnosine and anserine are antioxidative histidyl dipeptides and the most abundant antioxidants in meat. Carnosine is present at around 365mg/100g in beef [31] and 400mg/100g in lamb [22]. Because carnosine is absorbed into the plasma intact, it is a potentially important dietary antioxidant [32]. Coenzyme Q10 (ubiquinone) also has antioxidant properties and supplements have shown beneficial effects in some studies [33]. Levels in meat are estimated to be around 2mg/100g in both beef and sheep meat [31]. Glutathione is a component of glutathione peroxidise enzymes which have an important antioxidant role in the body. It may also play a role in immune response and enhancing iron absorption by contributing to the ‘meat factor’. Glutathione levels in red meat are estimated to be 12-26mg/100g in beef [34] and most meats contain approximately twice the level of glutathione of poultry and up to ten times the content found in fish.',\n",
       " 'Creatine\\n\\nCreatine and its phosphorylated derivative creatine phosphate play an important role in muscle energy metabolism and under some circumstances creatine supplements can enhance muscle performance [35]. Red meat contains approximately 350mg/100g [31] and is the principal dietary source for humans. Creatine in meat is readily absorbed [36], but typical intakes are unlikely to provide the levels of creatine used for supplementation of sports performance (up to 15g/day).\\n\\n2.3 Nutrient composition of organ meats\\n\\nTable 5 provides a comparison of the nutrient content of liver, kidney, heart, brains and tripe from beef and lamb. From this table the following general statements can be made:\\n\\ne All organ meats (except tripe) are extremely rich in vitamin B12, with more than 100% RDI in 100g\\n\\nLiver is a rich source of protein iron, zinc, riboflavin, niacin, vitamin A, and folate\\n\\nKidney is rich in protein, thiamin, riboflavin, iron, and a source of folate\\n\\nHeart is a good source of iron and zinc, but not as good as liver and kidney\\n\\nBrains and tripe are not particularly good sources of vitamins or minerals\\n\\nAll organs meats are high in cholesterol, especially brains, and mostly low in sodium\\n\\nLiver is such a rich source of retinol that consumption of large amounts is not recommended in pregnancy.\\n\\n3) Comparison of the composition of red meat and vegetarian protein sources\\n\\nThe Australian Guide to Health Eating recommends a healthy diet include 1-2 serves per day of meat or equivalents such as eggs, nuts or legumes [37]. However the vegetarian alternatives that are used as protein sources have very different nutritional profiles to red meat, as show in Table 6, which compares the percentage of an adult male daily requirement provided by 100g of food. Lean beef and lamb are better protein sources than all the options except cheese, and are mostly lower in sodium. The meats are higher in zinc and niacin than all the alternatives and also higher in omega-3 fats than the vegetable sources; a better source of vitamin B6 (except for the walnuts); richer in selenium (except in comparison to eggs); and are the best source of vitamin B12, which is absent entirely from the vegetable products. Egg, cheese and nuts are also much higher sources of total fat than lean beef or lamb.\\n\\n5',\n",
       " 'Table 1. Nutrient composition (per 100g) of lean red meat [4-6]',\n",
       " '*RE = retinol equivalents (= 1 µg retinol or 6 µg or beta-carotene)\\n\\n6\\n\\nTable 2 – Lean and separable fat from untrimmed raw boneless Australian red meat (mean weight) [3, 10]',\n",
       " '7\\n\\nTable 3 – Fat and cholesterol content of trimmed raw and cooked Australian red meat [4]',\n",
       " 'Casserole, cooked\\n\\n7.7\\n\\n63\\n\\n8\\n\\nTable 4. Fatty acid profile of raw lean meats (g/100g edible portion)\\n\\nBeef1\\n\\nVeal1\\n\\nLamb1 Mutton1',\n",
       " '1. Average values from 2002 analyses of Australian red meat [17]\\n\\n2. Values for raw lean chicken breast from NUTTAB 2006 [38]\\n\\n3. Values for raw lean pork fillet from NUTTAB 2006 [38]\\n\\n4. Values for raw flathead from NUTTAB 2006 [38]\\n\\n5. Values for canned red salmon from NUTTAB 2006 [38]\\n\\n9\\n\\nTable 5. Selected nutrients (per 100g) in raw liver, kidney, heart, brain and tripe 1',\n",
       " '1. Folate values from US data [39]; all other values from NUTTAB 2006 [38]\\n\\n10\\n\\nTable 6. Percentage of male adult recommended dietary intake (RDI) or adequate intake (AI)\\n\\nprovided by 100g of lean red meat and some vegetarian protein sources',\n",
       " \"1. Average values from 2002 analyses of Australian red meat [4]\\n\\n2. Values from NUTTAB 2006 [38]\\n\\n11\\n\\nReferences\\n\\n1. Food Standards Australia New Zealand. Food Standards Code - Volume 2. Canberra: Information Australia, 2002.\\n\\n2. Beilken S, Eustace E, Eustace R. Composition of new meats - analyses and nutrient composition of innovative meat industries. RIRDC Publication No 07/036. Canberra: RIRDC, 2007. Cited 25 April 2007. Available at: http://www.rirdc.gov.au/reports/NAP/07-036.pdf.\\n\\n3. Williams P, Droulez V, Levy G et al. Nutrient composition of Australian red meat 2002. 1. Gross composition data. Food Aust 2006; 58: 173-181.\\n\\n4. Williams P, Droulez V, Levy G et al. Composition of Australian red meat 2002. 3. Nutrient profile. Food Aust 2007; 59(in press).\\n\\n5. Sadler M, Lewis J, Buick D. Composition of trim lamb. Food Aust 1993; 45(Suppl): S2-12.\\n\\n6. Sinclair A, Mann N, O'Connell S. The nutrient composition of Australian beef and lamb. Melbourne: RMIT, 1999.\\n\\n7. National Health and Medical Research Council. Nutrient Reference Values for Australia and New Zealand including Recommended Dietary Intakes. Canberra: Commonwealth Department of Health and Ageing, 2006.\\n\\n8. Bhutta Z. Protein: digestibility and availability. In: Encyclopedia of Human Nutrition. M Sadler, J Strain and B. Caballero (Editors). San Diego: Academic Press, 1999. p. 1646-1656.\\n\\n9. Schaafsma G. The Protein Digestibility-Corrected Amino Acid Score. J Nutr 2000; 130: 1865S-1867S.\\n\\n10. Cobiac L, Droulez V, Leppard P et al. Use of external fat width to describe beef and lamb cuts in food composition tables. J Food Comp Anal 2003; 16: 133-145.\\n\\n11. Greenfield H, Kuo Y, Hutchison G et al. Composition of Australian foods. 33. Lamb. Food Aust 1987; 39: 202-207.\\n\\n12. Greenfield, H, Kuo Y, Hutchison G et al., Composition of Australian foods. 34. Beef and veal. Food Aust 1987; 39: 208-215;227.\\n\\n13. Higgs J. The changing nature of red meat: 20 years of improving nutritional quality. Trends Food Sci Technol 2000; 11: 85-95.\\n\\n14. Sinclair A, O'Dea K. The lipid levels and fatty acid compositions of the lean portions of Australian beef and lamb. Food Technol Aust 1987; 39: 228-231.\\n\\n15. Marmer W, Maxwell R, Williams J. Effects of dietary regimen and tissue site on bovine fatty acid profiles. J Anim Sci 1984; 59: 109-121.\\n\\n16. Howe P, Meyer B, Record S et al. Dietary intakes of long-chain omega-3 polyunsaturated fatty acids: contribution of meat sources. Nutrition, 2006; 22: 47-53.\\n\\n17. Droulez V, Williams P, Levy G et al. Nutrient composition of Australian red meat 2002. 2. Fatty acid profile. Food Aust 2006; 58: 335-341.\\n\\n18. Zeisel S, Niculescu M. Choline and Phosphatidylcholine. In Modern Nutrition in Health and Disease. M Shils et al. (Editors). Philadelphia: Lippincott Williams & Wilkins, 2006. p. 525-536.\\n\\n19. Purchas R, Zou M, Pearce P et al. Concentrations of vitamin D3 and 2- hydroxyvitamin D3 in raw and cooked New Zealand beef and lamb. J Food Comp Anal 2007; 20: 90-98.\\n\\n20. Chan W, Brown J, Lee S et al. Meat, Poultry and Game. Fifth Supplement to McCance & Widdowson's The Composition of Foods. London: The Royal\\n\\n12\\n\\nSociety of Chemistry and the Ministry of Agriculture Fisheries and Food, 1995.\\n\\n21. Arihara K. Strategies for designing novel functional meat products. Meat Sci 2006; 74: 219-229.\\n\\n22. Purchas R, Rutherfurd S, Pearce P et al. Concentrations in beef and lamb of taurine, carnosine, coenzyme Q10, and creatine. Meat Sci 2004; 66: 629-637.\\n\\n23. Redmond H, Stapleton P, Neary P et al. Immunonutrition: the role of taurine. Nutr Cancer 1998; 14: 599-608.\\n\\n24. Bouckenooghe T, Remacle C, Reusens B. Is taurine a functional nutrient? Curr Opin Clin Nutr Metab Care 2006; 9: 728-733.\\n\\n25. Tanpaichitr V, Leelahagul P. Carnitine metabolism and human carnitine metabolism. Nutrition 1993; 9: 246-254.\\n\\n26. Mitchell M. Carnitine metabolism in human subjects 1. Normal metabolism. Am J Clin Nutr 1978; 31: 293-306.\\n\\n27. Shimada L, Sakuma Y, Wakamatsu J et al. Species and muscle differences in L-carnitine in skeletal muscles based on a new simple assay. Meat Sci 2004; 68: 357-362.\\n\\n28. Azain M. Conjugated linoleic acid and its effects on animal products and health in single-stomached animals. Proc Nutr Soc 2003; 62: 319-328.\\n\\n29. Dhiman T, Nam S, Ure A. Factors affecting conjugated linoleic acid content in milk and meat. Crit Rev Food Sci Nutr 2005; 45: 463-482.\\n\\n30. Decker E, Livisay S, Zhou S. Mechanisms of endogenous skeletal muscle antioxidants: chemical and physical aspects. In Antioxidants in muscle foods, E. Decker, C. Faustman and C. Lopez-Bote (Editors). New York: Wiley- Interscience, 2000. p. 25-60.\\n\\n31. Purchas R, Busboom J. The effect of production system and age on levels of iron, taurine, carnosine, coenzyme Q10, and creatine in beef muscles and lover. Meat Sci 2005; 70: 589-596.\\n\\n32. Decker E, Ivanov V, Zhu B et al. Inhibition of low density lipoprotein oxidation by carnosine and histidine. J Agric Food Chem 2001; 49: 511-516.\\n\\n33. Overvad K, Diamant B, Holm L et al. Coenzyme Q10 in health and disease. Eur J Clin Nutr 1999; 53: 764-770.\\n\\n34. Jones D, Coates R, Flagg E et al. Glutathione in foods listed in the National Cancer Institute's health habits and history food frequency questionnaire. Nutr Cancer, 1992; 17: 57-75.\",\n",
       " '35. Kreider R, Ferreira M, Wilson M et al. Effects of creatine supplementation on body composition, strength, and sprint performance. Med Sci Sports Ex 1998; 30: 73-82.\\n\\n36. Harris R, Nevill M, Harris D et al. Absorption of creatine supplied as a drink, in meat or in solid form. J Sports Sci 2002; 20: 147-151.\\n\\n37. Smith A, Kellett E, Schmerlaib Y. The Australian Guide to Healthy Eating. Background information for nutrition educators. Canberra: Commonwealth Department of Health, 1998.\\n\\n38. Food Standards Australia New Zealand. NUTTAB 2006. Online database of the nutritional composition of Australian foods. Canberra: FSANZ, 2007. Cited 25 April 2007. Available at:\\n\\nhttp://www.foodstandards.gov.au/monitoringandsurveillance/nuttab2006/onlin eversionintroduction/index.cfm\\n\\n13\\n\\n39. US Department of Agriculture, USDA National Nutrient Database for Standard Reference. Release 19. Washington DC: USDA, 2007. Cited 25 April 2007. Available at: http://www.nal.usda.gov/fnic/foodcomp/search/\\n\\n14']"
      ]
     },
     "execution_count": 10,
     "metadata": {},
     "output_type": "execute_result"
    }
   ],
   "source": [
    "text"
   ]
  },
  {
   "cell_type": "markdown",
   "metadata": {},
   "source": [
    "### Summarize the Data"
   ]
  },
  {
   "cell_type": "code",
   "execution_count": 11,
   "metadata": {},
   "outputs": [],
   "source": [
    "# Summarize extracted text and tables using LLM\n",
    "def summarize_text_and_tables(text, tables):\n",
    "    logging.info(\"Ready to summarize data with LLM\")\n",
    "    prompt_text = \"\"\"You are an assistant tasked with summarizing text and tables. \\\n",
    "    \n",
    "                    You are to give a concise summary of the table or text and do nothing else. \n",
    "                    Table or text chunk: {element} \"\"\"\n",
    "    prompt = ChatPromptTemplate.from_template(prompt_text)\n",
    "    model = ChatOpenAI(temperature=0.6, model=\"gpt-4o-mini\")\n",
    "    summarize_chain = {\"element\": RunnablePassthrough()}| prompt | model | StrOutputParser()\n",
    "    logging.info(f\"{model} done with summarization\")\n",
    "    return {\n",
    "        \"text\": summarize_chain.batch(text, {\"max_concurrency\": 5}),\n",
    "        \"table\": summarize_chain.batch(tables, {\"max_concurrency\": 5})\n",
    "    }"
   ]
  },
  {
   "cell_type": "code",
   "execution_count": 12,
   "metadata": {},
   "outputs": [],
   "source": [
    "data_summary = summarize_text_and_tables(text, tables)\n"
   ]
  },
  {
   "cell_type": "code",
   "execution_count": 13,
   "metadata": {},
   "outputs": [],
   "source": [
    "text_summary = data_summary['text']"
   ]
  },
  {
   "cell_type": "code",
   "execution_count": 14,
   "metadata": {},
   "outputs": [],
   "source": [
    "tables_summary = data_summary['table']"
   ]
  },
  {
   "cell_type": "code",
   "execution_count": 15,
   "metadata": {},
   "outputs": [
    {
     "data": {
      "text/plain": [
       "[\"The document discusses the nutritional composition of red meat, highlighting that lean red meats are rich in high-quality protein, vitamins (B12, niacin, B6), minerals (iron, zinc, phosphorus), and beneficial fats (long-chain omega-3s). They are generally low in fat and sodium and contain various antioxidants and bioactive substances. The article was authored by P. G. Williams and published in 2007 in the journal Nutrition & Dietetics. It is accessible through the University of Wollongong's Research Online repository.\",\n",
       " 'Lean red meats are rich in high-quality protein, essential vitamins (B12, niacin, B6), minerals (iron, zinc, phosphorus), and long-chain omega-3 fats. They are generally low in fat and sodium and contain various antioxidants and bioactive substances. The FSANZ defines meat broadly, including offal but excluding bone and bone marrow. In Australia, \"red meat\" specifically refers to meat from cattle, sheep, and goats, while processed meat contains at least 30% meat and has undergone preservation methods other than freezing.',\n",
       " 'Red meat is a valuable source of high-quality protein and essential micronutrients, including omega-3 fats, vitamins, and minerals. Recent trends show a shift towards leaner meat cuts. The nutrient composition varies by type of meat, but generally, lean red meat is rich in protein, niacin, vitamins B6 and B12, phosphorus, zinc, and iron, with mutton being particularly nutrient-dense. Raw red muscle meat contains 20-25g of protein per 100g, which increases to 28-36g when cooked. Meat protein is highly digestible and provides all essential amino acids, with a Protein Digestibility Corrected Amino Acid Score (PDCAAS) of approximately 0.9, indicating high quality compared to plant proteins.',\n",
       " 'The text discusses the fat content and nutritional profile of red meat in Australia, highlighting variations in separable fat among different cuts, with lamb chops having up to 37% fat and veal steak only 1%. There has been a decline in fat content over the years due to selective breeding and modern butchery techniques. Trimmed lean red meats are generally low in fat (<7%) and provide moderate cholesterol levels. The saturated fat content in Australian beef and lamb is lower than the unsaturated fat content, with saturated fats comprising about 40% of total fatty acids. Pasture-fed beef is noted for its higher omega-3 fatty acid content compared to grain-fed beef. Red meat contributes significantly to omega-3 intake in the Australian diet. Trans fatty acids are present in small amounts in ruminant fat, and red meat is a source of choline and various vitamins, particularly vitamin B12. While red meat is not a major source of vitamin D, it can still provide a notable portion of daily intake for certain populations.',\n",
       " 'Beef and lamb are rich sources of iron and zinc, providing significant portions of daily adult requirements. The iron in meat is primarily haem-iron, which is well absorbed, and meat protein enhances iron absorption. Zinc absorption is also higher from animal protein compared to plant sources, with vegetarians needing up to 50% more. Red meats offer good selenium levels, although these can vary based on animal diet and sampling time. Lean meats are low in sodium and have a favorable potassium/sodium ratio.\\n\\nAdditionally, meat contains bioactive compounds like taurine, L-carnitine, and conjugated linoleic acid (CLA). Taurine, considered conditionally essential during lactation and immune challenges, is abundant in meat. L-carnitine, important for energy production, is especially high in sheep muscle. CLA, with antioxidant properties, varies in content based on several factors and is mostly found in the fat of ruminant animals. \\n\\nMeat also contains endogenous antioxidants, including carnosine and anserine, which are significant antioxidants found in high concentrations. Other antioxidants in meat include coenzyme Q10 and glutathione, which plays a role in immune response and iron absorption. Overall, meat is a vital source of both essential nutrients and bioactive compounds with potential health benefits.',\n",
       " 'Creatine, found primarily in red meat, plays a significant role in muscle energy metabolism and can enhance muscle performance through supplementation. Typical dietary intake from meat (about 350mg/100g) is lower than the supplementation levels used in sports (up to 15g/day). \\n\\nOrgan meats are nutrient-dense, particularly liver, which is high in various vitamins and minerals, including vitamin B12, protein, and iron. Kidney also offers significant nutrients, while heart provides iron and zinc, though less than liver and kidney. Brains and tripe are less nutrient-rich, and all organ meats are high in cholesterol. \\n\\nWhen comparing red meat to vegetarian protein sources, lean beef and lamb provide better protein, lower sodium, and higher levels of zinc, niacin, omega-3 fats, and vitamin B12 than vegetarian options. Eggs, cheese, and nuts are higher in total fat compared to lean meats. The Australian Guide to Healthy Eating suggests including 1-2 servings of meat or equivalents daily.',\n",
       " 'Table 1 presents the nutrient composition of lean red meat per 100 grams, detailing essential nutrients such as protein, fat, vitamins, and minerals.',\n",
       " 'Table 2 presents the mean weight of lean and separable fat from untrimmed raw boneless Australian red meat.',\n",
       " 'Table 3 presents the fat and cholesterol content of trimmed raw and cooked Australian red meat.',\n",
       " 'The table presents the fatty acid profile of cooked casserole, with values of 7.7 for one component and 63 and 8 for others. It also lists raw lean meats including beef, veal, lamb, and mutton, with their respective measurements in grams per 100 grams of the edible portion.',\n",
       " 'The table presents average nutrient values per 100g for various Australian meats and fish, including red meat, raw lean chicken breast, pork fillet, flathead, and canned red salmon, alongside selected nutrients found in raw organ meats such as liver, kidney, heart, brain, and tripe.',\n",
       " 'The table presents the percentage of the recommended dietary intake (RDI) or adequate intake (AI) for male adults that can be obtained from consuming 100g of lean red meat and select vegetarian protein sources. Folate values are sourced from US data, while all other nutritional values are derived from NUTTAB 2006.',\n",
       " \"The text references various studies and publications concerning the nutrient composition and analyses of Australian red meat, particularly from the years 2002 and 2006. It includes a comprehensive list of sources related to the nutritional profiles, fatty acid compositions, and other relevant dietary components of beef and lamb. The references range from government publications to research articles, highlighting the evolution of red meat's nutritional quality over the years.\",\n",
       " 'The text references several studies and resources related to nutrition and dietary supplements, specifically focusing on creatine supplementation and its effects on body composition and performance. It includes research articles on creatine absorption and guidelines for healthy eating, as well as online databases for nutritional information from Australia and the USDA.']"
      ]
     },
     "execution_count": 15,
     "metadata": {},
     "output_type": "execute_result"
    }
   ],
   "source": [
    "text_summary"
   ]
  },
  {
   "cell_type": "code",
   "execution_count": 16,
   "metadata": {},
   "outputs": [
    {
     "data": {
      "text/plain": [
       "['The table presents nutritional information for four types of meat: Beef, Veal, Lamb, and Mutton, along with the recommended daily intake (RDI) for adults in Australia. Key nutrients measured include moisture, protein, fat, energy, cholesterol, vitamins, and minerals. \\n\\n- **Moisture content** ranges from 72.9g to 74.8g.\\n- **Protein** is highest in Veal (24.8g) and lowest in Mutton (21.5g), with the RDI being 46-64g.\\n- **Fat content** is lowest in Veal (1.5g) and highest in Lamb (4.7g).\\n- **Energy** values range from 477 kJ (Veal) to 546 kJ (Lamb), with the RDI set at 6.5-15.8 MJ.\\n- **Cholesterol** levels range from 50 mg (Beef) to 66 mg (Lamb and Mutton).\\n- Various vitamins and minerals are also listed, with notable values for Vitamin B12 (highest in Mutton at 2.8 µg) and Iron (highest in Mutton at 3.3 mg).\\n\\nOverall, the table highlights the varying nutritional profiles of these meats, with specific details on their contributions to daily dietary needs.',\n",
       " 'The table provides information on various meat cuts, detailing their percentage of lean meat, external fat, and internal fat. Key highlights include:\\n\\n- **Beef**: Topside roast (91% lean, 6% external fat, 3% internal fat) and Stir fry (98% lean, 2% external fat).\\n- **Veal**: Leg steak (99% lean, 1% internal fat) is the leanest, while Diced veal (98% lean).\\n- **Lamb**: Leg roast (83% lean, 11% external fat, 6% internal fat) and Diced lamb (98% lean, 2% external fat).\\n- **Mutton**: Less detailed with only one entry for Leg (85% lean, 9% external fat).\\n\\nOverall, the table emphasizes the leanest cuts across beef, veal, and lamb, while mutton data is limited.',\n",
       " 'The table presents nutritional information for various beef and lamb cuts, detailing total fat content (in grams) and cholesterol levels (in milligrams) for both raw and cooked forms. Notable entries include:\\n\\n- Regular mince (cooked) has the highest fat content at 12.7g and cholesterol at 99mg.\\n- Round steak (cooked) contains significantly high cholesterol at 715mg despite having a lower fat content of 2.0g.\\n- The easy carve shoulder, raw, has a high fat content of 43g and cholesterol of 54mg, while its cooked version has 5.4g fat and 86mg cholesterol.\\n- Lamb mince (cooked) shows 8.5g of fat and 93mg of cholesterol.\\n\\nThe data reveals variations in fat and cholesterol levels across different meat cuts and cooking methods.',\n",
       " 'The table presents the fatty acid composition of various food sources, including fatty chicken, lean pork, fish, and oily fish. It lists specific fatty acids (e.g., C14:0, C16:0) along with their respective amounts in grams per 100 grams of food. The data includes total saturated, monounsaturated, and polyunsaturated fats, as well as omega-3 and omega-6 fatty acids, and their ratio. Oily fish generally shows higher levels of omega-3 fatty acids compared to other sources, while the total saturated fats are highest in fatty chicken.',\n",
       " 'The table provides nutritional information for various organ meats (liver, kidney, heart, brain, and tripe beef) compared to lamb across several nutrients. Key highlights include:\\n\\n- **Protein**: Highest in kidney (21.4g) and lowest in tripe beef (12.3g).\\n- **Fat**: Liver has the highest fat content (8.6g), while heart has the least (1.6g).\\n- **Saturated Fat**: Liver contains the most saturated fat (2.8g).\\n- **Omega-3 Fat**: Liver has the highest omega-3 fat content (561mg).\\n- **Cholesterol**: Kidney has the highest cholesterol (433mg).\\n- **Vitamins**: Liver is notably high in Vitamin B12 (59ug) and riboflavin (4.80mg).\\n- **Minerals**: Kidney has the highest zinc (4.3mg) and iron (9.5mg) content.\\n\\nOverall, organ meats are nutrient-dense, with varying levels of proteins, fats, vitamins, and minerals.',\n",
       " 'The table presents the Recommended Dietary Intake (RDI) or Adequate Intake (AI) for males aged 31-50 years for various nutrients from different food sources, including beef, lamb, eggs, cheddar cheese, baked beans (salt reduced), and walnuts. Key nutrients listed include protein, long-chain omega-3 fat, various vitamins (such as Thiamin, Riboflavin, Niacin, Vitamins B6, B12, A, E), minerals (like phosphorus, zinc, iron, magnesium, selenium, sodium, potassium), with specific amounts per food item compared to the RDI/AI values. For instance, beef provides significant amounts of protein, zinc, and vitamin B12, while walnuts are noted for their magnesium content.']"
      ]
     },
     "execution_count": 16,
     "metadata": {},
     "output_type": "execute_result"
    }
   ],
   "source": [
    "tables_summary"
   ]
  },
  {
   "cell_type": "markdown",
   "metadata": {},
   "source": [
    "### Initialize Retriever"
   ]
  },
  {
   "cell_type": "code",
   "execution_count": 17,
   "metadata": {},
   "outputs": [],
   "source": [
    "def initialize_retriever():\n",
    "\n",
    "    store = RedisStore(client=client)\n",
    "    id_key = \"doc_id\"\n",
    "    vectorstore = PGVector(\n",
    "            embeddings=OpenAIEmbeddings(),\n",
    "            collection_name=COLLECTION_NAME,\n",
    "            connection=CONNECTION_STRING,\n",
    "            use_jsonb=True,\n",
    "            )\n",
    "    retrieval_loader = MultiVectorRetriever(vectorstore=vectorstore, docstore=store, id_key=\"doc_id\")\n",
    "    return retrieval_loader"
   ]
  },
  {
   "cell_type": "code",
   "execution_count": 18,
   "metadata": {},
   "outputs": [],
   "source": [
    "load_retriever = initialize_retriever()"
   ]
  },
  {
   "cell_type": "markdown",
   "metadata": {},
   "source": [
    "### Add Summary to vectorstore & Raw data to RedisStore"
   ]
  },
  {
   "cell_type": "code",
   "execution_count": 19,
   "metadata": {},
   "outputs": [],
   "source": [
    "# Store text, tables, and their summaries in the retriever\n",
    "\n",
    "def store_docs_in_retriever(text, text_summary, table, table_summary, retriever):\n",
    "    \"\"\"Store text and table documents along with their summaries in the retriever.\"\"\"\n",
    "\n",
    "    def add_documents_to_retriever(documents, summaries, retriever, id_key = \"doc_id\"):\n",
    "        \"\"\"Helper function to add documents and their summaries to the retriever.\"\"\"\n",
    "        if not summaries:\n",
    "            return None, []\n",
    "\n",
    "        doc_ids = [str(uuid.uuid4()) for _ in documents]\n",
    "        summary_docs = [\n",
    "            Document(page_content=summary, metadata={id_key: doc_ids[i]})\n",
    "            for i, summary in enumerate(summaries)\n",
    "        ]\n",
    "\n",
    "        retriever.vectorstore.add_documents(summary_docs, ids=doc_ids)\n",
    "        retriever.docstore.mset(list(zip(doc_ids, documents)))     \n",
    "\n",
    "# Add text, table, and image summaries to the retriever\n",
    "    add_documents_to_retriever(text, text_summary, retriever)\n",
    "    add_documents_to_retriever(table, table_summary, retriever)\n",
    "    return retriever"
   ]
  },
  {
   "cell_type": "code",
   "execution_count": 22,
   "metadata": {},
   "outputs": [],
   "source": [
    "retriever  = store_docs_in_retriever(text, text_summary, tables,  tables_summary, load_retriever)\n",
    "    "
   ]
  },
  {
   "cell_type": "code",
   "execution_count": 23,
   "metadata": {},
   "outputs": [
    {
     "name": "stdout",
     "output_type": "stream",
     "text": [
      "('name', None)\n",
      "('tags', None)\n",
      "('metadata', None)\n",
      "('vectorstore', <langchain_postgres.vectorstores.PGVector object at 0x7fb297409a60>)\n",
      "('byte_store', None)\n",
      "('docstore', <langchain_community.storage.redis.RedisStore object at 0x7fb297ddf1a0>)\n",
      "('id_key', 'doc_id')\n",
      "('search_kwargs', {})\n",
      "('search_type', <SearchType.similarity: 'similarity'>)\n"
     ]
    }
   ],
   "source": [
    "for i in retriever:\n",
    "    print(i)"
   ]
  },
  {
   "cell_type": "code",
   "execution_count": 24,
   "metadata": {},
   "outputs": [],
   "source": [
    "query = \"What is the comparison of the composition of red meat and vegetarian protein sources\"\n",
    "docs = retriever.invoke(query)"
   ]
  },
  {
   "cell_type": "code",
   "execution_count": 25,
   "metadata": {},
   "outputs": [
    {
     "name": "stdout",
     "output_type": "stream",
     "text": [
      "b'1. Folate values from US data [39]; all other values from NUTTAB 2006 [38]\\n\\n10\\n\\nTable 6. Percentage of male adult recommended dietary intake (RDI) or adequate intake (AI)\\n\\nprovided by 100g of lean red meat and some vegetarian protein sources'\n",
      "b'Creatine\\n\\nCreatine and its phosphorylated derivative creatine phosphate play an important role in muscle energy metabolism and under some circumstances creatine supplements can enhance muscle performance [35]. Red meat contains approximately 350mg/100g [31] and is the principal dietary source for humans. Creatine in meat is readily absorbed [36], but typical intakes are unlikely to provide the levels of creatine used for supplementation of sports performance (up to 15g/day).\\n\\n2.3 Nutrient composition of organ meats\\n\\nTable 5 provides a comparison of the nutrient content of liver, kidney, heart, brains and tripe from beef and lamb. From this table the following general statements can be made:\\n\\ne All organ meats (except tripe) are extremely rich in vitamin B12, with more than 100% RDI in 100g\\n\\nLiver is a rich source of protein iron, zinc, riboflavin, niacin, vitamin A, and folate\\n\\nKidney is rich in protein, thiamin, riboflavin, iron, and a source of folate\\n\\nHeart is a good source of iron and zinc, but not as good as liver and kidney\\n\\nBrains and tripe are not particularly good sources of vitamins or minerals\\n\\nAll organs meats are high in cholesterol, especially brains, and mostly low in sodium\\n\\nLiver is such a rich source of retinol that consumption of large amounts is not recommended in pregnancy.\\n\\n3) Comparison of the composition of red meat and vegetarian protein sources\\n\\nThe Australian Guide to Health Eating recommends a healthy diet include 1-2 serves per day of meat or equivalents such as eggs, nuts or legumes [37]. However the vegetarian alternatives that are used as protein sources have very different nutritional profiles to red meat, as show in Table 6, which compares the percentage of an adult male daily requirement provided by 100g of food. Lean beef and lamb are better protein sources than all the options except cheese, and are mostly lower in sodium. The meats are higher in zinc and niacin than all the alternatives and also higher in omega-3 fats than the vegetable sources; a better source of vitamin B6 (except for the walnuts); richer in selenium (except in comparison to eggs); and are the best source of vitamin B12, which is absent entirely from the vegetable products. Egg, cheese and nuts are also much higher sources of total fat than lean beef or lamb.\\n\\n5'\n",
      "b'1. Folate values from US data [39]; all other values from NUTTAB 2006 [38]\\n\\n10\\n\\nTable 6. Percentage of male adult recommended dietary intake (RDI) or adequate intake (AI)\\n\\nprovided by 100g of lean red meat and some vegetarian protein sources'\n",
      "b'2) Nutrient composition of red meat\\n\\nRed meat contains high biological value protein and important micronutrients that are needed for good health throughout life. It also contains a range of fats, including essential omega-3 polyunsaturated fats. Recent analyses have shown that there has been a significant trend to leaner cuts of meat over the past two decades [3]. While the nutritional composition will vary somewhat according to breed, feeding regimen, season and meat cut, in general lean red meat has a low fat content, is moderate in cholesterol and rich in protein and many essential vitamins and minerals.\\n\\n1\\n\\n2.1 Nutrient composition of beef, veal, lamb and mutton\\n\\nTable 1 presents the typical nutrient composition of samples of fat-trimmed Australian red meat, based on recent analyses of national retail samples [4-6] and compares this to the new Australian recommended dietary intakes [7]. While there are some differences between the four meats, in general lean red meat is a particularly good source of protein, niacin, vitamin B6, vitamin B12, phosphorus, zinc and iron, with 100g providing more than 25% RDI of these nutrients. It also provides more than 10% RDI of riboflavin, pantothenic acid, and selenium. Of the four meats, mutton is particularly nutrient dense, and the richest source of thiamin, vitamins B6 and B12, phosphorus, iron and copper.\\n\\nProtein and amino acids\\n\\nRaw red muscle meat contains around 20-25g protein/100g. Cooked red meat contains 28- 36g/100g, because the water content decreases and nutrients become more concentrated during cooking. The protein is highly digestible, around 94% compared to the digestibility of 78% in beans and 86% in whole wheat [8]. Protein from meat provides all essential amino acids (lysine, threonine, methionine, phenylalanine, tryptophan, leucine, isoleucine, valine) and has no limiting amino acids. Protein Digestibility Corrected Amino Acid Score (PDCAAS) is a method of evaluating the protein quality, with a maximum possible score of 1.0. Animal meats like beef have a score of approximately 0.9, compared to values of 0.5-0.7 for most plant foods [9]. The amino acid glutamic acid/glutamine is present in meat in the highest amounts (16.5%), followed by arginine, alanine, and aspartic acid.'\n"
     ]
    }
   ],
   "source": [
    "for dt in docs:\n",
    "    print(dt)"
   ]
  },
  {
   "cell_type": "code",
   "execution_count": 19,
   "metadata": {},
   "outputs": [
    {
     "name": "stdout",
     "output_type": "stream",
     "text": [
      "1. Folate values from US data [39]; all other values from NUTTAB 2006 [38]\n",
      "\n",
      "10\n",
      "\n",
      "Table 6. Percentage of male adult recommended dietary intake (RDI) or adequate intake (AI)\n",
      "\n",
      "provided by 100g of lean red meat and some vegetarian protein sources\n",
      "2) Nutrient composition of red meat\n",
      "\n",
      "Red meat contains high biological value protein and important micronutrients that are needed for good health throughout life. It also contains a range of fats, including essential omega-3 polyunsaturated fats. Recent analyses have shown that there has been a significant trend to leaner cuts of meat over the past two decades [3]. While the nutritional composition will vary somewhat according to breed, feeding regimen, season and meat cut, in general lean red meat has a low fat content, is moderate in cholesterol and rich in protein and many essential vitamins and minerals.\n",
      "\n",
      "1\n",
      "\n",
      "2.1 Nutrient composition of beef, veal, lamb and mutton\n",
      "\n",
      "Table 1 presents the typical nutrient composition of samples of fat-trimmed Australian red meat, based on recent analyses of national retail samples [4-6] and compares this to the new Australian recommended dietary intakes [7]. While there are some differences between the four meats, in general lean red meat is a particularly good source of protein, niacin, vitamin B6, vitamin B12, phosphorus, zinc and iron, with 100g providing more than 25% RDI of these nutrients. It also provides more than 10% RDI of riboflavin, pantothenic acid, and selenium. Of the four meats, mutton is particularly nutrient dense, and the richest source of thiamin, vitamins B6 and B12, phosphorus, iron and copper.\n",
      "\n",
      "Protein and amino acids\n",
      "\n",
      "Raw red muscle meat contains around 20-25g protein/100g. Cooked red meat contains 28- 36g/100g, because the water content decreases and nutrients become more concentrated during cooking. The protein is highly digestible, around 94% compared to the digestibility of 78% in beans and 86% in whole wheat [8]. Protein from meat provides all essential amino acids (lysine, threonine, methionine, phenylalanine, tryptophan, leucine, isoleucine, valine) and has no limiting amino acids. Protein Digestibility Corrected Amino Acid Score (PDCAAS) is a method of evaluating the protein quality, with a maximum possible score of 1.0. Animal meats like beef have a score of approximately 0.9, compared to values of 0.5-0.7 for most plant foods [9]. The amino acid glutamic acid/glutamine is present in meat in the highest amounts (16.5%), followed by arginine, alanine, and aspartic acid.\n",
      "Table 1. Nutrient composition (per 100g) of lean red meat [4-6]\n",
      "University of Wollongong\n",
      "\n",
      "Research Online\n",
      "\n",
      "Faculty of Health and Behavioural Sciences - Papers (Archive)\n",
      "\n",
      "Faculty of Science, Medicine and Health\n",
      "\n",
      "September 2007\n",
      "\n",
      "Nutritional composition of red meat\n",
      "\n",
      "P. G. Williams University of Wollongong, peterw@uow.edu.au\n",
      "\n",
      "Follow this and additional works at: https://ro.uow.edu.au/hbspapers\n",
      "\n",
      "Part of the Arts and Humanities Commons, Life Sciences Commons, Medicine and Health Sciences Commons, and the Social and Behavioral Sciences Commons\n",
      "\n",
      "Recommended Citation\n",
      "\n",
      "Williams, P. G.: Nutritional composition of red meat 2007. https://ro.uow.edu.au/hbspapers/48\n",
      "\n",
      "Research Online is the open access institutional repository for the University of Wollongong. For further information contact the UOW Library: research-pubs@uow.edu.au\n",
      "\n",
      "Nutritional composition of red meat\n",
      "\n",
      "Abstract\n",
      "\n",
      "Lean red meats are: • An excellent source of high biological value protein, vitamin B12, niacin, vitamin B6, iron, zinc and phosphorus • A source of long-chain omega-3 polyunsaturated fats, riboflavin, pantothenic acid, selenium and possibly also vitamin D • Mostly low in fat and sodium • Sources of a range of endogenous antioxidants and other bioactive substances including taurine, carnitine, carnosine, ubiquinone, glutathione and creatine.\n",
      "\n",
      "Keywords\n",
      "\n",
      "red meat, nutrients, beef, lamb, mutton, veal\n",
      "\n",
      "Disciplines\n",
      "\n",
      "Arts and Humanities | Life Sciences | Medicine and Health Sciences | Social and Behavioral Sciences\n",
      "\n",
      "Publication Details\n",
      "\n",
      "This article was originally published as: Williams, PG, Nutritional composition of red meat, Nutrition & Dietetics, 2007, 64(Suppl 4), S113-S119. The definitive version is available at www.blackwell-synergy.com. Nutrition & Dietetics is the official journal of the Dietitians Association of Australia. Copyright 2007 Blackwell Publishing.\n",
      "\n",
      "This journal article is available at Research Online: https://ro.uow.edu.au/hbspapers/48\n",
      "\n",
      "The Nutritional Composition of Red Meat\n",
      "\n",
      "Assoc Prof Peter Williams PhD FDAA\n",
      "\n",
      "Smart Foods Centre, University of Wollongong\n"
     ]
    }
   ],
   "source": [
    "for dt in docs:\n",
    "    print(dt)"
   ]
  },
  {
   "cell_type": "code",
   "execution_count": null,
   "metadata": {},
   "outputs": [],
   "source": []
  },
  {
   "cell_type": "markdown",
   "metadata": {},
   "source": [
    "### RAG Pipeline"
   ]
  },
  {
   "cell_type": "markdown",
   "metadata": {},
   "source": [
    "#### Parse the retriever output into readable format"
   ]
  },
  {
   "cell_type": "code",
   "execution_count": 26,
   "metadata": {},
   "outputs": [],
   "source": [
    "def parse_retriver_output(data):\n",
    "    parsed_elements = []\n",
    "    for element in data:\n",
    "        if 'CompositeElement' in str(type(element)):\n",
    "            parsed_elements.append(element.text)\n",
    "        else:\n",
    "            parsed_elements.append(element)\n",
    "            \n",
    "    return parsed_elements"
   ]
  },
  {
   "cell_type": "markdown",
   "metadata": {},
   "source": [
    "#### Chat with the LLM using retrieved context"
   ]
  },
  {
   "cell_type": "code",
   "execution_count": 27,
   "metadata": {},
   "outputs": [],
   "source": [
    "def chat_with_llm():\n",
    "\n",
    "\n",
    "    prompt_text = \"\"\"\n",
    "                You are an AI Assistant tasked with understanding detailed\n",
    "                information from text and tables. You are to answer the question based on the \n",
    "                context provided to you. You must not go beyond the context given to you.\n",
    "                \n",
    "                Context:\n",
    "                {context}\n",
    "\n",
    "                Question:\n",
    "                {question}\n",
    "                \"\"\"\n",
    "\n",
    "    prompt = ChatPromptTemplate.from_template(prompt_text)\n",
    "    model = ChatOpenAI(temperature=0.6, model=\"gpt-4o-mini\")\n",
    "\n",
    "    rag_chain = {\n",
    "       \"context\": retriever | RunnableLambda(parse_retriver_output), \"question\": RunnablePassthrough(),\n",
    "        } | RunnablePassthrough().assign(\n",
    "        response=(\n",
    "        prompt \n",
    "        | model \n",
    "        | StrOutputParser()\n",
    "        )\n",
    "        )\n",
    "\n",
    "    return rag_chain\n",
    "\n",
    "\n"
   ]
  },
  {
   "cell_type": "code",
   "execution_count": null,
   "metadata": {},
   "outputs": [],
   "source": []
  },
  {
   "cell_type": "code",
   "execution_count": 28,
   "metadata": {},
   "outputs": [],
   "source": [
    "rag_chain = chat_with_llm()"
   ]
  },
  {
   "cell_type": "code",
   "execution_count": 29,
   "metadata": {},
   "outputs": [],
   "source": [
    "response = rag_chain.invoke(\"What is Meat based bioactive compounds\")"
   ]
  },
  {
   "cell_type": "code",
   "execution_count": 30,
   "metadata": {},
   "outputs": [
    {
     "data": {
      "text/plain": [
       "{'context': [b'University of Wollongong\\n\\nResearch Online\\n\\nFaculty of Health and Behavioural Sciences - Papers (Archive)\\n\\nFaculty of Science, Medicine and Health\\n\\nSeptember 2007\\n\\nNutritional composition of red meat\\n\\nP. G. Williams University of Wollongong, peterw@uow.edu.au\\n\\nFollow this and additional works at: https://ro.uow.edu.au/hbspapers\\n\\nPart of the Arts and Humanities Commons, Life Sciences Commons, Medicine and Health Sciences Commons, and the Social and Behavioral Sciences Commons\\n\\nRecommended Citation\\n\\nWilliams, P. G.: Nutritional composition of red meat 2007. https://ro.uow.edu.au/hbspapers/48\\n\\nResearch Online is the open access institutional repository for the University of Wollongong. For further information contact the UOW Library: research-pubs@uow.edu.au\\n\\nNutritional composition of red meat\\n\\nAbstract\\n\\nLean red meats are: \\xe2\\x80\\xa2 An excellent source of high biological value protein, vitamin B12, niacin, vitamin B6, iron, zinc and phosphorus \\xe2\\x80\\xa2 A source of long-chain omega-3 polyunsaturated fats, riboflavin, pantothenic acid, selenium and possibly also vitamin D \\xe2\\x80\\xa2 Mostly low in fat and sodium \\xe2\\x80\\xa2 Sources of a range of endogenous antioxidants and other bioactive substances including taurine, carnitine, carnosine, ubiquinone, glutathione and creatine.\\n\\nKeywords\\n\\nred meat, nutrients, beef, lamb, mutton, veal\\n\\nDisciplines\\n\\nArts and Humanities | Life Sciences | Medicine and Health Sciences | Social and Behavioral Sciences\\n\\nPublication Details\\n\\nThis article was originally published as: Williams, PG, Nutritional composition of red meat, Nutrition & Dietetics, 2007, 64(Suppl 4), S113-S119. The definitive version is available at www.blackwell-synergy.com. Nutrition & Dietetics is the official journal of the Dietitians Association of Australia. Copyright 2007 Blackwell Publishing.\\n\\nThis journal article is available at Research Online: https://ro.uow.edu.au/hbspapers/48\\n\\nThe Nutritional Composition of Red Meat\\n\\nAssoc Prof Peter Williams PhD FDAA\\n\\nSmart Foods Centre, University of Wollongong',\n",
       "  b'University of Wollongong\\n\\nResearch Online\\n\\nFaculty of Health and Behavioural Sciences - Papers (Archive)\\n\\nFaculty of Science, Medicine and Health\\n\\nSeptember 2007\\n\\nNutritional composition of red meat\\n\\nP. G. Williams University of Wollongong, peterw@uow.edu.au\\n\\nFollow this and additional works at: https://ro.uow.edu.au/hbspapers\\n\\nPart of the Arts and Humanities Commons, Life Sciences Commons, Medicine and Health Sciences Commons, and the Social and Behavioral Sciences Commons\\n\\nRecommended Citation\\n\\nWilliams, P. G.: Nutritional composition of red meat 2007. https://ro.uow.edu.au/hbspapers/48\\n\\nResearch Online is the open access institutional repository for the University of Wollongong. For further information contact the UOW Library: research-pubs@uow.edu.au\\n\\nNutritional composition of red meat\\n\\nAbstract\\n\\nLean red meats are: \\xe2\\x80\\xa2 An excellent source of high biological value protein, vitamin B12, niacin, vitamin B6, iron, zinc and phosphorus \\xe2\\x80\\xa2 A source of long-chain omega-3 polyunsaturated fats, riboflavin, pantothenic acid, selenium and possibly also vitamin D \\xe2\\x80\\xa2 Mostly low in fat and sodium \\xe2\\x80\\xa2 Sources of a range of endogenous antioxidants and other bioactive substances including taurine, carnitine, carnosine, ubiquinone, glutathione and creatine.\\n\\nKeywords\\n\\nred meat, nutrients, beef, lamb, mutton, veal\\n\\nDisciplines\\n\\nArts and Humanities | Life Sciences | Medicine and Health Sciences | Social and Behavioral Sciences\\n\\nPublication Details\\n\\nThis article was originally published as: Williams, PG, Nutritional composition of red meat, Nutrition & Dietetics, 2007, 64(Suppl 4), S113-S119. The definitive version is available at www.blackwell-synergy.com. Nutrition & Dietetics is the official journal of the Dietitians Association of Australia. Copyright 2007 Blackwell Publishing.\\n\\nThis journal article is available at Research Online: https://ro.uow.edu.au/hbspapers/48\\n\\nThe Nutritional Composition of Red Meat\\n\\nAssoc Prof Peter Williams PhD FDAA\\n\\nSmart Foods Centre, University of Wollongong',\n",
       "  b'Key Points\\n\\nLean red meats are:\\n\\ne Anexcellent source of high biological value protein, vitamin B12, niacin, vitamin B6, iron, zinc and phosphorus\\n\\ne A source of long-chain omega-3 polyunsaturated fats, riboflavin, pantothenic acid, selenium and possibly also vitamin D\\n\\ne Mostly low in fat and sodium\\n\\ne Sources of a range of endogenous antioxidants and other bioactive substances including taurine, carnitine, carnosine, ubiquinone, glutathione and creatine.\\n\\n1) What is meat?\\n\\nThe Food Standards Australia New Zealand (FSANZ) Food Standard Code defines meat as \\xe2\\x80\\x98the whole or part of the carcass of any buffalo, camel, cattle, deer, goat, hare, pig, poultry, rabbit or sheep, slaughtered other than in a wild state, but does not include eggs, or foetuses\\xe2\\x80\\x99 [1]. This definition does not include kangaroo meat, which is now widely available for purchase in Australia and would be considered by most Australians as meat.\\n\\nCommonly people use \\xe2\\x80\\x98meat\\xe2\\x80\\x99 to refer only to meat flesh (skeletal muscle plus any attached connective tissue or fat), but the FSANZ definition also includes offal (ie, meat other than meat flesh, including brain, heart, kidney, liver, pancreas, spleen, thymus, tongue and tripe) although it excludes bone and bone marrow.\\n\\nIn Australia, the term \\xe2\\x80\\x98red meat\\xe2\\x80\\x99 is used by the meat industry to refer to meat from cattle, sheep and goat (ie beef, veal, lamb, mutton and goat meat). It does not include meat from pigs (eg, pork, bacon, ham) or kangaroo, nor less common game meats like buffalo and camel, although nutrient composition of some of these products is now becoming available [2]. Purchased red meat usually consists of both lean tissue (muscle) and fat tissue, which can be either distributed throughout the muscle as marbling (internal fat) or surrounding the muscle meat as selvage or external fat. In trimmed lean meat, it is usually the external fat only that is removed.\\n\\nProcessed meat means a product containing no less than 30% meat, that has undergone a method of preservation other than freezing, and includes manufactured meat and cured and/or dried meat flesh (eg, sausages, salami, canned meats).',\n",
       "  b'Key Points\\n\\nLean red meats are:\\n\\ne Anexcellent source of high biological value protein, vitamin B12, niacin, vitamin B6, iron, zinc and phosphorus\\n\\ne A source of long-chain omega-3 polyunsaturated fats, riboflavin, pantothenic acid, selenium and possibly also vitamin D\\n\\ne Mostly low in fat and sodium\\n\\ne Sources of a range of endogenous antioxidants and other bioactive substances including taurine, carnitine, carnosine, ubiquinone, glutathione and creatine.\\n\\n1) What is meat?\\n\\nThe Food Standards Australia New Zealand (FSANZ) Food Standard Code defines meat as \\xe2\\x80\\x98the whole or part of the carcass of any buffalo, camel, cattle, deer, goat, hare, pig, poultry, rabbit or sheep, slaughtered other than in a wild state, but does not include eggs, or foetuses\\xe2\\x80\\x99 [1]. This definition does not include kangaroo meat, which is now widely available for purchase in Australia and would be considered by most Australians as meat.\\n\\nCommonly people use \\xe2\\x80\\x98meat\\xe2\\x80\\x99 to refer only to meat flesh (skeletal muscle plus any attached connective tissue or fat), but the FSANZ definition also includes offal (ie, meat other than meat flesh, including brain, heart, kidney, liver, pancreas, spleen, thymus, tongue and tripe) although it excludes bone and bone marrow.\\n\\nIn Australia, the term \\xe2\\x80\\x98red meat\\xe2\\x80\\x99 is used by the meat industry to refer to meat from cattle, sheep and goat (ie beef, veal, lamb, mutton and goat meat). It does not include meat from pigs (eg, pork, bacon, ham) or kangaroo, nor less common game meats like buffalo and camel, although nutrient composition of some of these products is now becoming available [2]. Purchased red meat usually consists of both lean tissue (muscle) and fat tissue, which can be either distributed throughout the muscle as marbling (internal fat) or surrounding the muscle meat as selvage or external fat. In trimmed lean meat, it is usually the external fat only that is removed.\\n\\nProcessed meat means a product containing no less than 30% meat, that has undergone a method of preservation other than freezing, and includes manufactured meat and cured and/or dried meat flesh (eg, sausages, salami, canned meats).'],\n",
       " 'question': 'What is Meat based bioactive compounds',\n",
       " 'response': 'The provided context does not specifically define or mention \"meat-based bioactive compounds.\" However, it does note that lean red meats are sources of a range of endogenous antioxidants and other bioactive substances, including taurine, carnitine, carnosine, ubiquinone, glutathione, and creatine. These substances can be classified as bioactive compounds found in red meat.'}"
      ]
     },
     "execution_count": 30,
     "metadata": {},
     "output_type": "execute_result"
    }
   ],
   "source": [
    "response"
   ]
  },
  {
   "cell_type": "code",
   "execution_count": null,
   "metadata": {},
   "outputs": [],
   "source": []
  },
  {
   "cell_type": "code",
   "execution_count": null,
   "metadata": {},
   "outputs": [],
   "source": [
    "response = rag_chain.invoke(\"What is the nutrient composition of organ meats\")"
   ]
  },
  {
   "cell_type": "code",
   "execution_count": 48,
   "metadata": {},
   "outputs": [
    {
     "data": {
      "text/plain": [
       "{'context': ['Table 1. Nutrient composition (per 100g) of lean red meat [4-6]',\n",
       "  '1. Average values from 2002 analyses of Australian red meat [17]\\n\\n2. Values for raw lean chicken breast from NUTTAB 2006 [38]\\n\\n3. Values for raw lean pork fillet from NUTTAB 2006 [38]\\n\\n4. Values for raw flathead from NUTTAB 2006 [38]\\n\\n5. Values for canned red salmon from NUTTAB 2006 [38]\\n\\n9\\n\\nTable 5. Selected nutrients (per 100g) in raw liver, kidney, heart, brain and tripe 1',\n",
       "  '<table><tr><td/><td>Liver</td><td>Kidney</td><td>Heart</td><td/><td>Brain</td><td>Tripe Beef</td></tr><tr><td/><td>Beef</td><td>Lamb</td><td>Beef</td><td>Lamb</td><td>Beef</td><td>Lamb</td><td>Lamb</td></tr><tr><td>Protein (g)</td><td>20.0</td><td>21.4</td><td>18.2</td><td>17.1</td><td>18.2</td><td>17.8</td><td>12.3</td><td>13.2</td></tr><tr><td>Fat (g)</td><td>8.6</td><td>7.5</td><td>1.6</td><td>2.5</td><td>3.0</td><td>5.6</td><td>8.0</td><td>2.1</td></tr><tr><td>Saturated fat (g)</td><td>2.8</td><td>2.2</td><td>0.6</td><td>0.9</td><td>1.2</td><td>2.3</td><td>2.2</td><td>0.9</td></tr><tr><td>Long-chain omega-3 fat (mg)</td><td>561</td><td>361</td><td>47</td><td>103</td><td>54</td><td>102</td><td>574</td><td>20</td></tr><tr><td>Cholesterol (mg)</td><td>271</td><td>433</td><td>313</td><td>338</td><td>103</td><td>129</td><td>1352</td><td>82</td></tr><tr><td>Thiamin (mg)</td><td>0.23</td><td>0.24</td><td>0.40</td><td>0.56</td><td>0.50</td><td>0.61</td><td>0.14</td><td>0</td></tr><tr><td>Riboflavin (mg)</td><td>4.80</td><td>2.80</td><td>3.60</td><td>2.10</td><td>1.50</td><td>1.10</td><td>0.40</td><td>0.10</td></tr><tr><td>Niacin (mg)</td><td>9.4</td><td>10.9</td><td>6.5</td><td>7.6</td><td>6.9</td><td>5.9</td><td>5.1</td><td>0.2</td></tr><tr><td>Folate (ug)</td><td>290</td><td>230</td><td>98</td><td>28</td><td>3</td><td>2</td><td>3</td><td>5</td></tr><tr><td>Vitamin B12 (ug)</td><td>59</td><td>90</td><td>28</td><td>52</td><td>9</td><td>10</td><td>11</td><td>1</td></tr><tr><td>Retinol equivalents (ug)</td><td>13877</td><td>31400</td><td>155</td><td>93</td><td>10</td><td>0</td><td>0</td><td>0</td></tr><tr><td>Zinc (mg)</td><td>3.6</td><td>4.3</td><td>1.8</td><td>2.6</td><td>1.6</td><td>1.6</td><td>1.1</td><td>1.2</td></tr><tr><td>Iron (mg)</td><td>5.8</td><td>9.5</td><td>5.4</td><td>9.8</td><td>5.0</td><td>3.9</td><td>1.7</td><td>0.4</td></tr><tr><td>Magnesium (mg)</td><td>15</td><td>19</td><td>15</td><td>16</td><td>17</td><td>17</td><td>12</td><td>6</td></tr><tr><td>Sodium (mg)</td><td>78</td><td>67</td><td>160</td><td>190</td><td>91</td><td>82</td><td>120</td><td>100</td></tr><tr><td>Potassium (mg)</td><td>320</td><td>300</td><td>250</td><td>260</td><td>280</td><td>260</td><td>340</td><td>23</td></tr></table>',\n",
       "  \"1. Average values from 2002 analyses of Australian red meat [4]\\n\\n2. Values from NUTTAB 2006 [38]\\n\\n11\\n\\nReferences\\n\\n1. Food Standards Australia New Zealand. Food Standards Code - Volume 2. Canberra: Information Australia, 2002.\\n\\n2. Beilken S, Eustace E, Eustace R. Composition of new meats - analyses and nutrient composition of innovative meat industries. RIRDC Publication No 07/036. Canberra: RIRDC, 2007. Cited 25 April 2007. Available at: http://www.rirdc.gov.au/reports/NAP/07-036.pdf.\\n\\n3. Williams P, Droulez V, Levy G et al. Nutrient composition of Australian red meat 2002. 1. Gross composition data. Food Aust 2006; 58: 173-181.\\n\\n4. Williams P, Droulez V, Levy G et al. Composition of Australian red meat 2002. 3. Nutrient profile. Food Aust 2007; 59(in press).\\n\\n5. Sadler M, Lewis J, Buick D. Composition of trim lamb. Food Aust 1993; 45(Suppl): S2-12.\\n\\n6. Sinclair A, Mann N, O'Connell S. The nutrient composition of Australian beef and lamb. Melbourne: RMIT, 1999.\\n\\n7. National Health and Medical Research Council. Nutrient Reference Values for Australia and New Zealand including Recommended Dietary Intakes. Canberra: Commonwealth Department of Health and Ageing, 2006.\\n\\n8. Bhutta Z. Protein: digestibility and availability. In: Encyclopedia of Human Nutrition. M Sadler, J Strain and B. Caballero (Editors). San Diego: Academic Press, 1999. p. 1646-1656.\\n\\n9. Schaafsma G. The Protein Digestibility-Corrected Amino Acid Score. J Nutr 2000; 130: 1865S-1867S.\\n\\n10. Cobiac L, Droulez V, Leppard P et al. Use of external fat width to describe beef and lamb cuts in food composition tables. J Food Comp Anal 2003; 16: 133-145.\\n\\n11. Greenfield H, Kuo Y, Hutchison G et al. Composition of Australian foods. 33. Lamb. Food Aust 1987; 39: 202-207.\\n\\n12. Greenfield, H, Kuo Y, Hutchison G et al., Composition of Australian foods. 34. Beef and veal. Food Aust 1987; 39: 208-215;227.\\n\\n13. Higgs J. The changing nature of red meat: 20 years of improving nutritional quality. Trends Food Sci Technol 2000; 11: 85-95.\\n\\n14. Sinclair A, O'Dea K. The lipid levels and fatty acid compositions of the lean portions of Australian beef and lamb. Food Technol Aust 1987; 39: 228-231.\\n\\n15. Marmer W, Maxwell R, Williams J. Effects of dietary regimen and tissue site on bovine fatty acid profiles. J Anim Sci 1984; 59: 109-121.\\n\\n16. Howe P, Meyer B, Record S et al. Dietary intakes of long-chain omega-3 polyunsaturated fatty acids: contribution of meat sources. Nutrition, 2006; 22: 47-53.\\n\\n17. Droulez V, Williams P, Levy G et al. Nutrient composition of Australian red meat 2002. 2. Fatty acid profile. Food Aust 2006; 58: 335-341.\\n\\n18. Zeisel S, Niculescu M. Choline and Phosphatidylcholine. In Modern Nutrition in Health and Disease. M Shils et al. (Editors). Philadelphia: Lippincott Williams & Wilkins, 2006. p. 525-536.\\n\\n19. Purchas R, Zou M, Pearce P et al. Concentrations of vitamin D3 and 2- hydroxyvitamin D3 in raw and cooked New Zealand beef and lamb. J Food Comp Anal 2007; 20: 90-98.\\n\\n20. Chan W, Brown J, Lee S et al. Meat, Poultry and Game. Fifth Supplement to McCance & Widdowson's The Composition of Foods. London: The Royal\\n\\n12\\n\\nSociety of Chemistry and the Ministry of Agriculture Fisheries and Food, 1995.\\n\\n21. Arihara K. Strategies for designing novel functional meat products. Meat Sci 2006; 74: 219-229.\\n\\n22. Purchas R, Rutherfurd S, Pearce P et al. Concentrations in beef and lamb of taurine, carnosine, coenzyme Q10, and creatine. Meat Sci 2004; 66: 629-637.\\n\\n23. Redmond H, Stapleton P, Neary P et al. Immunonutrition: the role of taurine. Nutr Cancer 1998; 14: 599-608.\\n\\n24. Bouckenooghe T, Remacle C, Reusens B. Is taurine a functional nutrient? Curr Opin Clin Nutr Metab Care 2006; 9: 728-733.\\n\\n25. Tanpaichitr V, Leelahagul P. Carnitine metabolism and human carnitine metabolism. Nutrition 1993; 9: 246-254.\\n\\n26. Mitchell M. Carnitine metabolism in human subjects 1. Normal metabolism. Am J Clin Nutr 1978; 31: 293-306.\\n\\n27. Shimada L, Sakuma Y, Wakamatsu J et al. Species and muscle differences in L-carnitine in skeletal muscles based on a new simple assay. Meat Sci 2004; 68: 357-362.\\n\\n28. Azain M. Conjugated linoleic acid and its effects on animal products and health in single-stomached animals. Proc Nutr Soc 2003; 62: 319-328.\\n\\n29. Dhiman T, Nam S, Ure A. Factors affecting conjugated linoleic acid content in milk and meat. Crit Rev Food Sci Nutr 2005; 45: 463-482.\\n\\n30. Decker E, Livisay S, Zhou S. Mechanisms of endogenous skeletal muscle antioxidants: chemical and physical aspects. In Antioxidants in muscle foods, E. Decker, C. Faustman and C. Lopez-Bote (Editors). New York: Wiley- Interscience, 2000. p. 25-60.\\n\\n31. Purchas R, Busboom J. The effect of production system and age on levels of iron, taurine, carnosine, coenzyme Q10, and creatine in beef muscles and lover. Meat Sci 2005; 70: 589-596.\\n\\n32. Decker E, Ivanov V, Zhu B et al. Inhibition of low density lipoprotein oxidation by carnosine and histidine. J Agric Food Chem 2001; 49: 511-516.\\n\\n33. Overvad K, Diamant B, Holm L et al. Coenzyme Q10 in health and disease. Eur J Clin Nutr 1999; 53: 764-770.\\n\\n34. Jones D, Coates R, Flagg E et al. Glutathione in foods listed in the National Cancer Institute's health habits and history food frequency questionnaire. Nutr Cancer, 1992; 17: 57-75.\"],\n",
       " 'question': 'What is the nutrient composition of organ meats',\n",
       " 'response': 'The nutrient composition of organ meats (per 100g) is as follows:\\n\\n| Nutrient                     | Liver (Beef) | Kidney (Beef) | Heart (Beef) | Brain (Beef) | Tripe (Beef) | Liver (Lamb) | Kidney (Lamb) | Heart (Lamb) | Brain (Lamb) | Tripe (Lamb) |\\n|------------------------------|--------------|---------------|---------------|--------------|--------------|--------------|---------------|---------------|--------------|--------------|\\n| Protein (g)                  | 20.0         | 21.4          | 18.2          | 18.2         | 17.8         | 12.3         | 13.2          |               |              |              |\\n| Fat (g)                      | 8.6          | 7.5           | 1.6           | 3.0          | 5.6          | 8.0          | 2.1           |               |              |              |\\n| Saturated fat (g)           | 2.8          | 2.2           | 0.6           | 1.2          | 2.3          | 2.2          | 0.9           |               |              |              |\\n| Long-chain omega-3 fat (mg) | 561          | 361           | 47            | 54           | 102          | 574          | 20            |               |              |              |\\n| Cholesterol (mg)             | 271          | 433           | 313           | 103          | 129          | 1352         | 82            |               |              |              |\\n| Thiamin (mg)                 | 0.23         | 0.24          | 0.40          | 0.50         | 0.61         | 0.14         | 0.0           |               |              |              |\\n| Riboflavin (mg)             | 4.80         | 2.80          | 3.60          | 1.50         | 1.10         | 0.40         | 0.10          |               |              |              |\\n| Niacin (mg)                  | 9.4          | 10.9          | 6.5           | 6.9          | 5.9          | 5.1          | 0.2           |               |              |              |\\n| Folate (ug)                  | 290          | 230           | 98            | 3            | 2            | 3            | 5             |               |              |              |\\n| Vitamin B12 (ug)             | 59           | 90            | 28            | 9            | 10           | 11           | 1             |               |              |              |\\n| Retinol equivalents (ug)     | 13877        | 31400         | 155           | 10           | 0            | 0            | 0             |               |              |              |\\n| Zinc (mg)                    | 3.6          | 4.3           | 1.8           | 1.6          | 1.6          | 1.1          | 1.2           |               |              |              |\\n| Iron (mg)                    | 5.8          | 9.5           | 5.4           | 5.0          | 3.9          | 1.7          | 0.4           |               |              |              |\\n| Magnesium (mg)               | 15           | 19            | 15            | 17           | 17           | 12           | 6             |               |              |              |\\n| Sodium (mg)                  | 78           | 67            | 160           | 91           | 82           | 120          | 100           |               |              |              |\\n| Potassium (mg)               | 320          | 300           | 250           | 280          | 260          | 340          | 23            |               |              |              |\\n\\nThis table provides a detailed breakdown of the nutrient composition for various organ meats, including liver, kidney, heart, brain, and tripe, for both beef and lamb.'}"
      ]
     },
     "execution_count": 48,
     "metadata": {},
     "output_type": "execute_result"
    }
   ],
   "source": [
    "response"
   ]
  },
  {
   "cell_type": "code",
   "execution_count": null,
   "metadata": {},
   "outputs": [],
   "source": []
  },
  {
   "cell_type": "code",
   "execution_count": 51,
   "metadata": {},
   "outputs": [
    {
     "data": {
      "text/plain": [
       "{'context': ['Table 1. Nutrient composition (per 100g) of lean red meat [4-6]',\n",
       "  '1. Average values from 2002 analyses of Australian red meat [17]\\n\\n2. Values for raw lean chicken breast from NUTTAB 2006 [38]\\n\\n3. Values for raw lean pork fillet from NUTTAB 2006 [38]\\n\\n4. Values for raw flathead from NUTTAB 2006 [38]\\n\\n5. Values for canned red salmon from NUTTAB 2006 [38]\\n\\n9\\n\\nTable 5. Selected nutrients (per 100g) in raw liver, kidney, heart, brain and tripe 1',\n",
       "  '<table><tr><td/><td>Liver</td><td>Kidney</td><td>Heart</td><td/><td>Brain</td><td>Tripe Beef</td></tr><tr><td/><td>Beef</td><td>Lamb</td><td>Beef</td><td>Lamb</td><td>Beef</td><td>Lamb</td><td>Lamb</td></tr><tr><td>Protein (g)</td><td>20.0</td><td>21.4</td><td>18.2</td><td>17.1</td><td>18.2</td><td>17.8</td><td>12.3</td><td>13.2</td></tr><tr><td>Fat (g)</td><td>8.6</td><td>7.5</td><td>1.6</td><td>2.5</td><td>3.0</td><td>5.6</td><td>8.0</td><td>2.1</td></tr><tr><td>Saturated fat (g)</td><td>2.8</td><td>2.2</td><td>0.6</td><td>0.9</td><td>1.2</td><td>2.3</td><td>2.2</td><td>0.9</td></tr><tr><td>Long-chain omega-3 fat (mg)</td><td>561</td><td>361</td><td>47</td><td>103</td><td>54</td><td>102</td><td>574</td><td>20</td></tr><tr><td>Cholesterol (mg)</td><td>271</td><td>433</td><td>313</td><td>338</td><td>103</td><td>129</td><td>1352</td><td>82</td></tr><tr><td>Thiamin (mg)</td><td>0.23</td><td>0.24</td><td>0.40</td><td>0.56</td><td>0.50</td><td>0.61</td><td>0.14</td><td>0</td></tr><tr><td>Riboflavin (mg)</td><td>4.80</td><td>2.80</td><td>3.60</td><td>2.10</td><td>1.50</td><td>1.10</td><td>0.40</td><td>0.10</td></tr><tr><td>Niacin (mg)</td><td>9.4</td><td>10.9</td><td>6.5</td><td>7.6</td><td>6.9</td><td>5.9</td><td>5.1</td><td>0.2</td></tr><tr><td>Folate (ug)</td><td>290</td><td>230</td><td>98</td><td>28</td><td>3</td><td>2</td><td>3</td><td>5</td></tr><tr><td>Vitamin B12 (ug)</td><td>59</td><td>90</td><td>28</td><td>52</td><td>9</td><td>10</td><td>11</td><td>1</td></tr><tr><td>Retinol equivalents (ug)</td><td>13877</td><td>31400</td><td>155</td><td>93</td><td>10</td><td>0</td><td>0</td><td>0</td></tr><tr><td>Zinc (mg)</td><td>3.6</td><td>4.3</td><td>1.8</td><td>2.6</td><td>1.6</td><td>1.6</td><td>1.1</td><td>1.2</td></tr><tr><td>Iron (mg)</td><td>5.8</td><td>9.5</td><td>5.4</td><td>9.8</td><td>5.0</td><td>3.9</td><td>1.7</td><td>0.4</td></tr><tr><td>Magnesium (mg)</td><td>15</td><td>19</td><td>15</td><td>16</td><td>17</td><td>17</td><td>12</td><td>6</td></tr><tr><td>Sodium (mg)</td><td>78</td><td>67</td><td>160</td><td>190</td><td>91</td><td>82</td><td>120</td><td>100</td></tr><tr><td>Potassium (mg)</td><td>320</td><td>300</td><td>250</td><td>260</td><td>280</td><td>260</td><td>340</td><td>23</td></tr></table>',\n",
       "  \"1. Average values from 2002 analyses of Australian red meat [4]\\n\\n2. Values from NUTTAB 2006 [38]\\n\\n11\\n\\nReferences\\n\\n1. Food Standards Australia New Zealand. Food Standards Code - Volume 2. Canberra: Information Australia, 2002.\\n\\n2. Beilken S, Eustace E, Eustace R. Composition of new meats - analyses and nutrient composition of innovative meat industries. RIRDC Publication No 07/036. Canberra: RIRDC, 2007. Cited 25 April 2007. Available at: http://www.rirdc.gov.au/reports/NAP/07-036.pdf.\\n\\n3. Williams P, Droulez V, Levy G et al. Nutrient composition of Australian red meat 2002. 1. Gross composition data. Food Aust 2006; 58: 173-181.\\n\\n4. Williams P, Droulez V, Levy G et al. Composition of Australian red meat 2002. 3. Nutrient profile. Food Aust 2007; 59(in press).\\n\\n5. Sadler M, Lewis J, Buick D. Composition of trim lamb. Food Aust 1993; 45(Suppl): S2-12.\\n\\n6. Sinclair A, Mann N, O'Connell S. The nutrient composition of Australian beef and lamb. Melbourne: RMIT, 1999.\\n\\n7. National Health and Medical Research Council. Nutrient Reference Values for Australia and New Zealand including Recommended Dietary Intakes. Canberra: Commonwealth Department of Health and Ageing, 2006.\\n\\n8. Bhutta Z. Protein: digestibility and availability. In: Encyclopedia of Human Nutrition. M Sadler, J Strain and B. Caballero (Editors). San Diego: Academic Press, 1999. p. 1646-1656.\\n\\n9. Schaafsma G. The Protein Digestibility-Corrected Amino Acid Score. J Nutr 2000; 130: 1865S-1867S.\\n\\n10. Cobiac L, Droulez V, Leppard P et al. Use of external fat width to describe beef and lamb cuts in food composition tables. J Food Comp Anal 2003; 16: 133-145.\\n\\n11. Greenfield H, Kuo Y, Hutchison G et al. Composition of Australian foods. 33. Lamb. Food Aust 1987; 39: 202-207.\\n\\n12. Greenfield, H, Kuo Y, Hutchison G et al., Composition of Australian foods. 34. Beef and veal. Food Aust 1987; 39: 208-215;227.\\n\\n13. Higgs J. The changing nature of red meat: 20 years of improving nutritional quality. Trends Food Sci Technol 2000; 11: 85-95.\\n\\n14. Sinclair A, O'Dea K. The lipid levels and fatty acid compositions of the lean portions of Australian beef and lamb. Food Technol Aust 1987; 39: 228-231.\\n\\n15. Marmer W, Maxwell R, Williams J. Effects of dietary regimen and tissue site on bovine fatty acid profiles. J Anim Sci 1984; 59: 109-121.\\n\\n16. Howe P, Meyer B, Record S et al. Dietary intakes of long-chain omega-3 polyunsaturated fatty acids: contribution of meat sources. Nutrition, 2006; 22: 47-53.\\n\\n17. Droulez V, Williams P, Levy G et al. Nutrient composition of Australian red meat 2002. 2. Fatty acid profile. Food Aust 2006; 58: 335-341.\\n\\n18. Zeisel S, Niculescu M. Choline and Phosphatidylcholine. In Modern Nutrition in Health and Disease. M Shils et al. (Editors). Philadelphia: Lippincott Williams & Wilkins, 2006. p. 525-536.\\n\\n19. Purchas R, Zou M, Pearce P et al. Concentrations of vitamin D3 and 2- hydroxyvitamin D3 in raw and cooked New Zealand beef and lamb. J Food Comp Anal 2007; 20: 90-98.\\n\\n20. Chan W, Brown J, Lee S et al. Meat, Poultry and Game. Fifth Supplement to McCance & Widdowson's The Composition of Foods. London: The Royal\\n\\n12\\n\\nSociety of Chemistry and the Ministry of Agriculture Fisheries and Food, 1995.\\n\\n21. Arihara K. Strategies for designing novel functional meat products. Meat Sci 2006; 74: 219-229.\\n\\n22. Purchas R, Rutherfurd S, Pearce P et al. Concentrations in beef and lamb of taurine, carnosine, coenzyme Q10, and creatine. Meat Sci 2004; 66: 629-637.\\n\\n23. Redmond H, Stapleton P, Neary P et al. Immunonutrition: the role of taurine. Nutr Cancer 1998; 14: 599-608.\\n\\n24. Bouckenooghe T, Remacle C, Reusens B. Is taurine a functional nutrient? Curr Opin Clin Nutr Metab Care 2006; 9: 728-733.\\n\\n25. Tanpaichitr V, Leelahagul P. Carnitine metabolism and human carnitine metabolism. Nutrition 1993; 9: 246-254.\\n\\n26. Mitchell M. Carnitine metabolism in human subjects 1. Normal metabolism. Am J Clin Nutr 1978; 31: 293-306.\\n\\n27. Shimada L, Sakuma Y, Wakamatsu J et al. Species and muscle differences in L-carnitine in skeletal muscles based on a new simple assay. Meat Sci 2004; 68: 357-362.\\n\\n28. Azain M. Conjugated linoleic acid and its effects on animal products and health in single-stomached animals. Proc Nutr Soc 2003; 62: 319-328.\\n\\n29. Dhiman T, Nam S, Ure A. Factors affecting conjugated linoleic acid content in milk and meat. Crit Rev Food Sci Nutr 2005; 45: 463-482.\\n\\n30. Decker E, Livisay S, Zhou S. Mechanisms of endogenous skeletal muscle antioxidants: chemical and physical aspects. In Antioxidants in muscle foods, E. Decker, C. Faustman and C. Lopez-Bote (Editors). New York: Wiley- Interscience, 2000. p. 25-60.\\n\\n31. Purchas R, Busboom J. The effect of production system and age on levels of iron, taurine, carnosine, coenzyme Q10, and creatine in beef muscles and lover. Meat Sci 2005; 70: 589-596.\\n\\n32. Decker E, Ivanov V, Zhu B et al. Inhibition of low density lipoprotein oxidation by carnosine and histidine. J Agric Food Chem 2001; 49: 511-516.\\n\\n33. Overvad K, Diamant B, Holm L et al. Coenzyme Q10 in health and disease. Eur J Clin Nutr 1999; 53: 764-770.\\n\\n34. Jones D, Coates R, Flagg E et al. Glutathione in foods listed in the National Cancer Institute's health habits and history food frequency questionnaire. Nutr Cancer, 1992; 17: 57-75.\"],\n",
       " 'question': 'What is the nutrient composition of organ meats',\n",
       " 'response': 'The nutrient composition of organ meats (per 100g) is as follows:\\n\\n| Nutrient                     | Liver (Beef) | Kidney (Beef) | Heart (Beef) | Brain (Beef) | Tripe (Beef) | Liver (Lamb) | Kidney (Lamb) | Heart (Lamb) | Brain (Lamb) | Tripe (Lamb) |\\n|------------------------------|--------------|---------------|---------------|--------------|--------------|--------------|---------------|---------------|--------------|--------------|\\n| Protein (g)                  | 20.0         | 21.4          | 18.2          | 18.2         | 17.8         | 12.3         | 13.2          |               |              |              |\\n| Fat (g)                      | 8.6          | 7.5           | 1.6           | 3.0          | 5.6          | 8.0          | 2.1           |               |              |              |\\n| Saturated fat (g)           | 2.8          | 2.2           | 0.6           | 1.2          | 2.3          | 2.2          | 0.9           |               |              |              |\\n| Long-chain omega-3 fat (mg) | 561          | 361           | 47            | 54           | 102          | 574          | 20            |               |              |              |\\n| Cholesterol (mg)             | 271          | 433           | 313           | 103          | 129          | 1352         | 82            |               |              |              |\\n| Thiamin (mg)                 | 0.23         | 0.24          | 0.40          | 0.50         | 0.61         | 0.14         | 0.0           |               |              |              |\\n| Riboflavin (mg)             | 4.80         | 2.80          | 3.60          | 1.50         | 1.10         | 0.40         | 0.10          |               |              |              |\\n| Niacin (mg)                  | 9.4          | 10.9          | 6.5           | 6.9          | 5.9          | 5.1          | 0.2           |               |              |              |\\n| Folate (ug)                  | 290          | 230           | 98            | 3            | 2            | 3            | 5             |               |              |              |\\n| Vitamin B12 (ug)             | 59           | 90            | 28            | 9            | 10           | 11           | 1             |               |              |              |\\n| Retinol equivalents (ug)     | 13877        | 31400         | 155           | 10           | 0            | 0            | 0             |               |              |              |\\n| Zinc (mg)                    | 3.6          | 4.3           | 1.8           | 1.6          | 1.6          | 1.1          | 1.2           |               |              |              |\\n| Iron (mg)                    | 5.8          | 9.5           | 5.4           | 5.0          | 3.9          | 1.7          | 0.4           |               |              |              |\\n| Magnesium (mg)               | 15           | 19            | 15            | 17           | 17           | 12           | 6             |               |              |              |\\n| Sodium (mg)                  | 78           | 67            | 160           | 91           | 82           | 120          | 100           |               |              |              |\\n| Potassium (mg)               | 320          | 300           | 250           | 280          | 260          | 340          | 23            |               |              |              |\\n\\nThis table provides a detailed breakdown of the nutrient composition for various organ meats, including liver, kidney, heart, brain, and tripe, for both beef and lamb.'}"
      ]
     },
     "execution_count": 51,
     "metadata": {},
     "output_type": "execute_result"
    }
   ],
   "source": [
    "response"
   ]
  },
  {
   "cell_type": "code",
   "execution_count": 53,
   "metadata": {},
   "outputs": [
    {
     "name": "stdout",
     "output_type": "stream",
     "text": [
      "The nutrient composition of organ meats (per 100g) is as follows:\n",
      "\n",
      "| Nutrient                     | Liver (Beef) | Kidney (Beef) | Heart (Beef) | Brain (Beef) | Tripe (Beef) | Liver (Lamb) | Kidney (Lamb) | Heart (Lamb) | Brain (Lamb) | Tripe (Lamb) |\n",
      "|------------------------------|--------------|---------------|---------------|--------------|--------------|--------------|---------------|---------------|--------------|--------------|\n",
      "| Protein (g)                  | 20.0         | 21.4          | 18.2          | 18.2         | 17.8         | 12.3         | 13.2          |               |              |              |\n",
      "| Fat (g)                      | 8.6          | 7.5           | 1.6           | 3.0          | 5.6          | 8.0          | 2.1           |               |              |              |\n",
      "| Saturated fat (g)           | 2.8          | 2.2           | 0.6           | 1.2          | 2.3          | 2.2          | 0.9           |               |              |              |\n",
      "| Long-chain omega-3 fat (mg) | 561          | 361           | 47            | 54           | 102          | 574          | 20            |               |              |              |\n",
      "| Cholesterol (mg)             | 271          | 433           | 313           | 103          | 129          | 1352         | 82            |               |              |              |\n",
      "| Thiamin (mg)                 | 0.23         | 0.24          | 0.40          | 0.50         | 0.61         | 0.14         | 0.0           |               |              |              |\n",
      "| Riboflavin (mg)             | 4.80         | 2.80          | 3.60          | 1.50         | 1.10         | 0.40         | 0.10          |               |              |              |\n",
      "| Niacin (mg)                  | 9.4          | 10.9          | 6.5           | 6.9          | 5.9          | 5.1          | 0.2           |               |              |              |\n",
      "| Folate (ug)                  | 290          | 230           | 98            | 3            | 2            | 3            | 5             |               |              |              |\n",
      "| Vitamin B12 (ug)             | 59           | 90            | 28            | 9            | 10           | 11           | 1             |               |              |              |\n",
      "| Retinol equivalents (ug)     | 13877        | 31400         | 155           | 10           | 0            | 0            | 0             |               |              |              |\n",
      "| Zinc (mg)                    | 3.6          | 4.3           | 1.8           | 1.6          | 1.6          | 1.1          | 1.2           |               |              |              |\n",
      "| Iron (mg)                    | 5.8          | 9.5           | 5.4           | 5.0          | 3.9          | 1.7          | 0.4           |               |              |              |\n",
      "| Magnesium (mg)               | 15           | 19            | 15            | 17           | 17           | 12           | 6             |               |              |              |\n",
      "| Sodium (mg)                  | 78           | 67            | 160           | 91           | 82           | 120          | 100           |               |              |              |\n",
      "| Potassium (mg)               | 320          | 300           | 250           | 280          | 260          | 340          | 23            |               |              |              |\n",
      "\n",
      "This table provides a detailed breakdown of the nutrient composition for various organ meats, including liver, kidney, heart, brain, and tripe, for both beef and lamb.\n"
     ]
    }
   ],
   "source": [
    "print(response['response'])"
   ]
  },
  {
   "cell_type": "code",
   "execution_count": null,
   "metadata": {},
   "outputs": [],
   "source": []
  },
  {
   "cell_type": "code",
   "execution_count": 46,
   "metadata": {},
   "outputs": [
    {
     "data": {
      "text/plain": [
       "{'context': ['University of Wollongong\\n\\nResearch Online\\n\\nFaculty of Health and Behavioural Sciences - Papers (Archive)\\n\\nFaculty of Science, Medicine and Health\\n\\nSeptember 2007\\n\\nNutritional composition of red meat\\n\\nP. G. Williams University of Wollongong, peterw@uow.edu.au\\n\\nFollow this and additional works at: https://ro.uow.edu.au/hbspapers\\n\\nPart of the Arts and Humanities Commons, Life Sciences Commons, Medicine and Health Sciences Commons, and the Social and Behavioral Sciences Commons\\n\\nRecommended Citation\\n\\nWilliams, P. G.: Nutritional composition of red meat 2007. https://ro.uow.edu.au/hbspapers/48\\n\\nResearch Online is the open access institutional repository for the University of Wollongong. For further information contact the UOW Library: research-pubs@uow.edu.au\\n\\nNutritional composition of red meat\\n\\nAbstract\\n\\nLean red meats are: • An excellent source of high biological value protein, vitamin B12, niacin, vitamin B6, iron, zinc and phosphorus • A source of long-chain omega-3 polyunsaturated fats, riboflavin, pantothenic acid, selenium and possibly also vitamin D • Mostly low in fat and sodium • Sources of a range of endogenous antioxidants and other bioactive substances including taurine, carnitine, carnosine, ubiquinone, glutathione and creatine.\\n\\nKeywords\\n\\nred meat, nutrients, beef, lamb, mutton, veal\\n\\nDisciplines\\n\\nArts and Humanities | Life Sciences | Medicine and Health Sciences | Social and Behavioral Sciences\\n\\nPublication Details\\n\\nThis article was originally published as: Williams, PG, Nutritional composition of red meat, Nutrition & Dietetics, 2007, 64(Suppl 4), S113-S119. The definitive version is available at www.blackwell-synergy.com. Nutrition & Dietetics is the official journal of the Dietitians Association of Australia. Copyright 2007 Blackwell Publishing.\\n\\nThis journal article is available at Research Online: https://ro.uow.edu.au/hbspapers/48\\n\\nThe Nutritional Composition of Red Meat\\n\\nAssoc Prof Peter Williams PhD FDAA\\n\\nSmart Foods Centre, University of Wollongong',\n",
       "  'Minerals\\n\\nBeef and lamb meat are among the richest sources of the minerals iron and zinc, with 100g providing at least one quarter of daily adult requirements (Table 1). The iron in meat is mostly haem-iron which is well absorbed, and meat protein also appears to enhance the absorption of iron from meat. Similarly, absorption of zinc from a diet high in animal protein is greater than from plant foods, and the requirements for zinc may be as much as 50% higher for vegetarians [7]. Red meats are also good sources of selenium, providing over 20% RDI per 100g serve, although it is likely that selenium values in meat will be significantly affected by where animals feed and the time of the year of sampling. Lean meat is low in sodium with a potassium/sodium ratio of greater than five. The copper content in raw lean cuts range from 0.055 to 0.190mg/100g in beef and veal, 0.090 to 0.140mg/100g in lamb, and 0.190 to 0.240mg/100g in mutton, all significantly higher than values reported in British meat [20].\\n\\n2.2 Meat based bioactive compounds\\n\\nIn addition to the traditional essential nutrients with defined requirements, there are a number of meat-based bioactive substances that have been studied for their potential beneficial effects [21].\\n\\nTaurine\\n\\nAn amino acid in meat of particular interest is taurine. Meat is rich in taurine (110mg/100g in lamb and 77mg/100g in beef) [22] and meat is the most abundant dietary source. While taurine can be derived from methionine and cysteine metabolism, there have been suggestions that it should be considered a conditionally essential amino acid during lactation, during times of immune challenge, and may offer protection against oxidative stress [23, 24].\\n\\nCarnitine\\n\\nL-carnitine (beta-hydroxy-gamma-trimethyl amino butyric acid) transports long chain fatty acids across the inner mitochondrial membranes to produce energy during exercise. Although not an essential nutrient, needs appear to be increased during pregnancy and after strenuous exercise and a recommended intake of 24-81mg/d has been proposed [25]. It is found in skeletal muscle and is particularly abundant in sheep muscle at up to 209mg/100g [26] and in beef at around 60mg/100g [27].\\n\\nConjugated linoleic acid (CLA)\\n\\nCLA has antioxidant and immunomodulatory properties and may also play a role in the control of obesity [28]. Since rumen bacteria convert linoleic acid to CLA, it is most abundant in the fat of ruminant animals, although CLA is also present in partially hydrogenated vegetable oils. The CLA content of meat is affected by several factors including breed, age and food composition [29]. It is mostly present in the fat component of red meat (approximately 1g/100g) but is also found in the muscle meat: 10-46mg/100g in raw meat and 30-100mg/100g in cooked red meat [17].\\n\\n4\\n\\nEndogenous antioxidants\\n\\nSeveral endogenous compounds (including ubiquinone, glutathione, lipoic acid, spermine, carnosine, anserine) have been studied in skeletal muscle [30]. Both carnosine and anserine are antioxidative histidyl dipeptides and the most abundant antioxidants in meat. Carnosine is present at around 365mg/100g in beef [31] and 400mg/100g in lamb [22]. Because carnosine is absorbed into the plasma intact, it is a potentially important dietary antioxidant [32]. Coenzyme Q10 (ubiquinone) also has antioxidant properties and supplements have shown beneficial effects in some studies [33]. Levels in meat are estimated to be around 2mg/100g in both beef and sheep meat [31]. Glutathione is a component of glutathione peroxidise enzymes which have an important antioxidant role in the body. It may also play a role in immune response and enhancing iron absorption by contributing to the ‘meat factor’. Glutathione levels in red meat are estimated to be 12-26mg/100g in beef [34] and most meats contain approximately twice the level of glutathione of poultry and up to ten times the content found in fish.',\n",
       "  'Key Points\\n\\nLean red meats are:\\n\\ne Anexcellent source of high biological value protein, vitamin B12, niacin, vitamin B6, iron, zinc and phosphorus\\n\\ne A source of long-chain omega-3 polyunsaturated fats, riboflavin, pantothenic acid, selenium and possibly also vitamin D\\n\\ne Mostly low in fat and sodium\\n\\ne Sources of a range of endogenous antioxidants and other bioactive substances including taurine, carnitine, carnosine, ubiquinone, glutathione and creatine.\\n\\n1) What is meat?\\n\\nThe Food Standards Australia New Zealand (FSANZ) Food Standard Code defines meat as ‘the whole or part of the carcass of any buffalo, camel, cattle, deer, goat, hare, pig, poultry, rabbit or sheep, slaughtered other than in a wild state, but does not include eggs, or foetuses’ [1]. This definition does not include kangaroo meat, which is now widely available for purchase in Australia and would be considered by most Australians as meat.\\n\\nCommonly people use ‘meat’ to refer only to meat flesh (skeletal muscle plus any attached connective tissue or fat), but the FSANZ definition also includes offal (ie, meat other than meat flesh, including brain, heart, kidney, liver, pancreas, spleen, thymus, tongue and tripe) although it excludes bone and bone marrow.\\n\\nIn Australia, the term ‘red meat’ is used by the meat industry to refer to meat from cattle, sheep and goat (ie beef, veal, lamb, mutton and goat meat). It does not include meat from pigs (eg, pork, bacon, ham) or kangaroo, nor less common game meats like buffalo and camel, although nutrient composition of some of these products is now becoming available [2]. Purchased red meat usually consists of both lean tissue (muscle) and fat tissue, which can be either distributed throughout the muscle as marbling (internal fat) or surrounding the muscle meat as selvage or external fat. In trimmed lean meat, it is usually the external fat only that is removed.\\n\\nProcessed meat means a product containing no less than 30% meat, that has undergone a method of preservation other than freezing, and includes manufactured meat and cured and/or dried meat flesh (eg, sausages, salami, canned meats).',\n",
       "  \"1. Average values from 2002 analyses of Australian red meat [4]\\n\\n2. Values from NUTTAB 2006 [38]\\n\\n11\\n\\nReferences\\n\\n1. Food Standards Australia New Zealand. Food Standards Code - Volume 2. Canberra: Information Australia, 2002.\\n\\n2. Beilken S, Eustace E, Eustace R. Composition of new meats - analyses and nutrient composition of innovative meat industries. RIRDC Publication No 07/036. Canberra: RIRDC, 2007. Cited 25 April 2007. Available at: http://www.rirdc.gov.au/reports/NAP/07-036.pdf.\\n\\n3. Williams P, Droulez V, Levy G et al. Nutrient composition of Australian red meat 2002. 1. Gross composition data. Food Aust 2006; 58: 173-181.\\n\\n4. Williams P, Droulez V, Levy G et al. Composition of Australian red meat 2002. 3. Nutrient profile. Food Aust 2007; 59(in press).\\n\\n5. Sadler M, Lewis J, Buick D. Composition of trim lamb. Food Aust 1993; 45(Suppl): S2-12.\\n\\n6. Sinclair A, Mann N, O'Connell S. The nutrient composition of Australian beef and lamb. Melbourne: RMIT, 1999.\\n\\n7. National Health and Medical Research Council. Nutrient Reference Values for Australia and New Zealand including Recommended Dietary Intakes. Canberra: Commonwealth Department of Health and Ageing, 2006.\\n\\n8. Bhutta Z. Protein: digestibility and availability. In: Encyclopedia of Human Nutrition. M Sadler, J Strain and B. Caballero (Editors). San Diego: Academic Press, 1999. p. 1646-1656.\\n\\n9. Schaafsma G. The Protein Digestibility-Corrected Amino Acid Score. J Nutr 2000; 130: 1865S-1867S.\\n\\n10. Cobiac L, Droulez V, Leppard P et al. Use of external fat width to describe beef and lamb cuts in food composition tables. J Food Comp Anal 2003; 16: 133-145.\\n\\n11. Greenfield H, Kuo Y, Hutchison G et al. Composition of Australian foods. 33. Lamb. Food Aust 1987; 39: 202-207.\\n\\n12. Greenfield, H, Kuo Y, Hutchison G et al., Composition of Australian foods. 34. Beef and veal. Food Aust 1987; 39: 208-215;227.\\n\\n13. Higgs J. The changing nature of red meat: 20 years of improving nutritional quality. Trends Food Sci Technol 2000; 11: 85-95.\\n\\n14. Sinclair A, O'Dea K. The lipid levels and fatty acid compositions of the lean portions of Australian beef and lamb. Food Technol Aust 1987; 39: 228-231.\\n\\n15. Marmer W, Maxwell R, Williams J. Effects of dietary regimen and tissue site on bovine fatty acid profiles. J Anim Sci 1984; 59: 109-121.\\n\\n16. Howe P, Meyer B, Record S et al. Dietary intakes of long-chain omega-3 polyunsaturated fatty acids: contribution of meat sources. Nutrition, 2006; 22: 47-53.\\n\\n17. Droulez V, Williams P, Levy G et al. Nutrient composition of Australian red meat 2002. 2. Fatty acid profile. Food Aust 2006; 58: 335-341.\\n\\n18. Zeisel S, Niculescu M. Choline and Phosphatidylcholine. In Modern Nutrition in Health and Disease. M Shils et al. (Editors). Philadelphia: Lippincott Williams & Wilkins, 2006. p. 525-536.\\n\\n19. Purchas R, Zou M, Pearce P et al. Concentrations of vitamin D3 and 2- hydroxyvitamin D3 in raw and cooked New Zealand beef and lamb. J Food Comp Anal 2007; 20: 90-98.\\n\\n20. Chan W, Brown J, Lee S et al. Meat, Poultry and Game. Fifth Supplement to McCance & Widdowson's The Composition of Foods. London: The Royal\\n\\n12\\n\\nSociety of Chemistry and the Ministry of Agriculture Fisheries and Food, 1995.\\n\\n21. Arihara K. Strategies for designing novel functional meat products. Meat Sci 2006; 74: 219-229.\\n\\n22. Purchas R, Rutherfurd S, Pearce P et al. Concentrations in beef and lamb of taurine, carnosine, coenzyme Q10, and creatine. Meat Sci 2004; 66: 629-637.\\n\\n23. Redmond H, Stapleton P, Neary P et al. Immunonutrition: the role of taurine. Nutr Cancer 1998; 14: 599-608.\\n\\n24. Bouckenooghe T, Remacle C, Reusens B. Is taurine a functional nutrient? Curr Opin Clin Nutr Metab Care 2006; 9: 728-733.\\n\\n25. Tanpaichitr V, Leelahagul P. Carnitine metabolism and human carnitine metabolism. Nutrition 1993; 9: 246-254.\\n\\n26. Mitchell M. Carnitine metabolism in human subjects 1. Normal metabolism. Am J Clin Nutr 1978; 31: 293-306.\\n\\n27. Shimada L, Sakuma Y, Wakamatsu J et al. Species and muscle differences in L-carnitine in skeletal muscles based on a new simple assay. Meat Sci 2004; 68: 357-362.\\n\\n28. Azain M. Conjugated linoleic acid and its effects on animal products and health in single-stomached animals. Proc Nutr Soc 2003; 62: 319-328.\\n\\n29. Dhiman T, Nam S, Ure A. Factors affecting conjugated linoleic acid content in milk and meat. Crit Rev Food Sci Nutr 2005; 45: 463-482.\\n\\n30. Decker E, Livisay S, Zhou S. Mechanisms of endogenous skeletal muscle antioxidants: chemical and physical aspects. In Antioxidants in muscle foods, E. Decker, C. Faustman and C. Lopez-Bote (Editors). New York: Wiley- Interscience, 2000. p. 25-60.\\n\\n31. Purchas R, Busboom J. The effect of production system and age on levels of iron, taurine, carnosine, coenzyme Q10, and creatine in beef muscles and lover. Meat Sci 2005; 70: 589-596.\\n\\n32. Decker E, Ivanov V, Zhu B et al. Inhibition of low density lipoprotein oxidation by carnosine and histidine. J Agric Food Chem 2001; 49: 511-516.\\n\\n33. Overvad K, Diamant B, Holm L et al. Coenzyme Q10 in health and disease. Eur J Clin Nutr 1999; 53: 764-770.\\n\\n34. Jones D, Coates R, Flagg E et al. Glutathione in foods listed in the National Cancer Institute's health habits and history food frequency questionnaire. Nutr Cancer, 1992; 17: 57-75.\"],\n",
       " 'question': 'What is Meat based bioactive compounds',\n",
       " 'response': 'Meat-based bioactive compounds refer to various substances found in meat that have potential beneficial effects on health, beyond the traditional essential nutrients. Some of these compounds include:\\n\\n1. **Taurine**: An amino acid abundant in meat, particularly in lamb (110mg/100g) and beef (77mg/100g). It may offer protective benefits during lactation and immune challenges and is thought to help against oxidative stress.\\n\\n2. **Carnitine**: A compound that helps transport long-chain fatty acids across mitochondrial membranes for energy production. While not an essential nutrient, its needs may increase during pregnancy and after strenuous exercise. It is found in higher amounts in sheep muscle (up to 209mg/100g) and around 60mg/100g in beef.\\n\\n3. **Conjugated Linoleic Acid (CLA)**: Known for its antioxidant and immunomodulatory properties, CLA may play a role in obesity control. It is found in the fat of ruminant animals and is affected by factors like breed and diet.\\n\\n4. **Endogenous Antioxidants**: These include compounds like carnosine, anserine, ubiquinone (coenzyme Q10), and glutathione, which are studied for their antioxidant properties. For example, carnosine is present at around 365mg/100g in beef and 400mg/100g in lamb, and it may act as a dietary antioxidant. Glutathione levels in red meat are estimated to be 12-26mg/100g in beef.\\n\\nThese bioactive compounds contribute to the nutritional value of meat and may offer additional health benefits.'}"
      ]
     },
     "execution_count": 46,
     "metadata": {},
     "output_type": "execute_result"
    }
   ],
   "source": [
    "response"
   ]
  },
  {
   "cell_type": "code",
   "execution_count": null,
   "metadata": {},
   "outputs": [],
   "source": []
  }
 ],
 "metadata": {
  "kernelspec": {
   "display_name": "Python 3",
   "language": "python",
   "name": "python3"
  },
  "language_info": {
   "codemirror_mode": {
    "name": "ipython",
    "version": 3
   },
   "file_extension": ".py",
   "mimetype": "text/x-python",
   "name": "python",
   "nbconvert_exporter": "python",
   "pygments_lexer": "ipython3",
   "version": "3.12.9"
  }
 },
 "nbformat": 4,
 "nbformat_minor": 2
}
