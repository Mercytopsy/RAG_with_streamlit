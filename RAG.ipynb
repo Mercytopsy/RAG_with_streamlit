{
 "cells": [
  {
   "cell_type": "markdown",
   "metadata": {},
   "source": [
    "### Installation"
   ]
  },
  {
   "cell_type": "code",
   "execution_count": null,
   "metadata": {},
   "outputs": [],
   "source": [
    "\n",
    "# %pip install langchain langchain-community python_dotenv\n",
    "# %pip install langchain-openai\n",
    "\n",
    "# %pip install pandas numpy\n",
    "# %pip install streamlit\n",
    "\n",
    "# %pip install \"unstructured[all-docs]<=0.16.10\"\n",
    "# %pip install langchain_postgres\n",
    "\n",
    "# %pip install redis>=4.1.0"
   ]
  },
  {
   "cell_type": "markdown",
   "metadata": {},
   "source": [
    "### Import Libraries"
   ]
  },
  {
   "cell_type": "code",
   "execution_count": null,
   "metadata": {},
   "outputs": [
    {
     "name": "stderr",
     "output_type": "stream",
     "text": [
      "/workspace/.pyenv_mirror/user/current/lib/python3.12/site-packages/tqdm/auto.py:21: TqdmWarning: IProgress not found. Please update jupyter and ipywidgets. See https://ipywidgets.readthedocs.io/en/stable/user_install.html\n",
      "  from .autonotebook import tqdm as notebook_tqdm\n"
     ]
    }
   ],
   "source": [
    "from unstructured.partition.pdf import partition_pdf\n",
    "from langchain_openai import ChatOpenAI\n",
    "from langchain_core.messages import SystemMessage, HumanMessage\n",
    "from langchain_core.prompts import ChatPromptTemplate\n",
    "from langchain_core.output_parsers import StrOutputParser\n",
    "from langchain.schema.runnable import RunnablePassthrough,RunnableLambda\n",
    "\n",
    "from langchain_postgres.vectorstores import PGVector\n",
    "from database import COLLECTION_NAME, CONNECTION_STRING\n",
    "from langchain_community.storage import RedisStore\n",
    "from langchain.schema.document import Document\n",
    "from langchain_openai import OpenAIEmbeddings\n",
    "from langchain.retrievers.multi_vector import MultiVectorRetriever\n",
    "from pathlib import Path\n",
    "from IPython.display import display, HTML, Markdown\n",
    "from base64 import b64decode\n",
    "import os, hashlib, shutil, uuid, json, time\n",
    "import torch, redis, streamlit as st\n",
    "import logging\n",
    "# Initialize Redis client\n",
    "client = redis.Redis(host=\"localhost\", port=6379, db=0)"
   ]
  },
  {
   "cell_type": "code",
   "execution_count": 2,
   "metadata": {},
   "outputs": [
    {
     "data": {
      "text/plain": [
       "False"
      ]
     },
     "execution_count": 2,
     "metadata": {},
     "output_type": "execute_result"
    }
   ],
   "source": [
    "from dotenv import load_dotenv\n",
    "load_dotenv()"
   ]
  },
  {
   "cell_type": "code",
   "execution_count": 3,
   "metadata": {},
   "outputs": [],
   "source": [
    "FILE_PATH = Path(\"data/hbspapers_48__1.pdf\") "
   ]
  },
  {
   "cell_type": "markdown",
   "metadata": {},
   "source": [
    "### Data Loading"
   ]
  },
  {
   "cell_type": "markdown",
   "metadata": {},
   "source": [
    "Partition tables and text into chunks"
   ]
  },
  {
   "cell_type": "code",
   "execution_count": 4,
   "metadata": {},
   "outputs": [],
   "source": [
    "\n",
    "def data_loading():\n",
    "\n",
    "    raw_pdf_elements = partition_pdf(\n",
    "        filename=FILE_PATH,\n",
    "      \n",
    "        infer_table_structure=True,\n",
    "        strategy = \"hi_res\",\n",
    "        \n",
    "        extract_image_block_types = [\"Image\"],\n",
    "        extract_image_block_to_payload  = True,\n",
    "\n",
    "        chunking_strategy=\"by_title\",     \n",
    "        mode='elements',\n",
    "        max_characters=10000,\n",
    "        new_after_n_chars=5000,\n",
    "        combine_text_under_n_chars=2000,\n",
    "        image_output_dir_path=\"data/\",\n",
    "    )\n",
    "    return raw_pdf_elements"
   ]
  },
  {
   "cell_type": "code",
   "execution_count": 5,
   "metadata": {},
   "outputs": [],
   "source": [
    "pdf_elements = data_loading()"
   ]
  },
  {
   "cell_type": "code",
   "execution_count": 6,
   "metadata": {},
   "outputs": [
    {
     "data": {
      "text/plain": [
       "[<unstructured.documents.elements.CompositeElement at 0x7f59f807f2f0>,\n",
       " <unstructured.documents.elements.CompositeElement at 0x7f59f8e52bd0>,\n",
       " <unstructured.documents.elements.CompositeElement at 0x7f59f7e03980>,\n",
       " <unstructured.documents.elements.CompositeElement at 0x7f59f8c79400>,\n",
       " <unstructured.documents.elements.CompositeElement at 0x7f59f8c79310>,\n",
       " <unstructured.documents.elements.CompositeElement at 0x7f59f8c7ae10>,\n",
       " <unstructured.documents.elements.CompositeElement at 0x7f59f7f35010>,\n",
       " <unstructured.documents.elements.Table at 0x7f59f7f371d0>,\n",
       " <unstructured.documents.elements.CompositeElement at 0x7f59f7f35340>,\n",
       " <unstructured.documents.elements.Table at 0x7f59f7f37b90>,\n",
       " <unstructured.documents.elements.CompositeElement at 0x7f59f803e240>,\n",
       " <unstructured.documents.elements.Table at 0x7f59f80d8980>,\n",
       " <unstructured.documents.elements.CompositeElement at 0x7f59f80db410>,\n",
       " <unstructured.documents.elements.Table at 0x7f59f80db830>,\n",
       " <unstructured.documents.elements.CompositeElement at 0x7f59f80d9430>,\n",
       " <unstructured.documents.elements.Table at 0x7f59f8ca8dd0>,\n",
       " <unstructured.documents.elements.CompositeElement at 0x7f59f80d9550>,\n",
       " <unstructured.documents.elements.Table at 0x7f59f80d98e0>,\n",
       " <unstructured.documents.elements.CompositeElement at 0x7f59f80d9910>,\n",
       " <unstructured.documents.elements.CompositeElement at 0x7f59f7e017f0>]"
      ]
     },
     "execution_count": 6,
     "metadata": {},
     "output_type": "execute_result"
    }
   ],
   "source": [
    "pdf_elements"
   ]
  },
  {
   "cell_type": "code",
   "execution_count": 44,
   "metadata": {},
   "outputs": [],
   "source": [
    "# tables[0].metadata.to_dict()"
   ]
  },
  {
   "cell_type": "code",
   "execution_count": 35,
   "metadata": {},
   "outputs": [],
   "source": [
    "tables = [element.metadata.text_as_html for element in pdf_elements if 'Table' in str(type(element))]\n",
    "text = [element.text for element in pdf_elements if 'CompositeElement' in str(type(element))]"
   ]
  },
  {
   "cell_type": "code",
   "execution_count": 8,
   "metadata": {},
   "outputs": [
    {
     "data": {
      "text/plain": [
       "['<table><tr><td/><td>Beef</td><td>Veal</td><td>Lamb</td><td>Mutton</td><td>Adult Australian RDI</td></tr><tr><td>Moisture (g)</td><td>73.1</td><td>74.8</td><td>72.9</td><td>73.2</td><td/></tr><tr><td>Protein (g)</td><td>23.2</td><td>24.8</td><td>21.9</td><td>21.5</td><td>46-64</td></tr><tr><td>Fat (g)</td><td>2.8</td><td>1.5</td><td>4.7</td><td>4.0</td><td>-</td></tr><tr><td>Energy (kJ)</td><td>498</td><td>477</td><td>546</td><td>514</td><td>6.5-15.8MJ</td></tr><tr><td>Cholesterol (mg)</td><td>50</td><td>51</td><td>66</td><td>66</td><td>-</td></tr><tr><td>Thiamin (mg)</td><td>0.04</td><td>0.06</td><td>0.12</td><td>0.16</td><td>1.1-1.2</td></tr><tr><td>Riboflavin (mg)</td><td>0.18</td><td>0.20</td><td>0.23</td><td>0.25</td><td>1.1-1.6</td></tr><tr><td>Niacin (mg)</td><td>5.0</td><td>16.0</td><td>5.2</td><td>8.0</td><td>14-16</td></tr><tr><td>Vitamin B6 (mg)</td><td>0.52</td><td>0.8</td><td>0.10</td><td>0.8</td><td>1.3-1.7</td></tr><tr><td>Vitamin B12 (ug)</td><td>2.5</td><td>1.6</td><td>0.96</td><td>2.8</td><td>2.4</td></tr><tr><td>Pantothenic acid (mg)</td><td>0.35</td><td>1.50</td><td>0.74</td><td>1.33</td><td>4-6</td></tr><tr><td>Vitamin A (ug)</td><td>&lt;5</td><td>&lt;5</td><td>8.6</td><td>7.8</td><td>700-900ug RE*</td></tr><tr><td>Beta-carotene (ug)</td><td>10</td><td>&lt;5</td><td>&lt;5</td><td>&lt;5</td><td>700-900pg RE*</td></tr><tr><td>Alpha-tocopherol (mg)</td><td>0.63</td><td>0.50</td><td>0.44</td><td>0.20</td><td>7-10</td></tr><tr><td>Sodium (mg)</td><td>51</td><td>51</td><td>69</td><td>71</td><td>460-920</td></tr><tr><td>Potassium (mg)</td><td>363</td><td>362</td><td>344</td><td>365</td><td>2800-3800</td></tr><tr><td>Calcium (mg)</td><td>4.5</td><td>6.5</td><td>7.2</td><td>6.6</td><td>1000-1300</td></tr><tr><td>Iron (mg)</td><td>1.8</td><td>1.1</td><td>2.0</td><td>3.3</td><td>8-18</td></tr><tr><td>Zinc (mg)</td><td>4.6</td><td>4.2</td><td>4.5</td><td>3.9</td><td>8-14</td></tr><tr><td>Magnesium (mg)</td><td>25</td><td>26</td><td>28</td><td>28</td><td>310-420</td></tr><tr><td>Phosphorus (mg)</td><td>215</td><td>260</td><td>194</td><td>290</td><td>1000</td></tr><tr><td>Copper (mg)</td><td>0.12</td><td>0.08</td><td>0.12</td><td>0.22</td><td>1.2-1.7</td></tr></table>',\n",
       " '<table><tr><td>Meat Cut</td><td>% Lean</td><td>% External Fat</td><td>% Internal Fat</td></tr><tr><td>Beef</td></tr><tr><td>Topside roast</td><td>91</td><td>6</td><td>3</td></tr><tr><td>Silverside roast</td><td>89</td><td/><td>4</td></tr><tr><td>Blade steak</td><td>88</td><td>6</td><td>6</td></tr><tr><td>Porterhouse steak</td><td>77</td><td>18</td><td>5</td></tr><tr><td>Stir fry</td><td>98</td><td>2</td><td>0</td></tr><tr><td>Scotch fillet</td><td>81</td><td/><td>11</td></tr><tr><td>Veal</td></tr><tr><td>Leg steak</td><td>99</td><td/><td>1</td></tr><tr><td>Diced</td><td>98</td><td/><td/></tr><tr><td>Cutlet</td><td>93</td><td>1</td><td/></tr><tr><td>Lamb</td></tr><tr><td>Leg roast</td><td>83</td><td>11</td><td>6</td></tr><tr><td>Chump chop</td><td>75</td><td>15</td><td>10</td></tr><tr><td>Diced</td><td>98</td><td>2</td><td>0</td></tr><tr><td>Easy carve shoulder</td><td>77</td><td>12</td><td>11</td></tr><tr><td>Loin chop</td><td>63</td><td>29</td><td>8</td></tr><tr><td>Mutton</td><td/><td/><td/></tr><tr><td>Leg</td><td>85</td><td>9</td><td/></tr></table>',\n",
       " '<table><tr><td>Meat Cut</td><td>Total fat (g)</td><td>Cholesterol (mg)</td></tr><tr><td>Beef</td></tr><tr><td>Diced, raw</td><td>2.7</td><td>54</td></tr><tr><td>Diced, cooked</td><td>3.0</td><td>77</td></tr><tr><td>Round steak, raw</td><td>1.7</td><td>62</td></tr><tr><td>Round steak, cooked</td><td>2.0</td><td>715</td></tr><tr><td>Topside roast, raw</td><td>47</td><td>35</td></tr><tr><td>Topside roast, cooked</td><td>2.8</td><td>62</td></tr><tr><td>Sirloin steak, raw</td><td>1.9</td><td>58</td></tr><tr><td>Sirloin steak, cooked</td><td>3.8</td><td>70</td></tr><tr><td>Scotch fillet, raw Scotch fillet, cooked</td><td>2.8 4.5</td><td>58 70</td></tr><tr><td>Regular mince, raw</td><td>10.8</td><td>76</td></tr><tr><td>Regular mince, cooked Low fat mince, raw</td><td>12.7 6.8</td><td>99 61</td></tr><tr><td>Leg steak, raw</td><td>1.5</td><td>57</td></tr><tr><td>Leg steak, cooked Cutlet, raw</td><td>1.9 1.1</td><td>85 35</td></tr><tr><td>Cutlet, cooked</td><td>2.0</td><td>41</td></tr><tr><td>Diced, raw</td><td>5.2</td><td>78</td></tr><tr><td>Diced, cooked</td><td>6.5</td><td>96</td></tr><tr><td>Leg roast, raw</td><td>3.2</td><td>71</td></tr><tr><td>Leg roast, cooked</td><td>6.0</td><td>80</td></tr><tr><td>Easy carve shoulder, raw</td><td>43</td><td>54</td></tr><tr><td>Easy carve shoulder, cooked</td><td>5.4</td><td>86</td></tr><tr><td>Chump chop, raw</td><td>4.3</td><td>73</td></tr><tr><td>Chump chop, cooked</td><td>10.2</td><td>93</td></tr><tr><td>Cutlet, raw</td><td>6.7</td><td>67</td></tr><tr><td>Cutlet, cooked</td><td>8.6</td><td>96</td></tr><tr><td>Lamb mince, raw</td><td>6.9</td><td>61</td></tr><tr><td>Lamb mince, cooked Mutton</td><td>8.5</td><td>93</td></tr><tr><td>Leg roast, raw</td><td>4.2</td><td>76</td></tr><tr><td>Leg roast, cooked</td><td>11.4</td><td>130</td></tr><tr><td>Casserole, raw Casserole, cooked</td><td>3.8 77</td><td>56 63</td></tr></table>',\n",
       " '<table><tr><td>Fatty</td><td/><td>|</td><td>| |</td><td>|</td><td>chicken”</td><td>Lean pork?</td><td>| fish*</td><td>Oily fish?</td></tr><tr><td>C14:0</td><td>0.096</td><td>| 0.034 |</td><td>0.101</td><td>0.060</td><td>0.020</td><td>0.010</td><td>0.020 |</td><td>0.680</td></tr><tr><td>C15:0</td><td>0.012 |</td><td>0.006 |</td><td>0.016</td><td>0.011</td><td>0.000</td><td>0.000</td><td>0.000 |</td><td>0.070</td></tr><tr><td>C16:0</td><td>0.607</td><td>| 0.215 |</td><td>0.842</td><td>0.667</td><td>0.340</td><td>0.250</td><td>0.180 |</td><td>2.170</td></tr><tr><td>C17:0</td><td>0.028</td><td>| 0.009 |</td><td>0.051</td><td>0.036</td><td>0.010</td><td>0.000</td><td>0.000 |</td><td>0.050</td></tr><tr><td>C18:0</td><td>0.356</td><td>| 0.119 |</td><td>0.644</td><td>0.609</td><td>0.120</td><td>0.130</td><td>0.050 |</td><td>0.350</td></tr><tr><td>Total saturated</td><td>1.149 |</td><td>0.409 |</td><td>1.730</td><td>1.464</td><td>0.500</td><td>0.400</td><td>0.300 |</td><td>3.320</td></tr><tr><td>C14:1</td><td>0.025 |</td><td>0.007 |</td><td>0.004</td><td>0.003</td><td>0.000</td><td>0.000</td><td>0.000 |</td><td>0.000</td></tr><tr><td>C16:1</td><td>0.082</td><td>| 0.033 |</td><td>0.066</td><td>0.039</td><td>0.004</td><td>0.030</td><td>0.060 |</td><td>0.590</td></tr><tr><td>C18:1</td><td>1.103 |</td><td>0.356 |</td><td>1.995</td><td>1.370</td><td>0.620</td><td>0.390</td><td>0.110 |</td><td>2.190</td></tr><tr><td>C20:1</td><td>0.015 |</td><td>0.048 |</td><td>0.010</td><td>0.011</td><td>0.010</td><td>0.010</td><td>0.010 |</td><td>1.340</td></tr><tr><td>Total monounsaturated</td><td>1.205 |</td><td>0.399 |</td><td>2.066</td><td>1.413</td><td>0.700</td><td>0.430</td><td>0.200 |</td><td>5.390</td></tr><tr><td>C18:2 w-6</td><td>0.204</td><td>| 0.090 |</td><td>0.321</td><td>0.339</td><td>0.210</td><td>0.120</td><td>0.010 |</td><td>0.250</td></tr><tr><td>C18:3 w-3</td><td>0.048 |</td><td>0.022 |</td><td>0.072</td><td>0.107</td><td>0.010</td><td>0.010</td><td>0.000 |</td><td>0.130</td></tr><tr><td>C20:3 w-6</td><td>0.020</td><td>| 0.012 |</td><td>0.009</td><td>0.009</td><td>0.008</td><td>0.003</td><td>0.000 |</td><td>0.000</td></tr><tr><td>C20:4 w-6</td><td>0.076</td><td>| 0.056 |</td><td>0.094</td><td>0.101</td><td>0.030</td><td>0.019</td><td>0.040 |</td><td>0.050</td></tr><tr><td>C20:5 w-3 (EPA)</td><td>0.031 |</td><td>0.028 |</td><td>0.028</td><td>0.044</td><td>0.005</td><td>0.000</td><td>0.048 |</td><td>0.913</td></tr><tr><td>C22:5 w-3 (DPA)</td><td>0.051 |</td><td>0.033 |</td><td>0.044</td><td>0.053</td><td>0.009</td><td>0.006</td><td>0.021 |</td><td>0.194</td></tr><tr><td>C22:6 w-3 (DHA)</td><td>0.006 |</td><td>0.003 |</td><td>0.013</td><td>0.020</td><td>0.009</td><td>0.004</td><td>0.111 |</td><td>1.118</td></tr><tr><td>Total polyunsaturated</td><td>0.448 |</td><td>0.259 |</td><td>0.603</td><td>0.673</td><td>0.300</td><td>0.200</td><td>0.200 |</td><td>2.655</td></tr><tr><td>Total w-3</td><td>0.136 |</td><td>0.086 |</td><td>0.157</td><td>0.224</td><td>0.033</td><td>0.020</td><td>0.180 |</td><td>2.355</td></tr><tr><td>Total o-6</td><td>0.300</td><td>| 0.244 |</td><td>0.424</td><td>0.449</td><td>0.258</td><td>0.148</td><td>0.050 |</td><td>0.250</td></tr><tr><td>Ratio w-3/ o-6</td><td>0.45</td><td>0.36</td><td>0.37</td><td>0.50</td><td>0.13</td><td>0.14</td><td>3.60</td><td>10.42</td></tr></table>',\n",
       " '<table><tr><td/><td>Liver</td><td>Kidney</td><td>Heart</td><td/><td>Brain</td><td>Tripe Beef</td></tr><tr><td/><td>Beef</td><td>Lamb</td><td>Beef</td><td>Lamb</td><td>Beef</td><td>Lamb</td><td>Lamb</td></tr><tr><td>Protein (g)</td><td>20.0</td><td>21.4</td><td>18.2</td><td>17.1</td><td>18.2</td><td>17.8</td><td>12.3</td><td>13.2</td></tr><tr><td>Fat (g)</td><td>8.6</td><td>7.5</td><td>1.6</td><td>2.5</td><td>3.0</td><td>5.6</td><td>8.0</td><td>2.1</td></tr><tr><td>Saturated fat (g)</td><td>2.8</td><td>2.2</td><td>0.6</td><td>0.9</td><td>1.2</td><td>2.3</td><td>2.2</td><td>0.9</td></tr><tr><td>Long-chain omega-3 fat (mg)</td><td>561</td><td>361</td><td>47</td><td>103</td><td>54</td><td>102</td><td>574</td><td>20</td></tr><tr><td>Cholesterol (mg)</td><td>271</td><td>433</td><td>313</td><td>338</td><td>103</td><td>129</td><td>1352</td><td>82</td></tr><tr><td>Thiamin (mg)</td><td>0.23</td><td>0.24</td><td>0.40</td><td>0.56</td><td>0.50</td><td>0.61</td><td>0.14</td><td>0</td></tr><tr><td>Riboflavin (mg)</td><td>4.80</td><td>2.80</td><td>3.60</td><td>2.10</td><td>1.50</td><td>1.10</td><td>0.40</td><td>0.10</td></tr><tr><td>Niacin (mg)</td><td>9.4</td><td>10.9</td><td>6.5</td><td>7.6</td><td>6.9</td><td>5.9</td><td>5.1</td><td>0.2</td></tr><tr><td>Folate (ug)</td><td>290</td><td>230</td><td>98</td><td>28</td><td>3</td><td>2</td><td>3</td><td>5</td></tr><tr><td>Vitamin B12 (ug)</td><td>59</td><td>90</td><td>28</td><td>52</td><td>9</td><td>10</td><td>11</td><td>1</td></tr><tr><td>Retinol equivalents (ug)</td><td>13877</td><td>31400</td><td>155</td><td>93</td><td>10</td><td>0</td><td>0</td><td>0</td></tr><tr><td>Zinc (mg)</td><td>3.6</td><td>4.3</td><td>1.8</td><td>2.6</td><td>1.6</td><td>1.6</td><td>1.1</td><td>1.2</td></tr><tr><td>Iron (mg)</td><td>5.8</td><td>9.5</td><td>5.4</td><td>9.8</td><td>5.0</td><td>3.9</td><td>1.7</td><td>0.4</td></tr><tr><td>Magnesium (mg)</td><td>15</td><td>19</td><td>15</td><td>16</td><td>17</td><td>17</td><td>12</td><td>6</td></tr><tr><td>Sodium (mg)</td><td>78</td><td>67</td><td>160</td><td>190</td><td>91</td><td>82</td><td>120</td><td>100</td></tr><tr><td>Potassium (mg)</td><td>320</td><td>300</td><td>250</td><td>260</td><td>280</td><td>260</td><td>340</td><td>23</td></tr></table>',\n",
       " '<table><tr><td/><td>RDI/AI for male 31-50y</td><td>Beef\"</td><td>Lamb’</td><td>Egg”</td><td>Cheddar cheese”</td><td>| Baked beans | salt reduced”</td><td>Walnuts”</td></tr><tr><td>Protein</td><td>64g</td><td>36</td><td>34</td><td>21</td><td>40</td><td>7</td><td>23</td></tr><tr><td>Long-chain omega-3 fat</td><td>160mg</td><td>50</td><td>53</td><td>111</td><td>55</td><td>0</td><td>0</td></tr><tr><td>Thiamin</td><td>1.2mg</td><td>3</td><td>8</td><td>8</td><td>3</td><td>4</td><td>28</td></tr><tr><td>Riboflavin</td><td>1.3mg</td><td>25</td><td>15</td><td>31</td><td>39</td><td>0</td><td>14</td></tr><tr><td>Niacin</td><td>16mg</td><td>31</td><td>70</td><td>0)</td><td>&lt;l</td><td>5</td><td>9</td></tr><tr><td>Vitamin B6</td><td>1.3mg</td><td>23</td><td>43</td><td>5</td><td>6</td><td>8</td><td>33</td></tr><tr><td>Vitamin B12</td><td>2.4ug</td><td>79</td><td>71</td><td>58</td><td>35</td><td>0)</td><td>0</td></tr><tr><td>Pantothenic acid</td><td>6mg</td><td>12</td><td>13</td><td>34</td><td>7</td><td>&lt;l</td><td>11</td></tr><tr><td>Vitamin A</td><td>900ug</td><td>&lt;l</td><td>&lt;l</td><td>25</td><td>43</td><td>&lt;l</td><td>&lt;l</td></tr><tr><td>Vitamin E</td><td>10mg</td><td>7</td><td>5</td><td>22</td><td>40</td><td>1</td><td>26</td></tr><tr><td>Phosphorus</td><td>1000mg</td><td>22</td><td>23</td><td>20</td><td>47</td><td>8</td><td>37</td></tr><tr><td>Zinc</td><td>14mg</td><td>30</td><td>31</td><td>9</td><td>26</td><td>4</td><td>18</td></tr><tr><td>Iron</td><td>8mg</td><td>24</td><td>25</td><td>26</td><td>3</td><td>20</td><td>31</td></tr><tr><td>Magnesium</td><td>420mg</td><td>6</td><td>6</td><td>2</td><td>7</td><td>6</td><td>36</td></tr><tr><td>Selenium</td><td>70ug</td><td>29</td><td>21</td><td>37</td><td>15</td><td>5</td><td>3</td></tr><tr><td>Sodium</td><td>920mg</td><td>6</td><td>7</td><td>13</td><td>72</td><td>23</td><td>&lt;1</td></tr><tr><td>Potassium</td><td>3800mg</td><td>9</td><td>9</td><td>3</td><td>2</td><td>6</td><td>12</td></tr></table>']"
      ]
     },
     "execution_count": 8,
     "metadata": {},
     "output_type": "execute_result"
    }
   ],
   "source": [
    "tables"
   ]
  },
  {
   "cell_type": "code",
   "execution_count": 25,
   "metadata": {},
   "outputs": [
    {
     "data": {
      "text/html": [
       "<table><tr><td/><td>Beef</td><td>Veal</td><td>Lamb</td><td>Mutton</td><td>Adult Australian RDI</td></tr><tr><td>Moisture (g)</td><td>73.1</td><td>74.8</td><td>72.9</td><td>73.2</td><td/></tr><tr><td>Protein (g)</td><td>23.2</td><td>24.8</td><td>21.9</td><td>21.5</td><td>46-64</td></tr><tr><td>Fat (g)</td><td>2.8</td><td>1.5</td><td>4.7</td><td>4.0</td><td>-</td></tr><tr><td>Energy (kJ)</td><td>498</td><td>477</td><td>546</td><td>514</td><td>6.5-15.8MJ</td></tr><tr><td>Cholesterol (mg)</td><td>50</td><td>51</td><td>66</td><td>66</td><td>-</td></tr><tr><td>Thiamin (mg)</td><td>0.04</td><td>0.06</td><td>0.12</td><td>0.16</td><td>1.1-1.2</td></tr><tr><td>Riboflavin (mg)</td><td>0.18</td><td>0.20</td><td>0.23</td><td>0.25</td><td>1.1-1.6</td></tr><tr><td>Niacin (mg)</td><td>5.0</td><td>16.0</td><td>5.2</td><td>8.0</td><td>14-16</td></tr><tr><td>Vitamin B6 (mg)</td><td>0.52</td><td>0.8</td><td>0.10</td><td>0.8</td><td>1.3-1.7</td></tr><tr><td>Vitamin B12 (ug)</td><td>2.5</td><td>1.6</td><td>0.96</td><td>2.8</td><td>2.4</td></tr><tr><td>Pantothenic acid (mg)</td><td>0.35</td><td>1.50</td><td>0.74</td><td>1.33</td><td>4-6</td></tr><tr><td>Vitamin A (ug)</td><td>&lt;5</td><td>&lt;5</td><td>8.6</td><td>7.8</td><td>700-900ug RE*</td></tr><tr><td>Beta-carotene (ug)</td><td>10</td><td>&lt;5</td><td>&lt;5</td><td>&lt;5</td><td>700-900pg RE*</td></tr><tr><td>Alpha-tocopherol (mg)</td><td>0.63</td><td>0.50</td><td>0.44</td><td>0.20</td><td>7-10</td></tr><tr><td>Sodium (mg)</td><td>51</td><td>51</td><td>69</td><td>71</td><td>460-920</td></tr><tr><td>Potassium (mg)</td><td>363</td><td>362</td><td>344</td><td>365</td><td>2800-3800</td></tr><tr><td>Calcium (mg)</td><td>4.5</td><td>6.5</td><td>7.2</td><td>6.6</td><td>1000-1300</td></tr><tr><td>Iron (mg)</td><td>1.8</td><td>1.1</td><td>2.0</td><td>3.3</td><td>8-18</td></tr><tr><td>Zinc (mg)</td><td>4.6</td><td>4.2</td><td>4.5</td><td>3.9</td><td>8-14</td></tr><tr><td>Magnesium (mg)</td><td>25</td><td>26</td><td>28</td><td>28</td><td>310-420</td></tr><tr><td>Phosphorus (mg)</td><td>215</td><td>260</td><td>194</td><td>290</td><td>1000</td></tr><tr><td>Copper (mg)</td><td>0.12</td><td>0.08</td><td>0.12</td><td>0.22</td><td>1.2-1.7</td></tr></table>"
      ],
      "text/plain": [
       "<IPython.core.display.HTML object>"
      ]
     },
     "metadata": {},
     "output_type": "display_data"
    }
   ],
   "source": [
    "\n",
    "display(HTML(tables[0]))"
   ]
  },
  {
   "cell_type": "code",
   "execution_count": 10,
   "metadata": {},
   "outputs": [
    {
     "data": {
      "text/plain": [
       "['University of Wollongong\\n\\nResearch Online\\n\\nFaculty of Health and Behavioural Sciences - Papers (Archive)\\n\\nFaculty of Science, Medicine and Health\\n\\nSeptember 2007\\n\\nNutritional composition of red meat\\n\\nP. G. Williams University of Wollongong, peterw@uow.edu.au\\n\\nFollow this and additional works at: https://ro.uow.edu.au/hbspapers\\n\\nPart of the Arts and Humanities Commons, Life Sciences Commons, Medicine and Health Sciences Commons, and the Social and Behavioral Sciences Commons\\n\\nRecommended Citation\\n\\nWilliams, P. G.: Nutritional composition of red meat 2007. https://ro.uow.edu.au/hbspapers/48\\n\\nResearch Online is the open access institutional repository for the University of Wollongong. For further information contact the UOW Library: research-pubs@uow.edu.au\\n\\nNutritional composition of red meat\\n\\nAbstract\\n\\nLean red meats are: • An excellent source of high biological value protein, vitamin B12, niacin, vitamin B6, iron, zinc and phosphorus • A source of long-chain omega-3 polyunsaturated fats, riboflavin, pantothenic acid, selenium and possibly also vitamin D • Mostly low in fat and sodium • Sources of a range of endogenous antioxidants and other bioactive substances including taurine, carnitine, carnosine, ubiquinone, glutathione and creatine.\\n\\nKeywords\\n\\nred meat, nutrients, beef, lamb, mutton, veal\\n\\nDisciplines\\n\\nArts and Humanities | Life Sciences | Medicine and Health Sciences | Social and Behavioral Sciences\\n\\nPublication Details\\n\\nThis article was originally published as: Williams, PG, Nutritional composition of red meat, Nutrition & Dietetics, 2007, 64(Suppl 4), S113-S119. The definitive version is available at www.blackwell-synergy.com. Nutrition & Dietetics is the official journal of the Dietitians Association of Australia. Copyright 2007 Blackwell Publishing.\\n\\nThis journal article is available at Research Online: https://ro.uow.edu.au/hbspapers/48\\n\\nThe Nutritional Composition of Red Meat\\n\\nAssoc Prof Peter Williams PhD FDAA\\n\\nSmart Foods Centre, University of Wollongong',\n",
       " 'Key Points\\n\\nLean red meats are:\\n\\ne Anexcellent source of high biological value protein, vitamin B12, niacin, vitamin B6, iron, zinc and phosphorus\\n\\ne A source of long-chain omega-3 polyunsaturated fats, riboflavin, pantothenic acid, selenium and possibly also vitamin D\\n\\ne Mostly low in fat and sodium\\n\\ne Sources of a range of endogenous antioxidants and other bioactive substances including taurine, carnitine, carnosine, ubiquinone, glutathione and creatine.\\n\\n1) What is meat?\\n\\nThe Food Standards Australia New Zealand (FSANZ) Food Standard Code defines meat as ‘the whole or part of the carcass of any buffalo, camel, cattle, deer, goat, hare, pig, poultry, rabbit or sheep, slaughtered other than in a wild state, but does not include eggs, or foetuses’ [1]. This definition does not include kangaroo meat, which is now widely available for purchase in Australia and would be considered by most Australians as meat.\\n\\nCommonly people use ‘meat’ to refer only to meat flesh (skeletal muscle plus any attached connective tissue or fat), but the FSANZ definition also includes offal (ie, meat other than meat flesh, including brain, heart, kidney, liver, pancreas, spleen, thymus, tongue and tripe) although it excludes bone and bone marrow.\\n\\nIn Australia, the term ‘red meat’ is used by the meat industry to refer to meat from cattle, sheep and goat (ie beef, veal, lamb, mutton and goat meat). It does not include meat from pigs (eg, pork, bacon, ham) or kangaroo, nor less common game meats like buffalo and camel, although nutrient composition of some of these products is now becoming available [2]. Purchased red meat usually consists of both lean tissue (muscle) and fat tissue, which can be either distributed throughout the muscle as marbling (internal fat) or surrounding the muscle meat as selvage or external fat. In trimmed lean meat, it is usually the external fat only that is removed.\\n\\nProcessed meat means a product containing no less than 30% meat, that has undergone a method of preservation other than freezing, and includes manufactured meat and cured and/or dried meat flesh (eg, sausages, salami, canned meats).',\n",
       " '2) Nutrient composition of red meat\\n\\nRed meat contains high biological value protein and important micronutrients that are needed for good health throughout life. It also contains a range of fats, including essential omega-3 polyunsaturated fats. Recent analyses have shown that there has been a significant trend to leaner cuts of meat over the past two decades [3]. While the nutritional composition will vary somewhat according to breed, feeding regimen, season and meat cut, in general lean red meat has a low fat content, is moderate in cholesterol and rich in protein and many essential vitamins and minerals.\\n\\n1\\n\\n2.1 Nutrient composition of beef, veal, lamb and mutton\\n\\nTable 1 presents the typical nutrient composition of samples of fat-trimmed Australian red meat, based on recent analyses of national retail samples [4-6] and compares this to the new Australian recommended dietary intakes [7]. While there are some differences between the four meats, in general lean red meat is a particularly good source of protein, niacin, vitamin B6, vitamin B12, phosphorus, zinc and iron, with 100g providing more than 25% RDI of these nutrients. It also provides more than 10% RDI of riboflavin, pantothenic acid, and selenium. Of the four meats, mutton is particularly nutrient dense, and the richest source of thiamin, vitamins B6 and B12, phosphorus, iron and copper.\\n\\nProtein and amino acids\\n\\nRaw red muscle meat contains around 20-25g protein/100g. Cooked red meat contains 28- 36g/100g, because the water content decreases and nutrients become more concentrated during cooking. The protein is highly digestible, around 94% compared to the digestibility of 78% in beans and 86% in whole wheat [8]. Protein from meat provides all essential amino acids (lysine, threonine, methionine, phenylalanine, tryptophan, leucine, isoleucine, valine) and has no limiting amino acids. Protein Digestibility Corrected Amino Acid Score (PDCAAS) is a method of evaluating the protein quality, with a maximum possible score of 1.0. Animal meats like beef have a score of approximately 0.9, compared to values of 0.5-0.7 for most plant foods [9]. The amino acid glutamic acid/glutamine is present in meat in the highest amounts (16.5%), followed by arginine, alanine, and aspartic acid.',\n",
       " 'Fat\\n\\nTable 2 shows examples of the amount of separable fat found on typical retail cuts of red meat available for sale in Australia [3, 10]. There is a wide variation in the amount of total separable fat between the different beef and lamb cuts, ranging from 37% in loin lamb chops to only 1% in veal steak.\\n\\nThe gross composition values show that there generally appears to be less separable fat in the untrimmed raw retail samples collected in 2002 compared to those reported from 1983-86 [11, 12]. For example, the percentage separable fat has declined from 18% to 12% in rump steak and from 10% to 6.6% in fillet steak. This trend to lower fat cuts has been due to three factors: selective breeding and feeding practices designed to increase the carcase lean to fat ratio; meat classification and marketing systems designed to favour leaner products; and modern butchery techniques such as seaming out whole muscles and trimming away intermuscular fat [13].\\n\\nMost Australian consumers today prepare and consume their meat after trimming external fat, and the most recent nutritional analyses show that all trimmed lean red meats are relatively low in fat (<7%) and have moderate cholesterol content, with the exception of mince meats (Table 3). An important contributor to the leanness of muscle meat in Australian beef and lamb is that almost all animals are pasture (grass) fed for most of their lives, although some are given short periods of grain finishing before slaughter.\\n\\nFatty acids\\n\\nMuch of the discussion about the fat content of red meat focuses on the saturated fat content. However, the amount of saturated fat in Australian beef and lamb is actually less than the total amount of unsaturated fats on a per edible portion basis.\\n\\n2\\n\\nTable 4 shows the average fatty acid profiles of beef, veal, lamb and mutton compared to other white meats and fish. Saturated fatty acids comprise, on average, 40% of total fatty acids in the lean component and 48% in the fat component of red meat. In beef and veal, approximately half of the saturated fatty acid in both the lean and fat component of red meat is palmitic acid (16:0) and about a third is stearic acid (18:0). In lamb and mutton the proportions of these two fatty acids is more similar. There is little variation between cuts in the proportion of fatty acids.\\n\\nPolyunsaturated fatty acids (PUFA) range from 11% to 29% of total fatty acids. Pasture fed beef is better source of omega-3 fats than grain feed beef, and this explains the better fatty acid ratio in Australian red meat compared to that in the US, where there is extensive grain feeding [14, 15]. Beef and lamb also have more omega-3 fatty acids than either chicken or pork, although fish is still a significantly better source than any of the red meats.\\n\\nThe recent revision of the recommended dietary intakes for Australians recommended a daily adequate intake of long-chain omega-3 fats (DHA, EPA and DPA) of 160mg for men and 90mg for women, with higher targets of 610mg and 430mg respectively to reduce the risk of long term chronic disease [7]. Since the levels of long chain PUFA found in Australian beef, veal and lamb muscle meat are greater than 30mg per serving (135g) of red meat, they are considered a source of long chain n-3 PUFA according to Australian food regulations (Food Standards Australia New Zealand 2004). Mutton muscle meat, which has more than 60mg EPA + DHA per serving of red meat, can be described as a good source of long chain n-3 polyunsaturated fats. Red meat is frequently consumed by Australians and makes the second greatest contribution to intake of long chain n-3 PUFA, after fish, in the Australian diet [16].\\n\\nTrans fatty acids\\n\\nTrans fatty acids are found in ruminant fat as a result of biohydrogenation by rumen bacteria. Trans fatty acids (18:1 trans) in raw muscle meat varies from as little as 22mg/100g in veal to 123mg in lamb, but is generally less than 3% of the total fatty acid content [17]. Levels in both raw and cooked muscle meat are higher in lamb and mutton than in beef and veal.\\n\\nCholine\\n\\nCholine is a precursor of a number of compounds including neurotransmitters and membrane phospholipids. Although choline can be made in the body, dietary essentiality has been demonstrated and the new Australian nutrient reference values recommend an adequate intake of 550mg/d for men and 425mg/d for women [7]. The best dietary sources are milk, liver and eggs, but meat is also a significant source and beef contains 78mg/100g [18].\\n\\nVitamins\\n\\nAs with other animal foods, red meat is an excellent source of bioavailable vitamin B12, providing over two thirds of the daily requirement in a 100g serve (Table 1). Up to 25% RDI of riboflavin, niacin, vitamin B6 and pantothenic acid can also be provided by 100g of red meat, but compared to pork it is a relatively poor source of thiamin. Liver is an excellent source of vitamin A and folate, but the levels in lean meat tissue are low. For all these vitamins, older animals tend to have higher concentrations, so the levels in beef are generally higher than those in veal, and mutton has more than lamb. Levels of vitamin D in meat are low and difficult to measure and have often not been included in food composition data previously. However recent assays of meat in New Zealand have reported levels of 0.10µg Vitamin D3/100g and 0.45µg 25-OHD3/100g in beef and levels of 0.04 and 0.93 µg/100g\\n\\n3\\n\\nrespectively in lamb [19]. Given the higher biological activity of the 25-OH vitamin D, this means that 100g of cooked beef could provide 12% of the estimated adequate intake of 10µg/d for a 51-70 year old [7], and cooked lamb could provide more than 25%, and hence be an important source of this nutrient, especially for housebound elderly people.',\n",
       " 'Minerals\\n\\nBeef and lamb meat are among the richest sources of the minerals iron and zinc, with 100g providing at least one quarter of daily adult requirements (Table 1). The iron in meat is mostly haem-iron which is well absorbed, and meat protein also appears to enhance the absorption of iron from meat. Similarly, absorption of zinc from a diet high in animal protein is greater than from plant foods, and the requirements for zinc may be as much as 50% higher for vegetarians [7]. Red meats are also good sources of selenium, providing over 20% RDI per 100g serve, although it is likely that selenium values in meat will be significantly affected by where animals feed and the time of the year of sampling. Lean meat is low in sodium with a potassium/sodium ratio of greater than five. The copper content in raw lean cuts range from 0.055 to 0.190mg/100g in beef and veal, 0.090 to 0.140mg/100g in lamb, and 0.190 to 0.240mg/100g in mutton, all significantly higher than values reported in British meat [20].\\n\\n2.2 Meat based bioactive compounds\\n\\nIn addition to the traditional essential nutrients with defined requirements, there are a number of meat-based bioactive substances that have been studied for their potential beneficial effects [21].\\n\\nTaurine\\n\\nAn amino acid in meat of particular interest is taurine. Meat is rich in taurine (110mg/100g in lamb and 77mg/100g in beef) [22] and meat is the most abundant dietary source. While taurine can be derived from methionine and cysteine metabolism, there have been suggestions that it should be considered a conditionally essential amino acid during lactation, during times of immune challenge, and may offer protection against oxidative stress [23, 24].\\n\\nCarnitine\\n\\nL-carnitine (beta-hydroxy-gamma-trimethyl amino butyric acid) transports long chain fatty acids across the inner mitochondrial membranes to produce energy during exercise. Although not an essential nutrient, needs appear to be increased during pregnancy and after strenuous exercise and a recommended intake of 24-81mg/d has been proposed [25]. It is found in skeletal muscle and is particularly abundant in sheep muscle at up to 209mg/100g [26] and in beef at around 60mg/100g [27].\\n\\nConjugated linoleic acid (CLA)\\n\\nCLA has antioxidant and immunomodulatory properties and may also play a role in the control of obesity [28]. Since rumen bacteria convert linoleic acid to CLA, it is most abundant in the fat of ruminant animals, although CLA is also present in partially hydrogenated vegetable oils. The CLA content of meat is affected by several factors including breed, age and food composition [29]. It is mostly present in the fat component of red meat (approximately 1g/100g) but is also found in the muscle meat: 10-46mg/100g in raw meat and 30-100mg/100g in cooked red meat [17].\\n\\n4\\n\\nEndogenous antioxidants\\n\\nSeveral endogenous compounds (including ubiquinone, glutathione, lipoic acid, spermine, carnosine, anserine) have been studied in skeletal muscle [30]. Both carnosine and anserine are antioxidative histidyl dipeptides and the most abundant antioxidants in meat. Carnosine is present at around 365mg/100g in beef [31] and 400mg/100g in lamb [22]. Because carnosine is absorbed into the plasma intact, it is a potentially important dietary antioxidant [32]. Coenzyme Q10 (ubiquinone) also has antioxidant properties and supplements have shown beneficial effects in some studies [33]. Levels in meat are estimated to be around 2mg/100g in both beef and sheep meat [31]. Glutathione is a component of glutathione peroxidise enzymes which have an important antioxidant role in the body. It may also play a role in immune response and enhancing iron absorption by contributing to the ‘meat factor’. Glutathione levels in red meat are estimated to be 12-26mg/100g in beef [34] and most meats contain approximately twice the level of glutathione of poultry and up to ten times the content found in fish.',\n",
       " 'Creatine\\n\\nCreatine and its phosphorylated derivative creatine phosphate play an important role in muscle energy metabolism and under some circumstances creatine supplements can enhance muscle performance [35]. Red meat contains approximately 350mg/100g [31] and is the principal dietary source for humans. Creatine in meat is readily absorbed [36], but typical intakes are unlikely to provide the levels of creatine used for supplementation of sports performance (up to 15g/day).\\n\\n2.3 Nutrient composition of organ meats\\n\\nTable 5 provides a comparison of the nutrient content of liver, kidney, heart, brains and tripe from beef and lamb. From this table the following general statements can be made:\\n\\ne All organ meats (except tripe) are extremely rich in vitamin B12, with more than 100% RDI in 100g\\n\\nLiver is a rich source of protein iron, zinc, riboflavin, niacin, vitamin A, and folate\\n\\nKidney is rich in protein, thiamin, riboflavin, iron, and a source of folate\\n\\nHeart is a good source of iron and zinc, but not as good as liver and kidney\\n\\nBrains and tripe are not particularly good sources of vitamins or minerals\\n\\nAll organs meats are high in cholesterol, especially brains, and mostly low in sodium\\n\\nLiver is such a rich source of retinol that consumption of large amounts is not recommended in pregnancy.\\n\\n3) Comparison of the composition of red meat and vegetarian protein sources\\n\\nThe Australian Guide to Health Eating recommends a healthy diet include 1-2 serves per day of meat or equivalents such as eggs, nuts or legumes [37]. However the vegetarian alternatives that are used as protein sources have very different nutritional profiles to red meat, as show in Table 6, which compares the percentage of an adult male daily requirement provided by 100g of food. Lean beef and lamb are better protein sources than all the options except cheese, and are mostly lower in sodium. The meats are higher in zinc and niacin than all the alternatives and also higher in omega-3 fats than the vegetable sources; a better source of vitamin B6 (except for the walnuts); richer in selenium (except in comparison to eggs); and are the best source of vitamin B12, which is absent entirely from the vegetable products. Egg, cheese and nuts are also much higher sources of total fat than lean beef or lamb.\\n\\n5',\n",
       " 'Table 1. Nutrient composition (per 100g) of lean red meat [4-6]',\n",
       " '*RE = retinol equivalents (= 1 µg retinol or 6 µg or beta-carotene)\\n\\n6\\n\\nTable 2 – Lean and separable fat from untrimmed raw boneless Australian red meat (mean weight) [3, 10]',\n",
       " '7\\n\\nTable 3 – Fat and cholesterol content of trimmed raw and cooked Australian red meat [4]',\n",
       " 'Casserole, cooked\\n\\n7.7\\n\\n63\\n\\n8\\n\\nTable 4. Fatty acid profile of raw lean meats (g/100g edible portion)\\n\\nBeef1\\n\\nVeal1\\n\\nLamb1 Mutton1',\n",
       " '1. Average values from 2002 analyses of Australian red meat [17]\\n\\n2. Values for raw lean chicken breast from NUTTAB 2006 [38]\\n\\n3. Values for raw lean pork fillet from NUTTAB 2006 [38]\\n\\n4. Values for raw flathead from NUTTAB 2006 [38]\\n\\n5. Values for canned red salmon from NUTTAB 2006 [38]\\n\\n9\\n\\nTable 5. Selected nutrients (per 100g) in raw liver, kidney, heart, brain and tripe 1',\n",
       " '1. Folate values from US data [39]; all other values from NUTTAB 2006 [38]\\n\\n10\\n\\nTable 6. Percentage of male adult recommended dietary intake (RDI) or adequate intake (AI)\\n\\nprovided by 100g of lean red meat and some vegetarian protein sources',\n",
       " \"1. Average values from 2002 analyses of Australian red meat [4]\\n\\n2. Values from NUTTAB 2006 [38]\\n\\n11\\n\\nReferences\\n\\n1. Food Standards Australia New Zealand. Food Standards Code - Volume 2. Canberra: Information Australia, 2002.\\n\\n2. Beilken S, Eustace E, Eustace R. Composition of new meats - analyses and nutrient composition of innovative meat industries. RIRDC Publication No 07/036. Canberra: RIRDC, 2007. Cited 25 April 2007. Available at: http://www.rirdc.gov.au/reports/NAP/07-036.pdf.\\n\\n3. Williams P, Droulez V, Levy G et al. Nutrient composition of Australian red meat 2002. 1. Gross composition data. Food Aust 2006; 58: 173-181.\\n\\n4. Williams P, Droulez V, Levy G et al. Composition of Australian red meat 2002. 3. Nutrient profile. Food Aust 2007; 59(in press).\\n\\n5. Sadler M, Lewis J, Buick D. Composition of trim lamb. Food Aust 1993; 45(Suppl): S2-12.\\n\\n6. Sinclair A, Mann N, O'Connell S. The nutrient composition of Australian beef and lamb. Melbourne: RMIT, 1999.\\n\\n7. National Health and Medical Research Council. Nutrient Reference Values for Australia and New Zealand including Recommended Dietary Intakes. Canberra: Commonwealth Department of Health and Ageing, 2006.\\n\\n8. Bhutta Z. Protein: digestibility and availability. In: Encyclopedia of Human Nutrition. M Sadler, J Strain and B. Caballero (Editors). San Diego: Academic Press, 1999. p. 1646-1656.\\n\\n9. Schaafsma G. The Protein Digestibility-Corrected Amino Acid Score. J Nutr 2000; 130: 1865S-1867S.\\n\\n10. Cobiac L, Droulez V, Leppard P et al. Use of external fat width to describe beef and lamb cuts in food composition tables. J Food Comp Anal 2003; 16: 133-145.\\n\\n11. Greenfield H, Kuo Y, Hutchison G et al. Composition of Australian foods. 33. Lamb. Food Aust 1987; 39: 202-207.\\n\\n12. Greenfield, H, Kuo Y, Hutchison G et al., Composition of Australian foods. 34. Beef and veal. Food Aust 1987; 39: 208-215;227.\\n\\n13. Higgs J. The changing nature of red meat: 20 years of improving nutritional quality. Trends Food Sci Technol 2000; 11: 85-95.\\n\\n14. Sinclair A, O'Dea K. The lipid levels and fatty acid compositions of the lean portions of Australian beef and lamb. Food Technol Aust 1987; 39: 228-231.\\n\\n15. Marmer W, Maxwell R, Williams J. Effects of dietary regimen and tissue site on bovine fatty acid profiles. J Anim Sci 1984; 59: 109-121.\\n\\n16. Howe P, Meyer B, Record S et al. Dietary intakes of long-chain omega-3 polyunsaturated fatty acids: contribution of meat sources. Nutrition, 2006; 22: 47-53.\\n\\n17. Droulez V, Williams P, Levy G et al. Nutrient composition of Australian red meat 2002. 2. Fatty acid profile. Food Aust 2006; 58: 335-341.\\n\\n18. Zeisel S, Niculescu M. Choline and Phosphatidylcholine. In Modern Nutrition in Health and Disease. M Shils et al. (Editors). Philadelphia: Lippincott Williams & Wilkins, 2006. p. 525-536.\\n\\n19. Purchas R, Zou M, Pearce P et al. Concentrations of vitamin D3 and 2- hydroxyvitamin D3 in raw and cooked New Zealand beef and lamb. J Food Comp Anal 2007; 20: 90-98.\\n\\n20. Chan W, Brown J, Lee S et al. Meat, Poultry and Game. Fifth Supplement to McCance & Widdowson's The Composition of Foods. London: The Royal\\n\\n12\\n\\nSociety of Chemistry and the Ministry of Agriculture Fisheries and Food, 1995.\\n\\n21. Arihara K. Strategies for designing novel functional meat products. Meat Sci 2006; 74: 219-229.\\n\\n22. Purchas R, Rutherfurd S, Pearce P et al. Concentrations in beef and lamb of taurine, carnosine, coenzyme Q10, and creatine. Meat Sci 2004; 66: 629-637.\\n\\n23. Redmond H, Stapleton P, Neary P et al. Immunonutrition: the role of taurine. Nutr Cancer 1998; 14: 599-608.\\n\\n24. Bouckenooghe T, Remacle C, Reusens B. Is taurine a functional nutrient? Curr Opin Clin Nutr Metab Care 2006; 9: 728-733.\\n\\n25. Tanpaichitr V, Leelahagul P. Carnitine metabolism and human carnitine metabolism. Nutrition 1993; 9: 246-254.\\n\\n26. Mitchell M. Carnitine metabolism in human subjects 1. Normal metabolism. Am J Clin Nutr 1978; 31: 293-306.\\n\\n27. Shimada L, Sakuma Y, Wakamatsu J et al. Species and muscle differences in L-carnitine in skeletal muscles based on a new simple assay. Meat Sci 2004; 68: 357-362.\\n\\n28. Azain M. Conjugated linoleic acid and its effects on animal products and health in single-stomached animals. Proc Nutr Soc 2003; 62: 319-328.\\n\\n29. Dhiman T, Nam S, Ure A. Factors affecting conjugated linoleic acid content in milk and meat. Crit Rev Food Sci Nutr 2005; 45: 463-482.\\n\\n30. Decker E, Livisay S, Zhou S. Mechanisms of endogenous skeletal muscle antioxidants: chemical and physical aspects. In Antioxidants in muscle foods, E. Decker, C. Faustman and C. Lopez-Bote (Editors). New York: Wiley- Interscience, 2000. p. 25-60.\\n\\n31. Purchas R, Busboom J. The effect of production system and age on levels of iron, taurine, carnosine, coenzyme Q10, and creatine in beef muscles and lover. Meat Sci 2005; 70: 589-596.\\n\\n32. Decker E, Ivanov V, Zhu B et al. Inhibition of low density lipoprotein oxidation by carnosine and histidine. J Agric Food Chem 2001; 49: 511-516.\\n\\n33. Overvad K, Diamant B, Holm L et al. Coenzyme Q10 in health and disease. Eur J Clin Nutr 1999; 53: 764-770.\\n\\n34. Jones D, Coates R, Flagg E et al. Glutathione in foods listed in the National Cancer Institute's health habits and history food frequency questionnaire. Nutr Cancer, 1992; 17: 57-75.\",\n",
       " '35. Kreider R, Ferreira M, Wilson M et al. Effects of creatine supplementation on body composition, strength, and sprint performance. Med Sci Sports Ex 1998; 30: 73-82.\\n\\n36. Harris R, Nevill M, Harris D et al. Absorption of creatine supplied as a drink, in meat or in solid form. J Sports Sci 2002; 20: 147-151.\\n\\n37. Smith A, Kellett E, Schmerlaib Y. The Australian Guide to Healthy Eating. Background information for nutrition educators. Canberra: Commonwealth Department of Health, 1998.\\n\\n38. Food Standards Australia New Zealand. NUTTAB 2006. Online database of the nutritional composition of Australian foods. Canberra: FSANZ, 2007. Cited 25 April 2007. Available at:\\n\\nhttp://www.foodstandards.gov.au/monitoringandsurveillance/nuttab2006/onlin eversionintroduction/index.cfm\\n\\n13\\n\\n39. US Department of Agriculture, USDA National Nutrient Database for Standard Reference. Release 19. Washington DC: USDA, 2007. Cited 25 April 2007. Available at: http://www.nal.usda.gov/fnic/foodcomp/search/\\n\\n14']"
      ]
     },
     "execution_count": 10,
     "metadata": {},
     "output_type": "execute_result"
    }
   ],
   "source": [
    "text"
   ]
  },
  {
   "cell_type": "markdown",
   "metadata": {},
   "source": [
    "### Summarize the Data"
   ]
  },
  {
   "cell_type": "code",
   "execution_count": 26,
   "metadata": {},
   "outputs": [],
   "source": [
    "# Summarize extracted text and tables using LLM\n",
    "def summarize_text_and_tables(text, tables):\n",
    "    logging.info(\"Ready to summarize data with LLM\")\n",
    "    prompt_text = \"\"\"You are an assistant tasked with summarizing text and tables. \\\n",
    "    \n",
    "                    You are to give a concise summary of the table or text and do nothing else. \n",
    "                    Table or text chunk: {element} \"\"\"\n",
    "    prompt = ChatPromptTemplate.from_template(prompt_text)\n",
    "    model = ChatOpenAI(temperature=0.6, model=\"gpt-4o-mini\")\n",
    "    summarize_chain = {\"element\": RunnablePassthrough()}| prompt | model | StrOutputParser()\n",
    "    logging.info(f\"{model} done with summarization\")\n",
    "    return {\n",
    "        \"text\": summarize_chain.batch(text, {\"max_concurrency\": 5}),\n",
    "        \"table\": summarize_chain.batch(tables, {\"max_concurrency\": 5})\n",
    "    }"
   ]
  },
  {
   "cell_type": "code",
   "execution_count": 27,
   "metadata": {},
   "outputs": [],
   "source": [
    "data_summary = summarize_text_and_tables(text, tables)\n"
   ]
  },
  {
   "cell_type": "code",
   "execution_count": 28,
   "metadata": {},
   "outputs": [],
   "source": [
    "text_summary = data_summary['text']"
   ]
  },
  {
   "cell_type": "code",
   "execution_count": 29,
   "metadata": {},
   "outputs": [],
   "source": [
    "tables_summary = data_summary['table']"
   ]
  },
  {
   "cell_type": "code",
   "execution_count": 30,
   "metadata": {},
   "outputs": [
    {
     "data": {
      "text/plain": [
       "['The document discusses the nutritional composition of red meat, highlighting its benefits as an excellent source of high-quality protein, vitamins (B12, niacin, B6), minerals (iron, zinc, phosphorus), and beneficial fats (omega-3). It notes that lean red meats are low in fat and sodium while containing various antioxidants and bioactive substances. The article is authored by Assoc Prof Peter Williams and was published in 2007 in the journal Nutrition & Dietetics.',\n",
       " \"Lean red meats are rich in high-quality protein, vitamins (B12, B6, niacin), minerals (iron, zinc, phosphorus), and omega-3 fats, while being low in fat and sodium. They also contain various antioxidants and bioactive compounds. The term 'meat' encompasses a variety of animal sources as defined by FSANZ, excluding eggs and foetuses, and includes both muscle and offal but not bone. In Australia, 'red meat' refers specifically to cattle, sheep, and goats, while processed meats contain at least 30% meat and are preserved through methods other than freezing.\",\n",
       " 'Red meat is a rich source of high biological value protein and essential micronutrients, including omega-3 fats. Over the last two decades, there has been a trend towards leaner cuts. Lean red meat generally has low fat, moderate cholesterol, and is high in protein, vitamins, and minerals. \\n\\nTable 1 compares the nutrient composition of beef, veal, lamb, and mutton, highlighting that lean red meat is a good source of protein, niacin, vitamins B6 and B12, phosphorus, zinc, and iron, with mutton being particularly nutrient-dense. Raw red muscle meat contains 20-25g of protein per 100g, increasing to 28-36g when cooked due to reduced water content. Meat protein is highly digestible (94%) and provides all essential amino acids, with a PDCAAS score of approximately 0.9, superior to most plant foods. Glutamic acid/glutamine is the most abundant amino acid in meat.',\n",
       " 'The text discusses the fat content and nutritional profile of red meat in Australia, highlighting significant variations in separable fat among different cuts, with leaner options becoming more common over time. It notes that most consumers trim external fat, resulting in low-fat content in trimmed meats (<7%). The average fatty acid profile indicates that red meat contains more unsaturated fats than saturated fats, with pasture-fed beef being a better source of omega-3 fatty acids compared to grain-fed. Trans fatty acids are present in small amounts, primarily in lamb and mutton. Additionally, red meat is a good source of choline and several B vitamins, particularly vitamin B12, while also providing small amounts of vitamin D. Overall, red meat contributes significantly to the intake of long-chain omega-3 fatty acids in the Australian diet.',\n",
       " 'Beef and lamb are significant sources of essential minerals, particularly iron and zinc, with 100g providing at least 25% of daily adult requirements. The iron in meat is mainly haem-iron, which is well absorbed, and the presence of meat protein enhances absorption. Zinc absorption is also higher from animal protein compared to plant sources, leading to increased zinc needs for vegetarians. Red meats provide over 20% of the recommended daily intake (RDI) of selenium per 100g, though selenium levels can vary based on animal diet and sampling time. Lean meats have a favorable potassium/sodium ratio and higher copper content than British meat.\\n\\nAdditionally, meat contains bioactive compounds such as taurine, which may be conditionally essential during lactation and immune challenges; L-carnitine, important for energy production; and conjugated linoleic acid (CLA), which has antioxidant properties and may help control obesity. Endogenous antioxidants like carnosine and anserine are abundant in meat and contribute to its antioxidant capacity, with carnosine levels at approximately 365mg/100g in beef. Other antioxidants like coenzyme Q10 and glutathione also play significant roles in health, with glutathione levels being notably higher in red meat compared to poultry and fish.',\n",
       " 'Creatine, primarily sourced from red meat (approximately 350mg/100g), plays a crucial role in muscle energy metabolism and can enhance performance when supplemented at higher doses (up to 15g/day). \\n\\nRegarding organ meats, all except tripe are rich in vitamin B12, with liver being particularly high in protein, iron, zinc, and several vitamins. Kidney is also a good source of protein and some vitamins, while heart provides iron and zinc. Brains and tripe are less nutrient-dense, and all organ meats are high in cholesterol but low in sodium. Liver should be consumed cautiously during pregnancy due to high retinol content.\\n\\nIn comparison to vegetarian protein sources, red meat offers superior protein quality, higher zinc, niacin, omega-3 fats, and vitamin B12, which is absent in plant foods. Lean beef and lamb are lower in sodium and generally better protein sources than vegetarian alternatives, except for cheese, which is higher in fat.',\n",
       " 'Table 1 presents the nutrient composition of lean red meat per 100 grams, detailing key nutrients and their respective amounts.',\n",
       " 'Table 2 presents the mean weight of lean and separable fat from untrimmed raw boneless Australian red meat.',\n",
       " 'Table 3 presents the fat and cholesterol content in both raw and cooked Australian red meat.',\n",
       " 'The table provides the fatty acid profile of raw lean meats, indicating the amount of certain fatty acids in grams per 100 grams of the edible portion for beef, veal, lamb, and mutton. Additionally, it mentions a cooked casserole with values of 7.7, 63, and 8, though the context of these numbers is unclear.',\n",
       " 'The table presents average nutrient values per 100g for various Australian meats and seafood, including red meat, raw lean chicken breast, raw lean pork fillet, raw flathead, and canned red salmon, as analyzed in 2002 and 2006. Additionally, it lists selected nutrients found in raw organ meats such as liver, kidney, heart, brain, and tripe.',\n",
       " 'The table presents the percentage of the recommended dietary intake (RDI) or adequate intake (AI) for male adults that is provided by 100g of lean red meat and selected vegetarian protein sources, with folate values sourced from US data and other values from NUTTAB 2006.',\n",
       " 'The text provides references related to the nutrient composition of Australian red meat, including analyses from 2002 and data from NUTTAB 2006. It lists various studies and publications that focus on the composition, fatty acid profiles, and nutritional quality of red meat in Australia. The references include sources from reputable organizations and journals, highlighting ongoing research and developments in meat nutrition.',\n",
       " 'The provided text lists several references related to nutrition and supplementation. It includes studies on the effects of creatine supplementation on body composition and performance, the absorption of creatine in different forms, guidelines for healthy eating in Australia, and databases for the nutritional composition of foods from Australia and the USDA.']"
      ]
     },
     "execution_count": 30,
     "metadata": {},
     "output_type": "execute_result"
    }
   ],
   "source": [
    "text_summary"
   ]
  },
  {
   "cell_type": "code",
   "execution_count": 16,
   "metadata": {},
   "outputs": [
    {
     "data": {
      "text/plain": [
       "['The table presents nutritional information for beef, veal, lamb, and mutton, comparing various components such as moisture, protein, fat, energy, cholesterol, and vitamins against the recommended daily intake (RDI) for adults in Australia. Key points include:\\n\\n- **Moisture Content**: Ranges from 72.9g (lamb) to 74.8g (veal).\\n- **Protein**: Highest in veal (24.8g) and lowest in mutton (21.5g), with an RDI of 46-64g.\\n- **Fat**: Lowest in veal (1.5g) and highest in lamb (4.7g).\\n- **Energy**: Lamb has the highest energy content (546 kJ), while veal has the lowest (477 kJ).\\n- **Cholesterol**: Similar levels across meats, with veal and lamb at 66mg.\\n- **Vitamins and Minerals**: Varying levels of B vitamins, with niacin highest in veal (16mg) and vitamin B12 highest in mutton (2.8μg). Iron content is highest in mutton (3.3mg), while calcium is lowest across all meats (4.5mg in beef).\\n\\nOverall, veal tends to have lower fat and higher protein, while mutton offers more iron.',\n",
       " 'The table presents various meat cuts along with their respective percentages of lean meat, external fat, and internal fat. Key highlights include:\\n\\n- **Beef**: Topside roast has the highest lean percentage (91%), while Porterhouse steak has significant external fat (18%).\\n- **Veal**: Leg steak is nearly all lean (99%), with minimal internal fat (1%).\\n- **Lamb**: Diced lamb has a high lean percentage (98%), while loin chop has the lowest lean percentage (63%) and the highest external fat (29%).\\n- **Mutton**: Only the leg cut is listed with 85% lean and 9% external fat. \\n\\nOverall, the table shows a range of lean and fatty meat cuts across beef, veal, lamb, and mutton.',\n",
       " 'The table provides nutritional information on various meat cuts, detailing total fat content (in grams) and cholesterol levels (in milligrams) for both raw and cooked forms. Key highlights include:\\n\\n- Beef cuts vary widely in fat and cholesterol, with regular mince raw having the highest fat content (10.8g) and round steak cooked showing a very high cholesterol level (715mg).\\n- Lamb cuts also show significant fat and cholesterol levels, with raw lamb mince at 6.9g fat and cooked mutton at 93mg cholesterol.\\n- Cooking generally alters the fat and cholesterol content, often increasing them, as seen with cuts like leg roast which has 3.2g fat raw and 6.0g cooked. \\n\\nOverall, the data reflects the nutritional variability among different meat cuts and their preparations.',\n",
       " 'The table presents the fatty acid composition of various food sources, including fatty chicken, lean pork, fish, and oily fish. It includes specific fatty acids (C14:0, C15:0, C16:0, etc.) and categorizes them into saturated, monounsaturated, and polyunsaturated fats. Key totals are provided for each category, including total saturated (1.149-3.320), monounsaturated (1.205-5.390), and polyunsaturated fats (0.448-2.655). Additionally, it outlines the total omega-3 and omega-6 fatty acids, along with the ratio of omega-3 to omega-6, which varies significantly across the food sources.',\n",
       " 'The table provides nutritional information for various organs (Liver, Kidney, Heart, Brain) and tripe beef, comparing beef and lamb across several parameters. Key nutrients include:\\n\\n- **Protein**: Highest in Kidney (21.4g) and lowest in Tripe Beef (12.3g).\\n- **Fat**: Highest in Liver (8.6g) and lowest in Heart (1.6g).\\n- **Saturated fat**: Liver has the highest (2.8g), while Heart has the lowest (0.6g).\\n- **Long-chain omega-3 fat**: Highest in Liver (561mg), lowest in Tripe Beef (20mg).\\n- **Cholesterol**: Highest in Kidney (433mg) and lowest in Tripe Beef (82mg).\\n- **Vitamins**: Vitamin B12 is highest in Kidney (90ug), and Riboflavin is highest in Liver (4.80mg).\\n- **Minerals**: Zinc is highest in Kidney (4.3mg), while Iron is highest in Kidney (9.5mg) and Heart (9.8mg).\\n\\nOverall, organ meats provide a rich source of protein, vitamins, and minerals, with significant variations between types and cuts.',\n",
       " 'The table presents the Recommended Daily Intake (RDI) or Adequate Intake (AI) values for various nutrients for males aged 31-50 years, along with the nutrient content of different foods including beef, lamb, eggs, cheddar cheese, baked beans (salt reduced), and walnuts. Key nutrients analyzed include protein, long-chain omega-3 fat, vitamins (Thiamin, Riboflavin, Niacin, B6, B12, Pantothenic acid, A, E), minerals (Phosphorus, Zinc, Iron, Magnesium, Selenium, Sodium, Potassium), with their respective amounts provided for each food item compared to the RDI/AI values.']"
      ]
     },
     "execution_count": 16,
     "metadata": {},
     "output_type": "execute_result"
    }
   ],
   "source": [
    "tables_summary"
   ]
  },
  {
   "cell_type": "markdown",
   "metadata": {},
   "source": [
    "### Initialize Retriever"
   ]
  },
  {
   "cell_type": "code",
   "execution_count": 31,
   "metadata": {},
   "outputs": [],
   "source": [
    "def initialize_retriever():\n",
    "\n",
    "    store = RedisStore(client=client)\n",
    "    id_key = \"doc_id\"\n",
    "    vectorstore = PGVector(\n",
    "            embeddings=OpenAIEmbeddings(),\n",
    "            collection_name=COLLECTION_NAME,\n",
    "            connection=CONNECTION_STRING,\n",
    "            use_jsonb=True,\n",
    "            )\n",
    "    retrieval_loader = MultiVectorRetriever(vectorstore=vectorstore, docstore=store, id_key=\"doc_id\")\n",
    "    return retrieval_loader"
   ]
  },
  {
   "cell_type": "code",
   "execution_count": 32,
   "metadata": {},
   "outputs": [],
   "source": [
    "load_retriever = initialize_retriever()"
   ]
  },
  {
   "cell_type": "markdown",
   "metadata": {},
   "source": [
    "### Add Summary to vectorstore & Raw data to RedisStore"
   ]
  },
  {
   "cell_type": "code",
   "execution_count": 33,
   "metadata": {},
   "outputs": [],
   "source": [
    "# Store text, tables, and their summaries in the retriever\n",
    "\n",
    "def store_docs_in_retriever(text, text_summary, table, table_summary, retriever):\n",
    "    \"\"\"Store text and table documents along with their summaries in the retriever.\"\"\"\n",
    "\n",
    "    def add_documents_to_retriever(documents, summaries, retriever, id_key = \"doc_id\"):\n",
    "        \"\"\"Helper function to add documents and their summaries to the retriever.\"\"\"\n",
    "        if not summaries:\n",
    "            return None, []\n",
    "\n",
    "        doc_ids = [str(uuid.uuid4()) for _ in documents]\n",
    "        summary_docs = [\n",
    "            Document(page_content=summary, metadata={id_key: doc_ids[i]})\n",
    "            for i, summary in enumerate(summaries)\n",
    "        ]\n",
    "\n",
    "        retriever.vectorstore.add_documents(summary_docs, ids=doc_ids)\n",
    "        retriever.docstore.mset(list(zip(doc_ids, documents)))     \n",
    "\n",
    "# Add text, table, and image summaries to the retriever\n",
    "    add_documents_to_retriever(text, text_summary, retriever)\n",
    "    add_documents_to_retriever(table, table_summary, retriever)\n",
    "    return retriever"
   ]
  },
  {
   "cell_type": "code",
   "execution_count": 75,
   "metadata": {},
   "outputs": [],
   "source": [
    "retriever  = store_docs_in_retriever(text, text_summary, tables,  tables_summary, load_retriever)\n",
    "    "
   ]
  },
  {
   "cell_type": "code",
   "execution_count": 21,
   "metadata": {},
   "outputs": [
    {
     "name": "stdout",
     "output_type": "stream",
     "text": [
      "('name', None)\n",
      "('tags', None)\n",
      "('metadata', None)\n",
      "('vectorstore', <langchain_postgres.vectorstores.PGVector object at 0x7f59f5cd4890>)\n",
      "('byte_store', None)\n",
      "('docstore', <langchain_community.storage.redis.RedisStore object at 0x7f59f857ce30>)\n",
      "('id_key', 'doc_id')\n",
      "('search_kwargs', {})\n",
      "('search_type', <SearchType.similarity: 'similarity'>)\n"
     ]
    }
   ],
   "source": [
    "for i in retriever:\n",
    "    print(i)"
   ]
  },
  {
   "cell_type": "code",
   "execution_count": 76,
   "metadata": {},
   "outputs": [],
   "source": [
    "query = \"What is the comparison of the composition of red meat and vegetarian protein sources\"\n",
    "docs = retriever.invoke(query)"
   ]
  },
  {
   "cell_type": "code",
   "execution_count": 77,
   "metadata": {},
   "outputs": [
    {
     "data": {
      "text/plain": [
       "[b'2) Nutrient composition of red meat\\n\\nRed meat contains high biological value protein and important micronutrients that are needed for good health throughout life. It also contains a range of fats, including essential omega-3 polyunsaturated fats. Recent analyses have shown that there has been a significant trend to leaner cuts of meat over the past two decades [3]. While the nutritional composition will vary somewhat according to breed, feeding regimen, season and meat cut, in general lean red meat has a low fat content, is moderate in cholesterol and rich in protein and many essential vitamins and minerals.\\n\\n1\\n\\n2.1 Nutrient composition of beef, veal, lamb and mutton\\n\\nTable 1 presents the typical nutrient composition of samples of fat-trimmed Australian red meat, based on recent analyses of national retail samples [4-6] and compares this to the new Australian recommended dietary intakes [7]. While there are some differences between the four meats, in general lean red meat is a particularly good source of protein, niacin, vitamin B6, vitamin B12, phosphorus, zinc and iron, with 100g providing more than 25% RDI of these nutrients. It also provides more than 10% RDI of riboflavin, pantothenic acid, and selenium. Of the four meats, mutton is particularly nutrient dense, and the richest source of thiamin, vitamins B6 and B12, phosphorus, iron and copper.\\n\\nProtein and amino acids\\n\\nRaw red muscle meat contains around 20-25g protein/100g. Cooked red meat contains 28- 36g/100g, because the water content decreases and nutrients become more concentrated during cooking. The protein is highly digestible, around 94% compared to the digestibility of 78% in beans and 86% in whole wheat [8]. Protein from meat provides all essential amino acids (lysine, threonine, methionine, phenylalanine, tryptophan, leucine, isoleucine, valine) and has no limiting amino acids. Protein Digestibility Corrected Amino Acid Score (PDCAAS) is a method of evaluating the protein quality, with a maximum possible score of 1.0. Animal meats like beef have a score of approximately 0.9, compared to values of 0.5-0.7 for most plant foods [9]. The amino acid glutamic acid/glutamine is present in meat in the highest amounts (16.5%), followed by arginine, alanine, and aspartic acid.',\n",
       " b'2) Nutrient composition of red meat\\n\\nRed meat contains high biological value protein and important micronutrients that are needed for good health throughout life. It also contains a range of fats, including essential omega-3 polyunsaturated fats. Recent analyses have shown that there has been a significant trend to leaner cuts of meat over the past two decades [3]. While the nutritional composition will vary somewhat according to breed, feeding regimen, season and meat cut, in general lean red meat has a low fat content, is moderate in cholesterol and rich in protein and many essential vitamins and minerals.\\n\\n1\\n\\n2.1 Nutrient composition of beef, veal, lamb and mutton\\n\\nTable 1 presents the typical nutrient composition of samples of fat-trimmed Australian red meat, based on recent analyses of national retail samples [4-6] and compares this to the new Australian recommended dietary intakes [7]. While there are some differences between the four meats, in general lean red meat is a particularly good source of protein, niacin, vitamin B6, vitamin B12, phosphorus, zinc and iron, with 100g providing more than 25% RDI of these nutrients. It also provides more than 10% RDI of riboflavin, pantothenic acid, and selenium. Of the four meats, mutton is particularly nutrient dense, and the richest source of thiamin, vitamins B6 and B12, phosphorus, iron and copper.\\n\\nProtein and amino acids\\n\\nRaw red muscle meat contains around 20-25g protein/100g. Cooked red meat contains 28- 36g/100g, because the water content decreases and nutrients become more concentrated during cooking. The protein is highly digestible, around 94% compared to the digestibility of 78% in beans and 86% in whole wheat [8]. Protein from meat provides all essential amino acids (lysine, threonine, methionine, phenylalanine, tryptophan, leucine, isoleucine, valine) and has no limiting amino acids. Protein Digestibility Corrected Amino Acid Score (PDCAAS) is a method of evaluating the protein quality, with a maximum possible score of 1.0. Animal meats like beef have a score of approximately 0.9, compared to values of 0.5-0.7 for most plant foods [9]. The amino acid glutamic acid/glutamine is present in meat in the highest amounts (16.5%), followed by arginine, alanine, and aspartic acid.']"
      ]
     },
     "execution_count": 77,
     "metadata": {},
     "output_type": "execute_result"
    }
   ],
   "source": [
    "docs"
   ]
  },
  {
   "cell_type": "code",
   "execution_count": 38,
   "metadata": {},
   "outputs": [
    {
     "name": "stdout",
     "output_type": "stream",
     "text": [
      "b'2) Nutrient composition of red meat\\n\\nRed meat contains high biological value protein and important micronutrients that are needed for good health throughout life. It also contains a range of fats, including essential omega-3 polyunsaturated fats. Recent analyses have shown that there has been a significant trend to leaner cuts of meat over the past two decades [3]. While the nutritional composition will vary somewhat according to breed, feeding regimen, season and meat cut, in general lean red meat has a low fat content, is moderate in cholesterol and rich in protein and many essential vitamins and minerals.\\n\\n1\\n\\n2.1 Nutrient composition of beef, veal, lamb and mutton\\n\\nTable 1 presents the typical nutrient composition of samples of fat-trimmed Australian red meat, based on recent analyses of national retail samples [4-6] and compares this to the new Australian recommended dietary intakes [7]. While there are some differences between the four meats, in general lean red meat is a particularly good source of protein, niacin, vitamin B6, vitamin B12, phosphorus, zinc and iron, with 100g providing more than 25% RDI of these nutrients. It also provides more than 10% RDI of riboflavin, pantothenic acid, and selenium. Of the four meats, mutton is particularly nutrient dense, and the richest source of thiamin, vitamins B6 and B12, phosphorus, iron and copper.\\n\\nProtein and amino acids\\n\\nRaw red muscle meat contains around 20-25g protein/100g. Cooked red meat contains 28- 36g/100g, because the water content decreases and nutrients become more concentrated during cooking. The protein is highly digestible, around 94% compared to the digestibility of 78% in beans and 86% in whole wheat [8]. Protein from meat provides all essential amino acids (lysine, threonine, methionine, phenylalanine, tryptophan, leucine, isoleucine, valine) and has no limiting amino acids. Protein Digestibility Corrected Amino Acid Score (PDCAAS) is a method of evaluating the protein quality, with a maximum possible score of 1.0. Animal meats like beef have a score of approximately 0.9, compared to values of 0.5-0.7 for most plant foods [9]. The amino acid glutamic acid/glutamine is present in meat in the highest amounts (16.5%), followed by arginine, alanine, and aspartic acid.'\n",
      "b'1. Folate values from US data [39]; all other values from NUTTAB 2006 [38]\\n\\n10\\n\\nTable 6. Percentage of male adult recommended dietary intake (RDI) or adequate intake (AI)\\n\\nprovided by 100g of lean red meat and some vegetarian protein sources'\n"
     ]
    }
   ],
   "source": [
    "for dt in docs:\n",
    "    print(dt)"
   ]
  },
  {
   "cell_type": "code",
   "execution_count": 79,
   "metadata": {},
   "outputs": [],
   "source": [
    "result = parse_retriver_output(docs)"
   ]
  },
  {
   "cell_type": "code",
   "execution_count": 80,
   "metadata": {},
   "outputs": [
    {
     "data": {
      "text/plain": [
       "['2) Nutrient composition of red meat\\n\\nRed meat contains high biological value protein and important micronutrients that are needed for good health throughout life. It also contains a range of fats, including essential omega-3 polyunsaturated fats. Recent analyses have shown that there has been a significant trend to leaner cuts of meat over the past two decades [3]. While the nutritional composition will vary somewhat according to breed, feeding regimen, season and meat cut, in general lean red meat has a low fat content, is moderate in cholesterol and rich in protein and many essential vitamins and minerals.\\n\\n1\\n\\n2.1 Nutrient composition of beef, veal, lamb and mutton\\n\\nTable 1 presents the typical nutrient composition of samples of fat-trimmed Australian red meat, based on recent analyses of national retail samples [4-6] and compares this to the new Australian recommended dietary intakes [7]. While there are some differences between the four meats, in general lean red meat is a particularly good source of protein, niacin, vitamin B6, vitamin B12, phosphorus, zinc and iron, with 100g providing more than 25% RDI of these nutrients. It also provides more than 10% RDI of riboflavin, pantothenic acid, and selenium. Of the four meats, mutton is particularly nutrient dense, and the richest source of thiamin, vitamins B6 and B12, phosphorus, iron and copper.\\n\\nProtein and amino acids\\n\\nRaw red muscle meat contains around 20-25g protein/100g. Cooked red meat contains 28- 36g/100g, because the water content decreases and nutrients become more concentrated during cooking. The protein is highly digestible, around 94% compared to the digestibility of 78% in beans and 86% in whole wheat [8]. Protein from meat provides all essential amino acids (lysine, threonine, methionine, phenylalanine, tryptophan, leucine, isoleucine, valine) and has no limiting amino acids. Protein Digestibility Corrected Amino Acid Score (PDCAAS) is a method of evaluating the protein quality, with a maximum possible score of 1.0. Animal meats like beef have a score of approximately 0.9, compared to values of 0.5-0.7 for most plant foods [9]. The amino acid glutamic acid/glutamine is present in meat in the highest amounts (16.5%), followed by arginine, alanine, and aspartic acid.',\n",
       " '2) Nutrient composition of red meat\\n\\nRed meat contains high biological value protein and important micronutrients that are needed for good health throughout life. It also contains a range of fats, including essential omega-3 polyunsaturated fats. Recent analyses have shown that there has been a significant trend to leaner cuts of meat over the past two decades [3]. While the nutritional composition will vary somewhat according to breed, feeding regimen, season and meat cut, in general lean red meat has a low fat content, is moderate in cholesterol and rich in protein and many essential vitamins and minerals.\\n\\n1\\n\\n2.1 Nutrient composition of beef, veal, lamb and mutton\\n\\nTable 1 presents the typical nutrient composition of samples of fat-trimmed Australian red meat, based on recent analyses of national retail samples [4-6] and compares this to the new Australian recommended dietary intakes [7]. While there are some differences between the four meats, in general lean red meat is a particularly good source of protein, niacin, vitamin B6, vitamin B12, phosphorus, zinc and iron, with 100g providing more than 25% RDI of these nutrients. It also provides more than 10% RDI of riboflavin, pantothenic acid, and selenium. Of the four meats, mutton is particularly nutrient dense, and the richest source of thiamin, vitamins B6 and B12, phosphorus, iron and copper.\\n\\nProtein and amino acids\\n\\nRaw red muscle meat contains around 20-25g protein/100g. Cooked red meat contains 28- 36g/100g, because the water content decreases and nutrients become more concentrated during cooking. The protein is highly digestible, around 94% compared to the digestibility of 78% in beans and 86% in whole wheat [8]. Protein from meat provides all essential amino acids (lysine, threonine, methionine, phenylalanine, tryptophan, leucine, isoleucine, valine) and has no limiting amino acids. Protein Digestibility Corrected Amino Acid Score (PDCAAS) is a method of evaluating the protein quality, with a maximum possible score of 1.0. Animal meats like beef have a score of approximately 0.9, compared to values of 0.5-0.7 for most plant foods [9]. The amino acid glutamic acid/glutamine is present in meat in the highest amounts (16.5%), followed by arginine, alanine, and aspartic acid.']"
      ]
     },
     "execution_count": 80,
     "metadata": {},
     "output_type": "execute_result"
    }
   ],
   "source": [
    "result"
   ]
  },
  {
   "cell_type": "code",
   "execution_count": null,
   "metadata": {},
   "outputs": [],
   "source": []
  },
  {
   "cell_type": "markdown",
   "metadata": {},
   "source": [
    "### RAG Pipeline"
   ]
  },
  {
   "cell_type": "markdown",
   "metadata": {},
   "source": [
    "#### Parse the retriever output"
   ]
  },
  {
   "cell_type": "code",
   "execution_count": 81,
   "metadata": {},
   "outputs": [],
   "source": [
    "def parse_retriver_output(data):\n",
    "    parsed_elements = []\n",
    "    for element in data:\n",
    "        # Decode bytes to string if necessary\n",
    "        if isinstance(element, bytes):\n",
    "            element = element.decode(\"utf-8\")\n",
    "        \n",
    "        parsed_elements.append(element)\n",
    "    \n",
    "    return parsed_elements\n"
   ]
  },
  {
   "cell_type": "markdown",
   "metadata": {},
   "source": [
    "#### Chat with the LLM using retrieved context"
   ]
  },
  {
   "cell_type": "code",
   "execution_count": 91,
   "metadata": {},
   "outputs": [],
   "source": [
    "def chat_with_llm():\n",
    "\n",
    "\n",
    "    prompt_text = \"\"\"\n",
    "                You are an AI Assistant tasked with understanding detailed\n",
    "                information from text and tables. You are to answer the question based on the \n",
    "                context provided to you. You must not go beyond the context given to you.\n",
    "                \n",
    "                Context:\n",
    "                {context}\n",
    "\n",
    "                Question:\n",
    "                {question}\n",
    "                \"\"\"\n",
    "\n",
    "    prompt = ChatPromptTemplate.from_template(prompt_text)\n",
    "    model = ChatOpenAI(temperature=0.6, model=\"gpt-4o-mini\")\n",
    "\n",
    "    rag_chain = {\n",
    "       \"context\": retriever | RunnableLambda(parse_retriver_output), \"question\": RunnablePassthrough(),\n",
    "        } | RunnablePassthrough().assign(\n",
    "        response=(\n",
    "        prompt \n",
    "        | model \n",
    "        | StrOutputParser()\n",
    "        )\n",
    "        )\n",
    "\n",
    "    return rag_chain\n",
    "\n",
    "\n"
   ]
  },
  {
   "cell_type": "code",
   "execution_count": null,
   "metadata": {},
   "outputs": [],
   "source": []
  },
  {
   "cell_type": "code",
   "execution_count": 92,
   "metadata": {},
   "outputs": [],
   "source": [
    "rag_chain = chat_with_llm()"
   ]
  },
  {
   "cell_type": "code",
   "execution_count": 93,
   "metadata": {},
   "outputs": [],
   "source": [
    "response = rag_chain.invoke(\"What is the nutrient composition of beef, veal, lamb and mutton\")"
   ]
  },
  {
   "cell_type": "code",
   "execution_count": 94,
   "metadata": {},
   "outputs": [
    {
     "data": {
      "text/plain": [
       "{'context': ['<table><tr><td/><td>Beef</td><td>Veal</td><td>Lamb</td><td>Mutton</td><td>Adult Australian RDI</td></tr><tr><td>Moisture (g)</td><td>73.1</td><td>74.8</td><td>72.9</td><td>73.2</td><td/></tr><tr><td>Protein (g)</td><td>23.2</td><td>24.8</td><td>21.9</td><td>21.5</td><td>46-64</td></tr><tr><td>Fat (g)</td><td>2.8</td><td>1.5</td><td>4.7</td><td>4.0</td><td>-</td></tr><tr><td>Energy (kJ)</td><td>498</td><td>477</td><td>546</td><td>514</td><td>6.5-15.8MJ</td></tr><tr><td>Cholesterol (mg)</td><td>50</td><td>51</td><td>66</td><td>66</td><td>-</td></tr><tr><td>Thiamin (mg)</td><td>0.04</td><td>0.06</td><td>0.12</td><td>0.16</td><td>1.1-1.2</td></tr><tr><td>Riboflavin (mg)</td><td>0.18</td><td>0.20</td><td>0.23</td><td>0.25</td><td>1.1-1.6</td></tr><tr><td>Niacin (mg)</td><td>5.0</td><td>16.0</td><td>5.2</td><td>8.0</td><td>14-16</td></tr><tr><td>Vitamin B6 (mg)</td><td>0.52</td><td>0.8</td><td>0.10</td><td>0.8</td><td>1.3-1.7</td></tr><tr><td>Vitamin B12 (ug)</td><td>2.5</td><td>1.6</td><td>0.96</td><td>2.8</td><td>2.4</td></tr><tr><td>Pantothenic acid (mg)</td><td>0.35</td><td>1.50</td><td>0.74</td><td>1.33</td><td>4-6</td></tr><tr><td>Vitamin A (ug)</td><td>&lt;5</td><td>&lt;5</td><td>8.6</td><td>7.8</td><td>700-900ug RE*</td></tr><tr><td>Beta-carotene (ug)</td><td>10</td><td>&lt;5</td><td>&lt;5</td><td>&lt;5</td><td>700-900pg RE*</td></tr><tr><td>Alpha-tocopherol (mg)</td><td>0.63</td><td>0.50</td><td>0.44</td><td>0.20</td><td>7-10</td></tr><tr><td>Sodium (mg)</td><td>51</td><td>51</td><td>69</td><td>71</td><td>460-920</td></tr><tr><td>Potassium (mg)</td><td>363</td><td>362</td><td>344</td><td>365</td><td>2800-3800</td></tr><tr><td>Calcium (mg)</td><td>4.5</td><td>6.5</td><td>7.2</td><td>6.6</td><td>1000-1300</td></tr><tr><td>Iron (mg)</td><td>1.8</td><td>1.1</td><td>2.0</td><td>3.3</td><td>8-18</td></tr><tr><td>Zinc (mg)</td><td>4.6</td><td>4.2</td><td>4.5</td><td>3.9</td><td>8-14</td></tr><tr><td>Magnesium (mg)</td><td>25</td><td>26</td><td>28</td><td>28</td><td>310-420</td></tr><tr><td>Phosphorus (mg)</td><td>215</td><td>260</td><td>194</td><td>290</td><td>1000</td></tr><tr><td>Copper (mg)</td><td>0.12</td><td>0.08</td><td>0.12</td><td>0.22</td><td>1.2-1.7</td></tr></table>',\n",
       "  '<table><tr><td/><td>Beef</td><td>Veal</td><td>Lamb</td><td>Mutton</td><td>Adult Australian RDI</td></tr><tr><td>Moisture (g)</td><td>73.1</td><td>74.8</td><td>72.9</td><td>73.2</td><td/></tr><tr><td>Protein (g)</td><td>23.2</td><td>24.8</td><td>21.9</td><td>21.5</td><td>46-64</td></tr><tr><td>Fat (g)</td><td>2.8</td><td>1.5</td><td>4.7</td><td>4.0</td><td>-</td></tr><tr><td>Energy (kJ)</td><td>498</td><td>477</td><td>546</td><td>514</td><td>6.5-15.8MJ</td></tr><tr><td>Cholesterol (mg)</td><td>50</td><td>51</td><td>66</td><td>66</td><td>-</td></tr><tr><td>Thiamin (mg)</td><td>0.04</td><td>0.06</td><td>0.12</td><td>0.16</td><td>1.1-1.2</td></tr><tr><td>Riboflavin (mg)</td><td>0.18</td><td>0.20</td><td>0.23</td><td>0.25</td><td>1.1-1.6</td></tr><tr><td>Niacin (mg)</td><td>5.0</td><td>16.0</td><td>5.2</td><td>8.0</td><td>14-16</td></tr><tr><td>Vitamin B6 (mg)</td><td>0.52</td><td>0.8</td><td>0.10</td><td>0.8</td><td>1.3-1.7</td></tr><tr><td>Vitamin B12 (ug)</td><td>2.5</td><td>1.6</td><td>0.96</td><td>2.8</td><td>2.4</td></tr><tr><td>Pantothenic acid (mg)</td><td>0.35</td><td>1.50</td><td>0.74</td><td>1.33</td><td>4-6</td></tr><tr><td>Vitamin A (ug)</td><td>&lt;5</td><td>&lt;5</td><td>8.6</td><td>7.8</td><td>700-900ug RE*</td></tr><tr><td>Beta-carotene (ug)</td><td>10</td><td>&lt;5</td><td>&lt;5</td><td>&lt;5</td><td>700-900pg RE*</td></tr><tr><td>Alpha-tocopherol (mg)</td><td>0.63</td><td>0.50</td><td>0.44</td><td>0.20</td><td>7-10</td></tr><tr><td>Sodium (mg)</td><td>51</td><td>51</td><td>69</td><td>71</td><td>460-920</td></tr><tr><td>Potassium (mg)</td><td>363</td><td>362</td><td>344</td><td>365</td><td>2800-3800</td></tr><tr><td>Calcium (mg)</td><td>4.5</td><td>6.5</td><td>7.2</td><td>6.6</td><td>1000-1300</td></tr><tr><td>Iron (mg)</td><td>1.8</td><td>1.1</td><td>2.0</td><td>3.3</td><td>8-18</td></tr><tr><td>Zinc (mg)</td><td>4.6</td><td>4.2</td><td>4.5</td><td>3.9</td><td>8-14</td></tr><tr><td>Magnesium (mg)</td><td>25</td><td>26</td><td>28</td><td>28</td><td>310-420</td></tr><tr><td>Phosphorus (mg)</td><td>215</td><td>260</td><td>194</td><td>290</td><td>1000</td></tr><tr><td>Copper (mg)</td><td>0.12</td><td>0.08</td><td>0.12</td><td>0.22</td><td>1.2-1.7</td></tr></table>',\n",
       "  '<table><tr><td/><td>Beef</td><td>Veal</td><td>Lamb</td><td>Mutton</td><td>Adult Australian RDI</td></tr><tr><td>Moisture (g)</td><td>73.1</td><td>74.8</td><td>72.9</td><td>73.2</td><td/></tr><tr><td>Protein (g)</td><td>23.2</td><td>24.8</td><td>21.9</td><td>21.5</td><td>46-64</td></tr><tr><td>Fat (g)</td><td>2.8</td><td>1.5</td><td>4.7</td><td>4.0</td><td>-</td></tr><tr><td>Energy (kJ)</td><td>498</td><td>477</td><td>546</td><td>514</td><td>6.5-15.8MJ</td></tr><tr><td>Cholesterol (mg)</td><td>50</td><td>51</td><td>66</td><td>66</td><td>-</td></tr><tr><td>Thiamin (mg)</td><td>0.04</td><td>0.06</td><td>0.12</td><td>0.16</td><td>1.1-1.2</td></tr><tr><td>Riboflavin (mg)</td><td>0.18</td><td>0.20</td><td>0.23</td><td>0.25</td><td>1.1-1.6</td></tr><tr><td>Niacin (mg)</td><td>5.0</td><td>16.0</td><td>5.2</td><td>8.0</td><td>14-16</td></tr><tr><td>Vitamin B6 (mg)</td><td>0.52</td><td>0.8</td><td>0.10</td><td>0.8</td><td>1.3-1.7</td></tr><tr><td>Vitamin B12 (ug)</td><td>2.5</td><td>1.6</td><td>0.96</td><td>2.8</td><td>2.4</td></tr><tr><td>Pantothenic acid (mg)</td><td>0.35</td><td>1.50</td><td>0.74</td><td>1.33</td><td>4-6</td></tr><tr><td>Vitamin A (ug)</td><td>&lt;5</td><td>&lt;5</td><td>8.6</td><td>7.8</td><td>700-900ug RE*</td></tr><tr><td>Beta-carotene (ug)</td><td>10</td><td>&lt;5</td><td>&lt;5</td><td>&lt;5</td><td>700-900pg RE*</td></tr><tr><td>Alpha-tocopherol (mg)</td><td>0.63</td><td>0.50</td><td>0.44</td><td>0.20</td><td>7-10</td></tr><tr><td>Sodium (mg)</td><td>51</td><td>51</td><td>69</td><td>71</td><td>460-920</td></tr><tr><td>Potassium (mg)</td><td>363</td><td>362</td><td>344</td><td>365</td><td>2800-3800</td></tr><tr><td>Calcium (mg)</td><td>4.5</td><td>6.5</td><td>7.2</td><td>6.6</td><td>1000-1300</td></tr><tr><td>Iron (mg)</td><td>1.8</td><td>1.1</td><td>2.0</td><td>3.3</td><td>8-18</td></tr><tr><td>Zinc (mg)</td><td>4.6</td><td>4.2</td><td>4.5</td><td>3.9</td><td>8-14</td></tr><tr><td>Magnesium (mg)</td><td>25</td><td>26</td><td>28</td><td>28</td><td>310-420</td></tr><tr><td>Phosphorus (mg)</td><td>215</td><td>260</td><td>194</td><td>290</td><td>1000</td></tr><tr><td>Copper (mg)</td><td>0.12</td><td>0.08</td><td>0.12</td><td>0.22</td><td>1.2-1.7</td></tr></table>',\n",
       "  '<table><tr><td/><td>Beef</td><td>Veal</td><td>Lamb</td><td>Mutton</td><td>Adult Australian RDI</td></tr><tr><td>Moisture (g)</td><td>73.1</td><td>74.8</td><td>72.9</td><td>73.2</td><td/></tr><tr><td>Protein (g)</td><td>23.2</td><td>24.8</td><td>21.9</td><td>21.5</td><td>46-64</td></tr><tr><td>Fat (g)</td><td>2.8</td><td>1.5</td><td>4.7</td><td>4.0</td><td>-</td></tr><tr><td>Energy (kJ)</td><td>498</td><td>477</td><td>546</td><td>514</td><td>6.5-15.8MJ</td></tr><tr><td>Cholesterol (mg)</td><td>50</td><td>51</td><td>66</td><td>66</td><td>-</td></tr><tr><td>Thiamin (mg)</td><td>0.04</td><td>0.06</td><td>0.12</td><td>0.16</td><td>1.1-1.2</td></tr><tr><td>Riboflavin (mg)</td><td>0.18</td><td>0.20</td><td>0.23</td><td>0.25</td><td>1.1-1.6</td></tr><tr><td>Niacin (mg)</td><td>5.0</td><td>16.0</td><td>5.2</td><td>8.0</td><td>14-16</td></tr><tr><td>Vitamin B6 (mg)</td><td>0.52</td><td>0.8</td><td>0.10</td><td>0.8</td><td>1.3-1.7</td></tr><tr><td>Vitamin B12 (ug)</td><td>2.5</td><td>1.6</td><td>0.96</td><td>2.8</td><td>2.4</td></tr><tr><td>Pantothenic acid (mg)</td><td>0.35</td><td>1.50</td><td>0.74</td><td>1.33</td><td>4-6</td></tr><tr><td>Vitamin A (ug)</td><td>&lt;5</td><td>&lt;5</td><td>8.6</td><td>7.8</td><td>700-900ug RE*</td></tr><tr><td>Beta-carotene (ug)</td><td>10</td><td>&lt;5</td><td>&lt;5</td><td>&lt;5</td><td>700-900pg RE*</td></tr><tr><td>Alpha-tocopherol (mg)</td><td>0.63</td><td>0.50</td><td>0.44</td><td>0.20</td><td>7-10</td></tr><tr><td>Sodium (mg)</td><td>51</td><td>51</td><td>69</td><td>71</td><td>460-920</td></tr><tr><td>Potassium (mg)</td><td>363</td><td>362</td><td>344</td><td>365</td><td>2800-3800</td></tr><tr><td>Calcium (mg)</td><td>4.5</td><td>6.5</td><td>7.2</td><td>6.6</td><td>1000-1300</td></tr><tr><td>Iron (mg)</td><td>1.8</td><td>1.1</td><td>2.0</td><td>3.3</td><td>8-18</td></tr><tr><td>Zinc (mg)</td><td>4.6</td><td>4.2</td><td>4.5</td><td>3.9</td><td>8-14</td></tr><tr><td>Magnesium (mg)</td><td>25</td><td>26</td><td>28</td><td>28</td><td>310-420</td></tr><tr><td>Phosphorus (mg)</td><td>215</td><td>260</td><td>194</td><td>290</td><td>1000</td></tr><tr><td>Copper (mg)</td><td>0.12</td><td>0.08</td><td>0.12</td><td>0.22</td><td>1.2-1.7</td></tr></table>'],\n",
       " 'question': 'What is the nutrient composition of beef, veal, lamb and mutton',\n",
       " 'response': 'The nutrient composition of beef, veal, lamb, and mutton is as follows:\\n\\n| Nutrient               | Beef     | Veal     | Lamb     | Mutton   |\\n|-----------------------|----------|----------|----------|----------|\\n| Moisture (g)          | 73.1     | 74.8     | 72.9     | 73.2     |\\n| Protein (g)           | 23.2     | 24.8     | 21.9     | 21.5     |\\n| Fat (g)               | 2.8      | 1.5      | 4.7      | 4.0      |\\n| Energy (kJ)           | 498      | 477      | 546      | 514      |\\n| Cholesterol (mg)      | 50       | 51       | 66       | 66       |\\n| Thiamin (mg)          | 0.04     | 0.06     | 0.12     | 0.16     |\\n| Riboflavin (mg)       | 0.18     | 0.20     | 0.23     | 0.25     |\\n| Niacin (mg)           | 5.0      | 16.0     | 5.2      | 8.0      |\\n| Vitamin B6 (mg)       | 0.52     | 0.8      | 0.10     | 0.8      |\\n| Vitamin B12 (µg)      | 2.5      | 1.6      | 0.96     | 2.8      |\\n| Pantothenic acid (mg) | 0.35     | 1.50     | 0.74     | 1.33     |\\n| Vitamin A (µg)        | <5       | <5       | 8.6      | 7.8      |\\n| Beta-carotene (µg)    | 10       | <5       | <5       | <5       |\\n| Alpha-tocopherol (mg) | 0.63     | 0.50     | 0.44     | 0.20     |\\n| Sodium (mg)           | 51       | 51       | 69       | 71       |\\n| Potassium (mg)        | 363      | 362      | 344      | 365      |\\n| Calcium (mg)          | 4.5      | 6.5      | 7.2      | 6.6      |\\n| Iron (mg)             | 1.8      | 1.1      | 2.0      | 3.3      |\\n| Zinc (mg)             | 4.6      | 4.2      | 4.5      | 3.9      |\\n| Magnesium (mg)        | 25       | 26       | 28       | 28       |\\n| Phosphorus (mg)       | 215      | 260      | 194      | 290      |\\n| Copper (mg)           | 0.12     | 0.08     | 0.12     | 0.22     |'}"
      ]
     },
     "execution_count": 94,
     "metadata": {},
     "output_type": "execute_result"
    }
   ],
   "source": [
    "response"
   ]
  },
  {
   "cell_type": "code",
   "execution_count": null,
   "metadata": {},
   "outputs": [],
   "source": []
  },
  {
   "cell_type": "code",
   "execution_count": 44,
   "metadata": {},
   "outputs": [],
   "source": [
    "response = rag_chain.invoke(\"What is the nutrient composition of organ meats\")"
   ]
  },
  {
   "cell_type": "code",
   "execution_count": 51,
   "metadata": {},
   "outputs": [
    {
     "data": {
      "text/plain": [
       "{'context': [b'Table 1. Nutrient composition (per 100g) of lean red meat [4-6]',\n",
       "  b'1. Average values from 2002 analyses of Australian red meat [17]\\n\\n2. Values for raw lean chicken breast from NUTTAB 2006 [38]\\n\\n3. Values for raw lean pork fillet from NUTTAB 2006 [38]\\n\\n4. Values for raw flathead from NUTTAB 2006 [38]\\n\\n5. Values for canned red salmon from NUTTAB 2006 [38]\\n\\n9\\n\\nTable 5. Selected nutrients (per 100g) in raw liver, kidney, heart, brain and tripe 1',\n",
       "  b'<table><tr><td/><td>Liver</td><td>Kidney</td><td>Heart</td><td/><td>Brain</td><td>Tripe Beef</td></tr><tr><td/><td>Beef</td><td>Lamb</td><td>Beef</td><td>Lamb</td><td>Beef</td><td>Lamb</td><td>Lamb</td></tr><tr><td>Protein (g)</td><td>20.0</td><td>21.4</td><td>18.2</td><td>17.1</td><td>18.2</td><td>17.8</td><td>12.3</td><td>13.2</td></tr><tr><td>Fat (g)</td><td>8.6</td><td>7.5</td><td>1.6</td><td>2.5</td><td>3.0</td><td>5.6</td><td>8.0</td><td>2.1</td></tr><tr><td>Saturated fat (g)</td><td>2.8</td><td>2.2</td><td>0.6</td><td>0.9</td><td>1.2</td><td>2.3</td><td>2.2</td><td>0.9</td></tr><tr><td>Long-chain omega-3 fat (mg)</td><td>561</td><td>361</td><td>47</td><td>103</td><td>54</td><td>102</td><td>574</td><td>20</td></tr><tr><td>Cholesterol (mg)</td><td>271</td><td>433</td><td>313</td><td>338</td><td>103</td><td>129</td><td>1352</td><td>82</td></tr><tr><td>Thiamin (mg)</td><td>0.23</td><td>0.24</td><td>0.40</td><td>0.56</td><td>0.50</td><td>0.61</td><td>0.14</td><td>0</td></tr><tr><td>Riboflavin (mg)</td><td>4.80</td><td>2.80</td><td>3.60</td><td>2.10</td><td>1.50</td><td>1.10</td><td>0.40</td><td>0.10</td></tr><tr><td>Niacin (mg)</td><td>9.4</td><td>10.9</td><td>6.5</td><td>7.6</td><td>6.9</td><td>5.9</td><td>5.1</td><td>0.2</td></tr><tr><td>Folate (ug)</td><td>290</td><td>230</td><td>98</td><td>28</td><td>3</td><td>2</td><td>3</td><td>5</td></tr><tr><td>Vitamin B12 (ug)</td><td>59</td><td>90</td><td>28</td><td>52</td><td>9</td><td>10</td><td>11</td><td>1</td></tr><tr><td>Retinol equivalents (ug)</td><td>13877</td><td>31400</td><td>155</td><td>93</td><td>10</td><td>0</td><td>0</td><td>0</td></tr><tr><td>Zinc (mg)</td><td>3.6</td><td>4.3</td><td>1.8</td><td>2.6</td><td>1.6</td><td>1.6</td><td>1.1</td><td>1.2</td></tr><tr><td>Iron (mg)</td><td>5.8</td><td>9.5</td><td>5.4</td><td>9.8</td><td>5.0</td><td>3.9</td><td>1.7</td><td>0.4</td></tr><tr><td>Magnesium (mg)</td><td>15</td><td>19</td><td>15</td><td>16</td><td>17</td><td>17</td><td>12</td><td>6</td></tr><tr><td>Sodium (mg)</td><td>78</td><td>67</td><td>160</td><td>190</td><td>91</td><td>82</td><td>120</td><td>100</td></tr><tr><td>Potassium (mg)</td><td>320</td><td>300</td><td>250</td><td>260</td><td>280</td><td>260</td><td>340</td><td>23</td></tr></table>'],\n",
       " 'question': 'What is the nutrient composition of organ meats',\n",
       " 'response': 'The nutrient composition of organ meats (per 100g) as provided in the context is as follows:\\n\\n**Liver (Beef)**:\\n- Protein: 20.0 g\\n- Fat: 8.6 g\\n- Saturated fat: 2.8 g\\n- Long-chain omega-3 fat: 561 mg\\n- Cholesterol: 271 mg\\n- Thiamin: 0.23 mg\\n- Riboflavin: 4.80 mg\\n- Niacin: 9.4 mg\\n- Folate: 290 µg\\n- Vitamin B12: 59 µg\\n- Retinol equivalents: 13877 µg\\n- Zinc: 3.6 mg\\n- Iron: 5.8 mg\\n- Magnesium: 15 mg\\n- Sodium: 78 mg\\n- Potassium: 320 mg\\n\\n**Kidney (Beef)**:\\n- Protein: 21.4 g\\n- Fat: 7.5 g\\n- Saturated fat: 2.2 g\\n- Long-chain omega-3 fat: 361 mg\\n- Cholesterol: 433 mg\\n- Thiamin: 0.24 mg\\n- Riboflavin: 2.80 mg\\n- Niacin: 10.9 mg\\n- Folate: 230 µg\\n- Vitamin B12: 90 µg\\n- Retinol equivalents: 31400 µg\\n- Zinc: 4.3 mg\\n- Iron: 9.5 mg\\n- Magnesium: 19 mg\\n- Sodium: 67 mg\\n- Potassium: 300 mg\\n\\n**Heart (Beef)**:\\n- Protein: 18.2 g\\n- Fat: 1.6 g\\n- Saturated fat: 0.6 g\\n- Long-chain omega-3 fat: 47 mg\\n- Cholesterol: 313 mg\\n- Thiamin: 0.40 mg\\n- Riboflavin: 3.60 mg\\n- Niacin: 6.5 mg\\n- Folate: 98 µg\\n- Vitamin B12: 28 µg\\n- Retinol equivalents: 155 µg\\n- Zinc: 1.8 mg\\n- Iron: 5.4 mg\\n- Magnesium: 15 mg\\n- Sodium: 160 mg\\n- Potassium: 250 mg\\n\\n**Brain (Beef)**:\\n- Protein: 18.2 g\\n- Fat: 3.0 g\\n- Saturated fat: 1.2 g\\n- Long-chain omega-3 fat: 54 mg\\n- Cholesterol: 103 mg\\n- Thiamin: 0.50 mg\\n- Riboflavin: 1.50 mg\\n- Niacin: 6.9 mg\\n- Folate: 3 µg\\n- Vitamin B12: 9 µg\\n- Retinol equivalents: 10 µg\\n- Zinc: 1.6 mg\\n- Iron: 5.0 mg\\n- Magnesium: 17 mg\\n- Sodium: 91 mg\\n- Potassium: 280 mg\\n\\n**Tripe (Beef)**:\\n- Protein: 17.8 g\\n- Fat: 5.6 g\\n- Saturated fat: 2.3 g\\n- Long-chain omega-3 fat: 102 mg\\n- Cholesterol: 129 mg\\n- Thiamin: 0.61 mg\\n- Riboflavin: 1.10 mg\\n- Niacin: 5.9 mg\\n- Folate: 2 µg\\n- Vitamin B12: 10 µg\\n- Retinol equivalents: 0 µg\\n- Zinc: 1.6 mg\\n- Iron: 3.9 mg\\n- Magnesium: 17 mg\\n- Sodium: 82 mg\\n- Potassium: 260 mg\\n\\n**Heart (Lamb)**:\\n- Protein: 17.1 g\\n- Fat: 2.5 g\\n- Saturated fat: 0.9 g\\n- Long-chain omega-3 fat: 103 mg\\n- Cholesterol: 338 mg\\n- Thiamin: 0.56 mg\\n- Riboflavin: 2.10 mg\\n- Niacin: 7.6 mg\\n- Folate: 28 µg\\n- Vitamin B12: 52 µg\\n- Retinol equivalents: 93 µg\\n- Zinc: 2.6 mg\\n- Iron: 9.8 mg\\n- Magnesium: 16 mg\\n- Sodium: 190 mg\\n- Potassium: 260 mg\\n\\n**Tripe (Lamb)**:\\n- Protein: 12.3 g\\n- Fat: 8.0 g\\n- Saturated fat: 2.2 g\\n- Long-chain omega-3 fat: 574 mg\\n- Cholesterol: 1352 mg\\n- Thiamin: 0.14 mg\\n- Riboflavin: 0.40 mg\\n- Niacin: 5.1 mg\\n- Folate: 3 µg\\n- Vitamin B12: 11 µg\\n- Retinol equivalents: 0 µg\\n- Zinc: 1.1 mg\\n- Iron: 1.7 mg\\n- Magnesium: 12 mg\\n- Sodium: 120 mg\\n- Potassium: 340 mg\\n\\n**Tripe (Lamb)**:\\n- Protein: 13.2 g\\n- Fat: 2.1 g\\n- Saturated fat: 0.9 g\\n- Long-chain omega-3 fat: 20 mg\\n- Cholesterol: 82 mg\\n- Thiamin: 0 mg\\n- Riboflavin: 0.10 mg\\n- Niacin: 0.2 mg\\n- Folate: 5 µg\\n- Vitamin B12: 1 µg\\n- Retinol equivalents: 0 µg\\n- Zinc: 1.2 mg\\n- Iron: 0.4 mg\\n- Magnesium: 6 mg\\n- Sodium: 100 mg\\n- Potassium: 23 mg\\n\\nThis summarizes the nutrient composition of various organ meats based on the provided data.'}"
      ]
     },
     "execution_count": 51,
     "metadata": {},
     "output_type": "execute_result"
    }
   ],
   "source": [
    "response"
   ]
  },
  {
   "cell_type": "markdown",
   "metadata": {},
   "source": []
  },
  {
   "cell_type": "code",
   "execution_count": 95,
   "metadata": {},
   "outputs": [],
   "source": [
    "response = rag_chain.invoke(\"What is Meat?\")"
   ]
  },
  {
   "cell_type": "code",
   "execution_count": 96,
   "metadata": {},
   "outputs": [
    {
     "name": "stdout",
     "output_type": "stream",
     "text": [
      "Meat is defined by the Food Standards Australia New Zealand (FSANZ) Food Standard Code as ‘the whole or part of the carcass of any buffalo, camel, cattle, deer, goat, hare, pig, poultry, rabbit or sheep, slaughtered other than in a wild state, but does not include eggs, or foetuses.’ This definition excludes kangaroo meat, which is widely available in Australia and is generally considered meat by most Australians.\n",
      "\n",
      "The term ‘meat’ commonly refers to meat flesh (skeletal muscle along with any attached connective tissue or fat), but the FSANZ definition also includes offal (meat other than meat flesh, such as brain, heart, kidney, liver, pancreas, spleen, thymus, tongue, and tripe), while excluding bone and bone marrow.\n",
      "\n",
      "In the context of Australia, ‘red meat’ refers specifically to meat from cattle, sheep, and goats (including beef, veal, lamb, mutton, and goat meat). It does not include meat from pigs (such as pork, bacon, and ham) or kangaroo, nor does it encompass less common game meats like buffalo and camel. Typically, purchased red meat consists of both lean tissue (muscle) and fat tissue, which may be distributed throughout the muscle as marbling (internal fat) or surrounding the muscle as external fat (selvage). In trimmed lean meat, only the external fat is usually removed.\n",
      "\n",
      "Processed meat is defined as a product containing no less than 30% meat that has undergone a preservation method other than freezing, including manufactured meat and cured or dried meat flesh (such as sausages, salami, and canned meats).\n"
     ]
    }
   ],
   "source": [
    "print(response['response'])"
   ]
  },
  {
   "cell_type": "code",
   "execution_count": null,
   "metadata": {},
   "outputs": [],
   "source": []
  },
  {
   "cell_type": "code",
   "execution_count": null,
   "metadata": {},
   "outputs": [],
   "source": []
  }
 ],
 "metadata": {
  "kernelspec": {
   "display_name": "Python 3",
   "language": "python",
   "name": "python3"
  },
  "language_info": {
   "codemirror_mode": {
    "name": "ipython",
    "version": 3
   },
   "file_extension": ".py",
   "mimetype": "text/x-python",
   "name": "python",
   "nbconvert_exporter": "python",
   "pygments_lexer": "ipython3",
   "version": "3.12.9"
  }
 },
 "nbformat": 4,
 "nbformat_minor": 2
}
